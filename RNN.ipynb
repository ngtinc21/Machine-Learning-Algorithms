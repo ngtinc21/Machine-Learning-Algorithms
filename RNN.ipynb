{
  "nbformat": 4,
  "nbformat_minor": 0,
  "metadata": {
    "colab": {
      "name": "RNN.ipynb",
      "provenance": [],
      "authorship_tag": "ABX9TyMpzXXu3jOmeqEfc6DXzDa1",
      "include_colab_link": true
    },
    "kernelspec": {
      "name": "python3",
      "display_name": "Python 3"
    },
    "language_info": {
      "name": "python"
    }
  },
  "cells": [
    {
      "cell_type": "markdown",
      "metadata": {
        "id": "view-in-github",
        "colab_type": "text"
      },
      "source": [
        "<a href=\"https://colab.research.google.com/github/ngtinc21/Machine-Learning-Algorithms/blob/main/RNN.ipynb\" target=\"_parent\"><img src=\"https://colab.research.google.com/assets/colab-badge.svg\" alt=\"Open In Colab\"/></a>"
      ]
    },
    {
      "cell_type": "markdown",
      "source": [
        "## **Overview of Recurrent Neural Network**\n",
        "A recurrent neural network (RNN) is a special type of an artificial neural network adapted to work for time series data or data that involves sequences, e.g. natural language processing (NLP).\n",
        "\n",
        "\n",
        "\n"
      ],
      "metadata": {
        "id": "B-iw-YE67ose"
      }
    },
    {
      "cell_type": "code",
      "execution_count": null,
      "metadata": {
        "id": "JVKsvS7T66B1"
      },
      "outputs": [],
      "source": [
        ""
      ]
    }
  ]
}