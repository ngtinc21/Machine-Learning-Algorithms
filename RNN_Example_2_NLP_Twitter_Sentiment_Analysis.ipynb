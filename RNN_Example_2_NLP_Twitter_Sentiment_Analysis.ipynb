{
  "nbformat": 4,
  "nbformat_minor": 0,
  "metadata": {
    "colab": {
      "name": "RNN_Example_2_NLP_Twitter_Sentiment_Analysis.ipynb",
      "provenance": [],
      "collapsed_sections": [
        "Pr2sA_WKRbIv",
        "g4T69CifZoo3",
        "LSIuZ9bsxFhg"
      ],
      "include_colab_link": true
    },
    "kernelspec": {
      "name": "python3",
      "display_name": "Python 3"
    },
    "language_info": {
      "name": "python"
    }
  },
  "cells": [
    {
      "cell_type": "markdown",
      "metadata": {
        "id": "view-in-github",
        "colab_type": "text"
      },
      "source": [
        "<a href=\"https://colab.research.google.com/github/ngtinc21/Machine-Learning-Algorithms/blob/main/RNN_Example_2_NLP_Twitter_Sentiment_Analysis.ipynb\" target=\"_parent\"><img src=\"https://colab.research.google.com/assets/colab-badge.svg\" alt=\"Open In Colab\"/></a>"
      ]
    },
    {
      "cell_type": "markdown",
      "source": [
        "# **NLP Twitter Sentiment Analysis - Positive/Negative Sentiment**\n",
        "\n",
        "The example is to analyze the nature of Tweets using NLP. The word limit of a single tweet has 140 characters. Since the analysis is a supervised learning task, the training dataset which consists of Tweets labeled with “1” or “0” and a test dataset without labels.\n",
        "\n",
        "The training data consists of Tweets labeled with \"1\" or \"0\".\n",
        "\n",
        "Label “0”: Positive Sentiment\n",
        "Label “1”: Negative Sentiment\n",
        "\n",
        "  * `train_tweets.csv` contains Training dataset which consists of Tweets labeled “1” or “0”\n",
        "  * `test_tweets.csv` contains Test dataset without labels.\n"
      ],
      "metadata": {
        "id": "bmDgt6ZBd8He"
      }
    },
    {
      "cell_type": "markdown",
      "metadata": {
        "id": "yM14uElY8_9E"
      },
      "source": [
        "## **1. Data Acquisition**"
      ]
    },
    {
      "cell_type": "markdown",
      "metadata": {
        "id": "bTkie2OpAStx"
      },
      "source": [
        "**Importing required libraries**"
      ]
    },
    {
      "cell_type": "code",
      "metadata": {
        "id": "L7P1b3KhrrN3"
      },
      "source": [
        "import pandas as pd\n",
        "import matplotlib.pyplot as plt\n",
        "import seaborn as sns"
      ],
      "execution_count": 1,
      "outputs": []
    },
    {
      "cell_type": "markdown",
      "metadata": {
        "id": "8OExN-4P9KaO"
      },
      "source": [
        "### **Downloading Data**\n"
      ]
    },
    {
      "cell_type": "code",
      "metadata": {
        "colab": {
          "base_uri": "https://localhost:8080/"
        },
        "id": "vWClOleMlyA7",
        "outputId": "f7f08e8d-f973-47d9-ccbf-15ca7e326575"
      },
      "source": [
        "! git clone https://github.com/MohamedAfham/Twitter-Sentiment-Analysis-Supervised-Learning"
      ],
      "execution_count": 2,
      "outputs": [
        {
          "output_type": "stream",
          "name": "stdout",
          "text": [
            "Cloning into 'Twitter-Sentiment-Analysis-Supervised-Learning'...\n",
            "remote: Enumerating objects: 24, done.\u001b[K\n",
            "remote: Counting objects: 100% (24/24), done.\u001b[K\n",
            "remote: Compressing objects: 100% (16/16), done.\u001b[K\n",
            "remote: Total 24 (delta 5), reused 24 (delta 5), pack-reused 0\u001b[K\n",
            "Unpacking objects: 100% (24/24), done.\n"
          ]
        }
      ]
    },
    {
      "cell_type": "markdown",
      "metadata": {
        "id": "JZeO-gvdqS74"
      },
      "source": [
        "### **Loading Data**"
      ]
    },
    {
      "cell_type": "code",
      "metadata": {
        "id": "IAvxTEVXsT16",
        "colab": {
          "base_uri": "https://localhost:8080/",
          "height": 423
        },
        "outputId": "52ddcc39-173a-47cb-cf33-7eb9d8d2c16b"
      },
      "source": [
        "train_tweets= pd.read_csv(\"/content/Twitter-Sentiment-Analysis-Supervised-Learning/Data/train_tweets.csv\")\n",
        "train_tweets"
      ],
      "execution_count": 3,
      "outputs": [
        {
          "output_type": "execute_result",
          "data": {
            "text/html": [
              "\n",
              "  <div id=\"df-e8c02741-3ba9-4f72-b673-5b8a4db33b32\">\n",
              "    <div class=\"colab-df-container\">\n",
              "      <div>\n",
              "<style scoped>\n",
              "    .dataframe tbody tr th:only-of-type {\n",
              "        vertical-align: middle;\n",
              "    }\n",
              "\n",
              "    .dataframe tbody tr th {\n",
              "        vertical-align: top;\n",
              "    }\n",
              "\n",
              "    .dataframe thead th {\n",
              "        text-align: right;\n",
              "    }\n",
              "</style>\n",
              "<table border=\"1\" class=\"dataframe\">\n",
              "  <thead>\n",
              "    <tr style=\"text-align: right;\">\n",
              "      <th></th>\n",
              "      <th>id</th>\n",
              "      <th>label</th>\n",
              "      <th>tweet</th>\n",
              "    </tr>\n",
              "  </thead>\n",
              "  <tbody>\n",
              "    <tr>\n",
              "      <th>0</th>\n",
              "      <td>1</td>\n",
              "      <td>0</td>\n",
              "      <td>@user when a father is dysfunctional and is s...</td>\n",
              "    </tr>\n",
              "    <tr>\n",
              "      <th>1</th>\n",
              "      <td>2</td>\n",
              "      <td>0</td>\n",
              "      <td>@user @user thanks for #lyft credit i can't us...</td>\n",
              "    </tr>\n",
              "    <tr>\n",
              "      <th>2</th>\n",
              "      <td>3</td>\n",
              "      <td>0</td>\n",
              "      <td>bihday your majesty</td>\n",
              "    </tr>\n",
              "    <tr>\n",
              "      <th>3</th>\n",
              "      <td>4</td>\n",
              "      <td>0</td>\n",
              "      <td>#model   i love u take with u all the time in ...</td>\n",
              "    </tr>\n",
              "    <tr>\n",
              "      <th>4</th>\n",
              "      <td>5</td>\n",
              "      <td>0</td>\n",
              "      <td>factsguide: society now    #motivation</td>\n",
              "    </tr>\n",
              "    <tr>\n",
              "      <th>...</th>\n",
              "      <td>...</td>\n",
              "      <td>...</td>\n",
              "      <td>...</td>\n",
              "    </tr>\n",
              "    <tr>\n",
              "      <th>31957</th>\n",
              "      <td>31958</td>\n",
              "      <td>0</td>\n",
              "      <td>ate @user isz that youuu?ðððððð...</td>\n",
              "    </tr>\n",
              "    <tr>\n",
              "      <th>31958</th>\n",
              "      <td>31959</td>\n",
              "      <td>0</td>\n",
              "      <td>to see nina turner on the airwaves trying to...</td>\n",
              "    </tr>\n",
              "    <tr>\n",
              "      <th>31959</th>\n",
              "      <td>31960</td>\n",
              "      <td>0</td>\n",
              "      <td>listening to sad songs on a monday morning otw...</td>\n",
              "    </tr>\n",
              "    <tr>\n",
              "      <th>31960</th>\n",
              "      <td>31961</td>\n",
              "      <td>1</td>\n",
              "      <td>@user #sikh #temple vandalised in in #calgary,...</td>\n",
              "    </tr>\n",
              "    <tr>\n",
              "      <th>31961</th>\n",
              "      <td>31962</td>\n",
              "      <td>0</td>\n",
              "      <td>thank you @user for you follow</td>\n",
              "    </tr>\n",
              "  </tbody>\n",
              "</table>\n",
              "<p>31962 rows × 3 columns</p>\n",
              "</div>\n",
              "      <button class=\"colab-df-convert\" onclick=\"convertToInteractive('df-e8c02741-3ba9-4f72-b673-5b8a4db33b32')\"\n",
              "              title=\"Convert this dataframe to an interactive table.\"\n",
              "              style=\"display:none;\">\n",
              "        \n",
              "  <svg xmlns=\"http://www.w3.org/2000/svg\" height=\"24px\"viewBox=\"0 0 24 24\"\n",
              "       width=\"24px\">\n",
              "    <path d=\"M0 0h24v24H0V0z\" fill=\"none\"/>\n",
              "    <path d=\"M18.56 5.44l.94 2.06.94-2.06 2.06-.94-2.06-.94-.94-2.06-.94 2.06-2.06.94zm-11 1L8.5 8.5l.94-2.06 2.06-.94-2.06-.94L8.5 2.5l-.94 2.06-2.06.94zm10 10l.94 2.06.94-2.06 2.06-.94-2.06-.94-.94-2.06-.94 2.06-2.06.94z\"/><path d=\"M17.41 7.96l-1.37-1.37c-.4-.4-.92-.59-1.43-.59-.52 0-1.04.2-1.43.59L10.3 9.45l-7.72 7.72c-.78.78-.78 2.05 0 2.83L4 21.41c.39.39.9.59 1.41.59.51 0 1.02-.2 1.41-.59l7.78-7.78 2.81-2.81c.8-.78.8-2.07 0-2.86zM5.41 20L4 18.59l7.72-7.72 1.47 1.35L5.41 20z\"/>\n",
              "  </svg>\n",
              "      </button>\n",
              "      \n",
              "  <style>\n",
              "    .colab-df-container {\n",
              "      display:flex;\n",
              "      flex-wrap:wrap;\n",
              "      gap: 12px;\n",
              "    }\n",
              "\n",
              "    .colab-df-convert {\n",
              "      background-color: #E8F0FE;\n",
              "      border: none;\n",
              "      border-radius: 50%;\n",
              "      cursor: pointer;\n",
              "      display: none;\n",
              "      fill: #1967D2;\n",
              "      height: 32px;\n",
              "      padding: 0 0 0 0;\n",
              "      width: 32px;\n",
              "    }\n",
              "\n",
              "    .colab-df-convert:hover {\n",
              "      background-color: #E2EBFA;\n",
              "      box-shadow: 0px 1px 2px rgba(60, 64, 67, 0.3), 0px 1px 3px 1px rgba(60, 64, 67, 0.15);\n",
              "      fill: #174EA6;\n",
              "    }\n",
              "\n",
              "    [theme=dark] .colab-df-convert {\n",
              "      background-color: #3B4455;\n",
              "      fill: #D2E3FC;\n",
              "    }\n",
              "\n",
              "    [theme=dark] .colab-df-convert:hover {\n",
              "      background-color: #434B5C;\n",
              "      box-shadow: 0px 1px 3px 1px rgba(0, 0, 0, 0.15);\n",
              "      filter: drop-shadow(0px 1px 2px rgba(0, 0, 0, 0.3));\n",
              "      fill: #FFFFFF;\n",
              "    }\n",
              "  </style>\n",
              "\n",
              "      <script>\n",
              "        const buttonEl =\n",
              "          document.querySelector('#df-e8c02741-3ba9-4f72-b673-5b8a4db33b32 button.colab-df-convert');\n",
              "        buttonEl.style.display =\n",
              "          google.colab.kernel.accessAllowed ? 'block' : 'none';\n",
              "\n",
              "        async function convertToInteractive(key) {\n",
              "          const element = document.querySelector('#df-e8c02741-3ba9-4f72-b673-5b8a4db33b32');\n",
              "          const dataTable =\n",
              "            await google.colab.kernel.invokeFunction('convertToInteractive',\n",
              "                                                     [key], {});\n",
              "          if (!dataTable) return;\n",
              "\n",
              "          const docLinkHtml = 'Like what you see? Visit the ' +\n",
              "            '<a target=\"_blank\" href=https://colab.research.google.com/notebooks/data_table.ipynb>data table notebook</a>'\n",
              "            + ' to learn more about interactive tables.';\n",
              "          element.innerHTML = '';\n",
              "          dataTable['output_type'] = 'display_data';\n",
              "          await google.colab.output.renderOutput(dataTable, element);\n",
              "          const docLink = document.createElement('div');\n",
              "          docLink.innerHTML = docLinkHtml;\n",
              "          element.appendChild(docLink);\n",
              "        }\n",
              "      </script>\n",
              "    </div>\n",
              "  </div>\n",
              "  "
            ],
            "text/plain": [
              "          id  label                                              tweet\n",
              "0          1      0   @user when a father is dysfunctional and is s...\n",
              "1          2      0  @user @user thanks for #lyft credit i can't us...\n",
              "2          3      0                                bihday your majesty\n",
              "3          4      0  #model   i love u take with u all the time in ...\n",
              "4          5      0             factsguide: society now    #motivation\n",
              "...      ...    ...                                                ...\n",
              "31957  31958      0  ate @user isz that youuu?ðððððð...\n",
              "31958  31959      0    to see nina turner on the airwaves trying to...\n",
              "31959  31960      0  listening to sad songs on a monday morning otw...\n",
              "31960  31961      1  @user #sikh #temple vandalised in in #calgary,...\n",
              "31961  31962      0                   thank you @user for you follow  \n",
              "\n",
              "[31962 rows x 3 columns]"
            ]
          },
          "metadata": {},
          "execution_count": 3
        }
      ]
    },
    {
      "cell_type": "code",
      "metadata": {
        "id": "ylPjtURqs-72",
        "colab": {
          "base_uri": "https://localhost:8080/",
          "height": 423
        },
        "outputId": "ad0ee420-050c-49c0-a2d6-678428c2a729"
      },
      "source": [
        "test_tweets = pd.read_csv('/content/Twitter-Sentiment-Analysis-Supervised-Learning/Data/test_tweets.csv')\n",
        "test_tweets"
      ],
      "execution_count": 4,
      "outputs": [
        {
          "output_type": "execute_result",
          "data": {
            "text/html": [
              "\n",
              "  <div id=\"df-21a75063-3e26-48eb-96de-17702b09fdb0\">\n",
              "    <div class=\"colab-df-container\">\n",
              "      <div>\n",
              "<style scoped>\n",
              "    .dataframe tbody tr th:only-of-type {\n",
              "        vertical-align: middle;\n",
              "    }\n",
              "\n",
              "    .dataframe tbody tr th {\n",
              "        vertical-align: top;\n",
              "    }\n",
              "\n",
              "    .dataframe thead th {\n",
              "        text-align: right;\n",
              "    }\n",
              "</style>\n",
              "<table border=\"1\" class=\"dataframe\">\n",
              "  <thead>\n",
              "    <tr style=\"text-align: right;\">\n",
              "      <th></th>\n",
              "      <th>id</th>\n",
              "      <th>tweet</th>\n",
              "    </tr>\n",
              "  </thead>\n",
              "  <tbody>\n",
              "    <tr>\n",
              "      <th>0</th>\n",
              "      <td>31963</td>\n",
              "      <td>#studiolife #aislife #requires #passion #dedic...</td>\n",
              "    </tr>\n",
              "    <tr>\n",
              "      <th>1</th>\n",
              "      <td>31964</td>\n",
              "      <td>@user #white #supremacists want everyone to s...</td>\n",
              "    </tr>\n",
              "    <tr>\n",
              "      <th>2</th>\n",
              "      <td>31965</td>\n",
              "      <td>safe ways to heal your #acne!!    #altwaystohe...</td>\n",
              "    </tr>\n",
              "    <tr>\n",
              "      <th>3</th>\n",
              "      <td>31966</td>\n",
              "      <td>is the hp and the cursed child book up for res...</td>\n",
              "    </tr>\n",
              "    <tr>\n",
              "      <th>4</th>\n",
              "      <td>31967</td>\n",
              "      <td>3rd #bihday to my amazing, hilarious #nephew...</td>\n",
              "    </tr>\n",
              "    <tr>\n",
              "      <th>...</th>\n",
              "      <td>...</td>\n",
              "      <td>...</td>\n",
              "    </tr>\n",
              "    <tr>\n",
              "      <th>17192</th>\n",
              "      <td>49155</td>\n",
              "      <td>thought factory: left-right polarisation! #tru...</td>\n",
              "    </tr>\n",
              "    <tr>\n",
              "      <th>17193</th>\n",
              "      <td>49156</td>\n",
              "      <td>feeling like a mermaid ð #hairflip #neverre...</td>\n",
              "    </tr>\n",
              "    <tr>\n",
              "      <th>17194</th>\n",
              "      <td>49157</td>\n",
              "      <td>#hillary #campaigned today in #ohio((omg)) &amp;am...</td>\n",
              "    </tr>\n",
              "    <tr>\n",
              "      <th>17195</th>\n",
              "      <td>49158</td>\n",
              "      <td>happy, at work conference: right mindset leads...</td>\n",
              "    </tr>\n",
              "    <tr>\n",
              "      <th>17196</th>\n",
              "      <td>49159</td>\n",
              "      <td>my   song \"so glad\" free download!  #shoegaze ...</td>\n",
              "    </tr>\n",
              "  </tbody>\n",
              "</table>\n",
              "<p>17197 rows × 2 columns</p>\n",
              "</div>\n",
              "      <button class=\"colab-df-convert\" onclick=\"convertToInteractive('df-21a75063-3e26-48eb-96de-17702b09fdb0')\"\n",
              "              title=\"Convert this dataframe to an interactive table.\"\n",
              "              style=\"display:none;\">\n",
              "        \n",
              "  <svg xmlns=\"http://www.w3.org/2000/svg\" height=\"24px\"viewBox=\"0 0 24 24\"\n",
              "       width=\"24px\">\n",
              "    <path d=\"M0 0h24v24H0V0z\" fill=\"none\"/>\n",
              "    <path d=\"M18.56 5.44l.94 2.06.94-2.06 2.06-.94-2.06-.94-.94-2.06-.94 2.06-2.06.94zm-11 1L8.5 8.5l.94-2.06 2.06-.94-2.06-.94L8.5 2.5l-.94 2.06-2.06.94zm10 10l.94 2.06.94-2.06 2.06-.94-2.06-.94-.94-2.06-.94 2.06-2.06.94z\"/><path d=\"M17.41 7.96l-1.37-1.37c-.4-.4-.92-.59-1.43-.59-.52 0-1.04.2-1.43.59L10.3 9.45l-7.72 7.72c-.78.78-.78 2.05 0 2.83L4 21.41c.39.39.9.59 1.41.59.51 0 1.02-.2 1.41-.59l7.78-7.78 2.81-2.81c.8-.78.8-2.07 0-2.86zM5.41 20L4 18.59l7.72-7.72 1.47 1.35L5.41 20z\"/>\n",
              "  </svg>\n",
              "      </button>\n",
              "      \n",
              "  <style>\n",
              "    .colab-df-container {\n",
              "      display:flex;\n",
              "      flex-wrap:wrap;\n",
              "      gap: 12px;\n",
              "    }\n",
              "\n",
              "    .colab-df-convert {\n",
              "      background-color: #E8F0FE;\n",
              "      border: none;\n",
              "      border-radius: 50%;\n",
              "      cursor: pointer;\n",
              "      display: none;\n",
              "      fill: #1967D2;\n",
              "      height: 32px;\n",
              "      padding: 0 0 0 0;\n",
              "      width: 32px;\n",
              "    }\n",
              "\n",
              "    .colab-df-convert:hover {\n",
              "      background-color: #E2EBFA;\n",
              "      box-shadow: 0px 1px 2px rgba(60, 64, 67, 0.3), 0px 1px 3px 1px rgba(60, 64, 67, 0.15);\n",
              "      fill: #174EA6;\n",
              "    }\n",
              "\n",
              "    [theme=dark] .colab-df-convert {\n",
              "      background-color: #3B4455;\n",
              "      fill: #D2E3FC;\n",
              "    }\n",
              "\n",
              "    [theme=dark] .colab-df-convert:hover {\n",
              "      background-color: #434B5C;\n",
              "      box-shadow: 0px 1px 3px 1px rgba(0, 0, 0, 0.15);\n",
              "      filter: drop-shadow(0px 1px 2px rgba(0, 0, 0, 0.3));\n",
              "      fill: #FFFFFF;\n",
              "    }\n",
              "  </style>\n",
              "\n",
              "      <script>\n",
              "        const buttonEl =\n",
              "          document.querySelector('#df-21a75063-3e26-48eb-96de-17702b09fdb0 button.colab-df-convert');\n",
              "        buttonEl.style.display =\n",
              "          google.colab.kernel.accessAllowed ? 'block' : 'none';\n",
              "\n",
              "        async function convertToInteractive(key) {\n",
              "          const element = document.querySelector('#df-21a75063-3e26-48eb-96de-17702b09fdb0');\n",
              "          const dataTable =\n",
              "            await google.colab.kernel.invokeFunction('convertToInteractive',\n",
              "                                                     [key], {});\n",
              "          if (!dataTable) return;\n",
              "\n",
              "          const docLinkHtml = 'Like what you see? Visit the ' +\n",
              "            '<a target=\"_blank\" href=https://colab.research.google.com/notebooks/data_table.ipynb>data table notebook</a>'\n",
              "            + ' to learn more about interactive tables.';\n",
              "          element.innerHTML = '';\n",
              "          dataTable['output_type'] = 'display_data';\n",
              "          await google.colab.output.renderOutput(dataTable, element);\n",
              "          const docLink = document.createElement('div');\n",
              "          docLink.innerHTML = docLinkHtml;\n",
              "          element.appendChild(docLink);\n",
              "        }\n",
              "      </script>\n",
              "    </div>\n",
              "  </div>\n",
              "  "
            ],
            "text/plain": [
              "          id                                              tweet\n",
              "0      31963  #studiolife #aislife #requires #passion #dedic...\n",
              "1      31964   @user #white #supremacists want everyone to s...\n",
              "2      31965  safe ways to heal your #acne!!    #altwaystohe...\n",
              "3      31966  is the hp and the cursed child book up for res...\n",
              "4      31967    3rd #bihday to my amazing, hilarious #nephew...\n",
              "...      ...                                                ...\n",
              "17192  49155  thought factory: left-right polarisation! #tru...\n",
              "17193  49156  feeling like a mermaid ð #hairflip #neverre...\n",
              "17194  49157  #hillary #campaigned today in #ohio((omg)) &am...\n",
              "17195  49158  happy, at work conference: right mindset leads...\n",
              "17196  49159  my   song \"so glad\" free download!  #shoegaze ...\n",
              "\n",
              "[17197 rows x 2 columns]"
            ]
          },
          "metadata": {},
          "execution_count": 4
        }
      ]
    },
    {
      "cell_type": "code",
      "metadata": {
        "id": "KRGExFSGtWPp",
        "colab": {
          "base_uri": "https://localhost:8080/",
          "height": 423
        },
        "outputId": "5eefcd72-27e4-413e-92dd-f762c31f285b"
      },
      "source": [
        "# Removing the \"id\" column from the train data. The dataframe will now have only 2 columns: `label` and `tweet`.\n",
        "train_tweets= train_tweets[[\"label\",\"tweet\"]]\n",
        "train_tweets"
      ],
      "execution_count": 5,
      "outputs": [
        {
          "output_type": "execute_result",
          "data": {
            "text/html": [
              "\n",
              "  <div id=\"df-432c5c60-ea1f-45a6-a305-bcc43e41defb\">\n",
              "    <div class=\"colab-df-container\">\n",
              "      <div>\n",
              "<style scoped>\n",
              "    .dataframe tbody tr th:only-of-type {\n",
              "        vertical-align: middle;\n",
              "    }\n",
              "\n",
              "    .dataframe tbody tr th {\n",
              "        vertical-align: top;\n",
              "    }\n",
              "\n",
              "    .dataframe thead th {\n",
              "        text-align: right;\n",
              "    }\n",
              "</style>\n",
              "<table border=\"1\" class=\"dataframe\">\n",
              "  <thead>\n",
              "    <tr style=\"text-align: right;\">\n",
              "      <th></th>\n",
              "      <th>label</th>\n",
              "      <th>tweet</th>\n",
              "    </tr>\n",
              "  </thead>\n",
              "  <tbody>\n",
              "    <tr>\n",
              "      <th>0</th>\n",
              "      <td>0</td>\n",
              "      <td>@user when a father is dysfunctional and is s...</td>\n",
              "    </tr>\n",
              "    <tr>\n",
              "      <th>1</th>\n",
              "      <td>0</td>\n",
              "      <td>@user @user thanks for #lyft credit i can't us...</td>\n",
              "    </tr>\n",
              "    <tr>\n",
              "      <th>2</th>\n",
              "      <td>0</td>\n",
              "      <td>bihday your majesty</td>\n",
              "    </tr>\n",
              "    <tr>\n",
              "      <th>3</th>\n",
              "      <td>0</td>\n",
              "      <td>#model   i love u take with u all the time in ...</td>\n",
              "    </tr>\n",
              "    <tr>\n",
              "      <th>4</th>\n",
              "      <td>0</td>\n",
              "      <td>factsguide: society now    #motivation</td>\n",
              "    </tr>\n",
              "    <tr>\n",
              "      <th>...</th>\n",
              "      <td>...</td>\n",
              "      <td>...</td>\n",
              "    </tr>\n",
              "    <tr>\n",
              "      <th>31957</th>\n",
              "      <td>0</td>\n",
              "      <td>ate @user isz that youuu?ðððððð...</td>\n",
              "    </tr>\n",
              "    <tr>\n",
              "      <th>31958</th>\n",
              "      <td>0</td>\n",
              "      <td>to see nina turner on the airwaves trying to...</td>\n",
              "    </tr>\n",
              "    <tr>\n",
              "      <th>31959</th>\n",
              "      <td>0</td>\n",
              "      <td>listening to sad songs on a monday morning otw...</td>\n",
              "    </tr>\n",
              "    <tr>\n",
              "      <th>31960</th>\n",
              "      <td>1</td>\n",
              "      <td>@user #sikh #temple vandalised in in #calgary,...</td>\n",
              "    </tr>\n",
              "    <tr>\n",
              "      <th>31961</th>\n",
              "      <td>0</td>\n",
              "      <td>thank you @user for you follow</td>\n",
              "    </tr>\n",
              "  </tbody>\n",
              "</table>\n",
              "<p>31962 rows × 2 columns</p>\n",
              "</div>\n",
              "      <button class=\"colab-df-convert\" onclick=\"convertToInteractive('df-432c5c60-ea1f-45a6-a305-bcc43e41defb')\"\n",
              "              title=\"Convert this dataframe to an interactive table.\"\n",
              "              style=\"display:none;\">\n",
              "        \n",
              "  <svg xmlns=\"http://www.w3.org/2000/svg\" height=\"24px\"viewBox=\"0 0 24 24\"\n",
              "       width=\"24px\">\n",
              "    <path d=\"M0 0h24v24H0V0z\" fill=\"none\"/>\n",
              "    <path d=\"M18.56 5.44l.94 2.06.94-2.06 2.06-.94-2.06-.94-.94-2.06-.94 2.06-2.06.94zm-11 1L8.5 8.5l.94-2.06 2.06-.94-2.06-.94L8.5 2.5l-.94 2.06-2.06.94zm10 10l.94 2.06.94-2.06 2.06-.94-2.06-.94-.94-2.06-.94 2.06-2.06.94z\"/><path d=\"M17.41 7.96l-1.37-1.37c-.4-.4-.92-.59-1.43-.59-.52 0-1.04.2-1.43.59L10.3 9.45l-7.72 7.72c-.78.78-.78 2.05 0 2.83L4 21.41c.39.39.9.59 1.41.59.51 0 1.02-.2 1.41-.59l7.78-7.78 2.81-2.81c.8-.78.8-2.07 0-2.86zM5.41 20L4 18.59l7.72-7.72 1.47 1.35L5.41 20z\"/>\n",
              "  </svg>\n",
              "      </button>\n",
              "      \n",
              "  <style>\n",
              "    .colab-df-container {\n",
              "      display:flex;\n",
              "      flex-wrap:wrap;\n",
              "      gap: 12px;\n",
              "    }\n",
              "\n",
              "    .colab-df-convert {\n",
              "      background-color: #E8F0FE;\n",
              "      border: none;\n",
              "      border-radius: 50%;\n",
              "      cursor: pointer;\n",
              "      display: none;\n",
              "      fill: #1967D2;\n",
              "      height: 32px;\n",
              "      padding: 0 0 0 0;\n",
              "      width: 32px;\n",
              "    }\n",
              "\n",
              "    .colab-df-convert:hover {\n",
              "      background-color: #E2EBFA;\n",
              "      box-shadow: 0px 1px 2px rgba(60, 64, 67, 0.3), 0px 1px 3px 1px rgba(60, 64, 67, 0.15);\n",
              "      fill: #174EA6;\n",
              "    }\n",
              "\n",
              "    [theme=dark] .colab-df-convert {\n",
              "      background-color: #3B4455;\n",
              "      fill: #D2E3FC;\n",
              "    }\n",
              "\n",
              "    [theme=dark] .colab-df-convert:hover {\n",
              "      background-color: #434B5C;\n",
              "      box-shadow: 0px 1px 3px 1px rgba(0, 0, 0, 0.15);\n",
              "      filter: drop-shadow(0px 1px 2px rgba(0, 0, 0, 0.3));\n",
              "      fill: #FFFFFF;\n",
              "    }\n",
              "  </style>\n",
              "\n",
              "      <script>\n",
              "        const buttonEl =\n",
              "          document.querySelector('#df-432c5c60-ea1f-45a6-a305-bcc43e41defb button.colab-df-convert');\n",
              "        buttonEl.style.display =\n",
              "          google.colab.kernel.accessAllowed ? 'block' : 'none';\n",
              "\n",
              "        async function convertToInteractive(key) {\n",
              "          const element = document.querySelector('#df-432c5c60-ea1f-45a6-a305-bcc43e41defb');\n",
              "          const dataTable =\n",
              "            await google.colab.kernel.invokeFunction('convertToInteractive',\n",
              "                                                     [key], {});\n",
              "          if (!dataTable) return;\n",
              "\n",
              "          const docLinkHtml = 'Like what you see? Visit the ' +\n",
              "            '<a target=\"_blank\" href=https://colab.research.google.com/notebooks/data_table.ipynb>data table notebook</a>'\n",
              "            + ' to learn more about interactive tables.';\n",
              "          element.innerHTML = '';\n",
              "          dataTable['output_type'] = 'display_data';\n",
              "          await google.colab.output.renderOutput(dataTable, element);\n",
              "          const docLink = document.createElement('div');\n",
              "          docLink.innerHTML = docLinkHtml;\n",
              "          element.appendChild(docLink);\n",
              "        }\n",
              "      </script>\n",
              "    </div>\n",
              "  </div>\n",
              "  "
            ],
            "text/plain": [
              "       label                                              tweet\n",
              "0          0   @user when a father is dysfunctional and is s...\n",
              "1          0  @user @user thanks for #lyft credit i can't us...\n",
              "2          0                                bihday your majesty\n",
              "3          0  #model   i love u take with u all the time in ...\n",
              "4          0             factsguide: society now    #motivation\n",
              "...      ...                                                ...\n",
              "31957      0  ate @user isz that youuu?ðððððð...\n",
              "31958      0    to see nina turner on the airwaves trying to...\n",
              "31959      0  listening to sad songs on a monday morning otw...\n",
              "31960      1  @user #sikh #temple vandalised in in #calgary,...\n",
              "31961      0                   thank you @user for you follow  \n",
              "\n",
              "[31962 rows x 2 columns]"
            ]
          },
          "metadata": {},
          "execution_count": 5
        }
      ]
    },
    {
      "cell_type": "code",
      "metadata": {
        "id": "IatkMtt5tryf",
        "colab": {
          "base_uri": "https://localhost:8080/"
        },
        "outputId": "01e81545-c94e-47a7-998b-79ba45e0324c"
      },
      "source": [
        "# Removing the \"id\" column from the test data. The dataframe now has only 1 column: `tweet`.\n",
        "test = test_tweets[\"tweet\"]\n",
        "test"
      ],
      "execution_count": 6,
      "outputs": [
        {
          "output_type": "execute_result",
          "data": {
            "text/plain": [
              "0        #studiolife #aislife #requires #passion #dedic...\n",
              "1         @user #white #supremacists want everyone to s...\n",
              "2        safe ways to heal your #acne!!    #altwaystohe...\n",
              "3        is the hp and the cursed child book up for res...\n",
              "4          3rd #bihday to my amazing, hilarious #nephew...\n",
              "                               ...                        \n",
              "17192    thought factory: left-right polarisation! #tru...\n",
              "17193    feeling like a mermaid ð #hairflip #neverre...\n",
              "17194    #hillary #campaigned today in #ohio((omg)) &am...\n",
              "17195    happy, at work conference: right mindset leads...\n",
              "17196    my   song \"so glad\" free download!  #shoegaze ...\n",
              "Name: tweet, Length: 17197, dtype: object"
            ]
          },
          "metadata": {},
          "execution_count": 6
        }
      ]
    },
    {
      "cell_type": "markdown",
      "metadata": {
        "id": "bv3VfNpKCl7r"
      },
      "source": [
        "## **2. Exploratory Data Analysis**\n"
      ]
    },
    {
      "cell_type": "markdown",
      "metadata": {
        "id": "0bCGyrsGHov4"
      },
      "source": [
        "### **1) Tweet Length**\n"
      ]
    },
    {
      "cell_type": "code",
      "metadata": {
        "id": "q54YgUepGagd"
      },
      "source": [
        "# looking at the length of each Tweet\n",
        "train_tweets['length'] = train_tweets['tweet'].apply(len)"
      ],
      "execution_count": 7,
      "outputs": []
    },
    {
      "cell_type": "code",
      "metadata": {
        "id": "KBL634u8uRFq",
        "colab": {
          "base_uri": "https://localhost:8080/",
          "height": 367
        },
        "outputId": "b1c7e715-5023-48b0-ed57-ec662a3a72b3"
      },
      "source": [
        "# Visualizing the average length of Tweets with Positive Sentiment (label \"0\") compare to that of Tweets with Negative Sentiment (label \"1\").\n",
        "# From the sns plot below, the average word length of tweets in each category is almost the same.\n",
        "sns.barplot('label','length',data = train_tweets)\n",
        "plt.title('Average Word Length vs Label')"
      ],
      "execution_count": 8,
      "outputs": [
        {
          "output_type": "stream",
          "name": "stderr",
          "text": [
            "/usr/local/lib/python3.7/dist-packages/seaborn/_decorators.py:43: FutureWarning: Pass the following variables as keyword args: x, y. From version 0.12, the only valid positional argument will be `data`, and passing other arguments without an explicit keyword will result in an error or misinterpretation.\n",
            "  FutureWarning\n"
          ]
        },
        {
          "output_type": "execute_result",
          "data": {
            "text/plain": [
              "Text(0.5, 1.0, 'Average Word Length vs Label')"
            ]
          },
          "metadata": {},
          "execution_count": 8
        },
        {
          "output_type": "display_data",
          "data": {
            "image/png": "[encoded data removed]",
            "text/plain": [
              "<Figure size 432x288 with 1 Axes>"
            ]
          },
          "metadata": {
            "needs_background": "light"
          }
        }
      ]
    },
    {
      "cell_type": "markdown",
      "metadata": {
        "id": "mhfQ3oyWLFht"
      },
      "source": [
        "### **2) Data Label Distribution**\n",
        "A balanced dataset is the one that contains equal or almost equal number of samples from the positive and negative class.  The number of Tweets with Positive Sentiment (label \"0\") and the number of Tweets with Negative Sentiment (label \"1\") are to be examined below.\n",
        "\n",
        "From the graph below, there is a major imbalance in the data. There are a lot more tweets labelled \"0\" and a very few ones labelled \"1\". \n",
        "\n",
        "**Imbalanced Data**\n",
        "\n",
        "Imbalanced classes are a common problem in machine learning classification where there are a disproportionate ratio of observations in each class. Class imbalance can be found in many different areas including medical diagnosis, spam filtering, and fraud detection. More references are in [this article](https://machinelearningmastery.com/tactics-to-combat-imbalanced-classes-in-your-machine-learning-dataset/)."
      ]
    },
    {
      "cell_type": "code",
      "metadata": {
        "id": "MPVWzjBZuYa0",
        "outputId": "69c14a68-b717-4e04-81d8-06664346d379",
        "colab": {
          "base_uri": "https://localhost:8080/",
          "height": 313
        }
      },
      "source": [
        "# Plotting the number of Tweets with Positive Sentiment (label \"0\") and the number of Tweets with Negative Sentiment (label \"1\") in the dataset.\n",
        "sns.countplot(x= 'label',data = train_tweets)\n",
        "plt.title('Label Counts')"
      ],
      "execution_count": 9,
      "outputs": [
        {
          "output_type": "execute_result",
          "data": {
            "text/plain": [
              "Text(0.5, 1.0, 'Label Counts')"
            ]
          },
          "metadata": {},
          "execution_count": 9
        },
        {
          "output_type": "display_data",
          "data": {
            "image/png": "[encoded data removed]",
            "text/plain": [
              "<Figure size 432x288 with 1 Axes>"
            ]
          },
          "metadata": {
            "needs_background": "light"
          }
        }
      ]
    },
    {
      "cell_type": "markdown",
      "metadata": {
        "id": "x_LeEDSbUCMR"
      },
      "source": [
        "### **3. Text Processing**\n",
        "\n",
        "The main issue with this data is that it is all in text format (strings). The classification algorithms need some sort of numerical feature vector to perform the classification task. In this lesson, tried out the following techniques of preprocessing the raw data:\n",
        "1. Removal of punctuations.\n",
        "2. Removal of commonly used words (stopwords).\n",
        "3. Normalization of words.\n",
        "\n"
      ]
    },
    {
      "cell_type": "code",
      "source": [
        "# import the`nltk` library for text processing\n",
        "import nltk"
      ],
      "metadata": {
        "id": "d-rl08N0ZTO9"
      },
      "execution_count": 10,
      "outputs": []
    },
    {
      "cell_type": "markdown",
      "metadata": {
        "id": "Pr2sA_WKRbIv"
      },
      "source": [
        "#### **i) Removal Of Punctuations**\n",
        "\n",
        "\n"
      ]
    },
    {
      "cell_type": "code",
      "metadata": {
        "id": "A2x5FHrcJSyJ",
        "outputId": "d556e719-fd9a-4755-c748-c48b68db5a4b",
        "colab": {
          "base_uri": "https://localhost:8080/"
        }
      },
      "source": [
        "# import `TextBlob` library to remove all the punctuations from the Tweet\n",
        "nltk.download('punkt')\n",
        "from textblob import TextBlob"
      ],
      "execution_count": 11,
      "outputs": [
        {
          "output_type": "stream",
          "name": "stdout",
          "text": [
            "[nltk_data] Downloading package punkt to /root/nltk_data...\n",
            "[nltk_data]   Unzipping tokenizers/punkt.zip.\n"
          ]
        }
      ]
    },
    {
      "cell_type": "code",
      "metadata": {
        "id": "eFi4AftGYVV9"
      },
      "source": [
        "# Generating the list of words in the tweet (with hastags and other punctuations removed)\n",
        "def form_sentence(tweet):\n",
        "  # TextBlob(tweet) creates an instance of tweet which can be processed by the Library.\n",
        "  tweet_blob = TextBlob(tweet)\n",
        "  # returns a string by joining all the elements of the list, separated by a string separator, which is a space (`\" \"`) in this case.\n",
        "  return ' '.join(tweet_blob.words)"
      ],
      "execution_count": 12,
      "outputs": []
    },
    {
      "cell_type": "code",
      "metadata": {
        "id": "it3fgQfzF715",
        "outputId": "434c0056-b68b-4105-f495-7160094617be",
        "colab": {
          "base_uri": "https://localhost:8080/",
          "height": 0
        }
      },
      "source": [
        "# example\n",
        "form_sentence(\"#this is an good and clear example!!! XDD :)\")"
      ],
      "execution_count": 13,
      "outputs": [
        {
          "output_type": "execute_result",
          "data": {
            "application/vnd.google.colaboratory.intrinsic+json": {
              "type": "string"
            },
            "text/plain": [
              "'this is an good and clear example XDD'"
            ]
          },
          "metadata": {},
          "execution_count": 13
        }
      ]
    },
    {
      "cell_type": "markdown",
      "metadata": {
        "id": "g4T69CifZoo3"
      },
      "source": [
        "#### **ii) Removal Of Stopwords And Words With Unusual Symbols** \n",
        "\n",
        "Stopwords are very common words in english, for example 'the', 'a', etc. \n",
        "- Import a list of stopwords from the NLTK library to remove them. \n",
        "- Stopwords do not make sense in learning because they don’t have connections with sentiments. \n",
        "- **Removing them saves the computational power** as well as **increases the accuracy of the model**.\n"
      ]
    },
    {
      "cell_type": "code",
      "metadata": {
        "id": "79rSvTZlEtBC",
        "outputId": "1f4aa2dd-508c-48a0-c815-4f4b8e1443e0",
        "colab": {
          "base_uri": "https://localhost:8080/"
        }
      },
      "source": [
        "from nltk.corpus import stopwords\n",
        "nltk.download('stopwords')\n",
        "import re"
      ],
      "execution_count": 14,
      "outputs": [
        {
          "output_type": "stream",
          "name": "stdout",
          "text": [
            "[nltk_data] Downloading package stopwords to /root/nltk_data...\n",
            "[nltk_data]   Unzipping corpora/stopwords.zip.\n"
          ]
        }
      ]
    },
    {
      "cell_type": "code",
      "metadata": {
        "id": "8TBp5S9CZptw"
      },
      "source": [
        "# Removing stopwords and words with unusual symbols\n",
        "def no_user_alpha(tweet):\n",
        "    # removes the keyword \"user\" from the tweet\n",
        "    tweet_list = [ele for ele in tweet.split() if ele != 'user']\n",
        "\n",
        "    # removes any non-word character(s) (e.g \"#\", \"@\") or number(s) at the start of a word with the use of regular expression. For example \"@Hello, \"#Hello\", and \"123Hello\" becomes \"Hello\".\n",
        "    # [Regular Expression](https://www.w3schools.com/python/python_regex.asp)\n",
        "    clean_tokens = [t for t in tweet_list if re.match(r'[^\\W\\d]*$', t)]\n",
        "    clean_s = ' '.join(clean_tokens)\n",
        "\n",
        "    # removes all the stopwords provided by the NTLK Library\n",
        "    clean_mess = [word for word in clean_s.split() if word.lower() not in stopwords.words('english')]\n",
        "    return clean_mess"
      ],
      "execution_count": 15,
      "outputs": []
    },
    {
      "cell_type": "code",
      "metadata": {
        "id": "BJkqgc1CF-Ma",
        "outputId": "0078e964-052a-418b-ac29-c9007d3d576d",
        "colab": {
          "base_uri": "https://localhost:8080/"
        }
      },
      "source": [
        "# example\n",
        "no_user_alpha(\"#this is a good and clear example!!! :)\")"
      ],
      "execution_count": 16,
      "outputs": [
        {
          "output_type": "execute_result",
          "data": {
            "text/plain": [
              "['good', 'clear']"
            ]
          },
          "metadata": {},
          "execution_count": 16
        }
      ]
    },
    {
      "cell_type": "markdown",
      "metadata": {
        "id": "pw-GWKF8QmJ8"
      },
      "source": [
        "#### **iii) Function For Text Processing (Combining Step i and ii)**\n",
        "\n"
      ]
    },
    {
      "cell_type": "code",
      "metadata": {
        "id": "gyRdP9VHueRu"
      },
      "source": [
        "# Define a single function that will do all 2 steps of text processing:\n",
        "def text_processing(tweet):\n",
        "    \n",
        "    #Generating the list of words in the tweet (hastags and other punctuations removed)\n",
        "    def form_sentence(tweet):\n",
        "        tweet_blob = TextBlob(tweet)\n",
        "        return ' '.join(tweet_blob.words)\n",
        "    new_tweet = form_sentence(tweet)\n",
        "    \n",
        "    #Removing stopwords and words with unusual symbols\n",
        "    def no_user_alpha(tweet):\n",
        "        tweet_list = [ele for ele in tweet.split() if ele != 'user']\n",
        "        clean_tokens = [t for t in tweet_list if re.match(r'[^\\W\\d]*$', t)]\n",
        "        clean_s = ' '.join(clean_tokens)\n",
        "        clean_mess = [word for word in clean_s.split() if word.lower() not in stopwords.words('english')]\n",
        "        return clean_mess\n",
        "    no_punc_tweet = no_user_alpha(new_tweet)\n",
        "    \n",
        "    return no_punc_tweet"
      ],
      "execution_count": 17,
      "outputs": []
    },
    {
      "cell_type": "code",
      "metadata": {
        "id": "xfS4yD1munBi"
      },
      "source": [
        "# apply the text processing function to our train and test dataframes\n",
        "# apply() method to apply a function to entire column in the dataframe\n",
        "train_tweets['tweet_list'] = train_tweets['tweet'].apply(text_processing)\n",
        "test_tweets['tweet_list'] = test_tweets['tweet'].apply(text_processing)"
      ],
      "execution_count": null,
      "outputs": []
    },
    {
      "cell_type": "code",
      "metadata": {
        "id": "b-n2nvBi4Z8-"
      },
      "source": [
        "# comparing the original list and the list with only important words in the same dataframe\n",
        "train_tweets"
      ],
      "execution_count": null,
      "outputs": []
    },
    {
      "cell_type": "markdown",
      "metadata": {
        "id": "CNQuE-9fVYMc"
      },
      "source": [
        "### **4. Model Building & Training**\n"
      ]
    },
    {
      "cell_type": "code",
      "source": [
        "from sklearn.model_selection import train_test_split\n",
        "\n",
        "# The test dataset 'msg_tset and label_test' here is not from `test_tweets` dataframe\n",
        "msg_train, msg_test, label_train, label_test = train_test_split(train_tweets['tweet'], train_tweets['label'], test_size=0.2)\n"
      ],
      "metadata": {
        "id": "kCw29HWthvJE"
      },
      "execution_count": null,
      "outputs": []
    },
    {
      "cell_type": "markdown",
      "source": [
        "## **4.1 SciKit Learn Pipline (and Naive Bayes Classification) method**"
      ],
      "metadata": {
        "id": "LSIuZ9bsxFhg"
      }
    },
    {
      "cell_type": "markdown",
      "metadata": {
        "id": "X8l561b-2_tf"
      },
      "source": [
        "#### **Creating and Training the Model**\n",
        "\n",
        "Pipeline concatenates the output of transformers into a composite feature space. SciKit Learn's [pipeline](http://scikit-learn.org/stable/modules/pipeline.html) is capabled to create a pipeline of workflow. This will allow to set up all the transformations to be done to the data for future use. \n",
        "\n",
        "Library: **sklearn.pipeline.Pipeline**\n",
        "\n",
        "*   Pipeline of transforms with a final estimator.\n",
        "*   The purpose of the pipeline is to assemble several steps that can be **cross-validated** together while setting different parameters. \n",
        "\n",
        "---\n",
        "\n",
        "Sequentially transform and classify the data in the following order:\n",
        "1. **Bag of Words (BOW) Transformation:** A reduced and simplified representation of a text document from selected parts of the text, based on specific criteria, such as word frequency.\n",
        "  * Library: *sklearn.feature_extraction.text.CountVectorizer**\n",
        "    *   Converts a collection of text documents to a matrix of token counts\n",
        "\n",
        "2. **TF-IDF Transformation:** A formula that aims to define the importance of a keyword or phrase within a document or a web page.\n",
        "  * Library: **sklearn.feature_extraction.text.TfidfTransformer**\n",
        "    *   Transforms a count matrix to a normalized tf or tf-idf representation\n",
        "\n",
        "3. **Naive Bayes Classification:** A classification algorithm that uses Bayes' theorem to classify objects. \n",
        "  * Library: **sklearn.naive_bayes.MultinomialNB**\n",
        "    *   Naive Bayes classifier for multinomial models\n",
        "    *   The multinomial Naive Bayes classifier is suitable for classification with discrete features (e.g., word counts for text classification). The multinomial distribution normally requires integer feature counts. However, in practice, fractional counts such as tf-idf may also work.\n",
        "\n",
        "\n",
        "\n"
      ]
    },
    {
      "cell_type": "code",
      "metadata": {
        "id": "oaatXc7pIiZg"
      },
      "source": [
        "# Import required libraries\n",
        "from sklearn.pipeline import Pipeline\n",
        "from sklearn.feature_extraction.text import CountVectorizer, TfidfTransformer\n",
        "from sklearn.naive_bayes import MultinomialNB"
      ],
      "execution_count": null,
      "outputs": []
    },
    {
      "cell_type": "code",
      "metadata": {
        "id": "50BdkJAgx883"
      },
      "source": [
        "# Instantiation\n",
        "pipeline = Pipeline([\n",
        "    ('bow',CountVectorizer(analyzer=text_processing)),  # strings to token integer counts\n",
        "    ('tfidf', TfidfTransformer()),  # integer counts to weighted TF-IDF scores\n",
        "    ('classifier', MultinomialNB()),  # train on TF-IDF vectors w/ Naive Bayes classifier\n",
        "])"
      ],
      "execution_count": null,
      "outputs": []
    },
    {
      "cell_type": "code",
      "source": [
        "# Need an embedding layer to create the first hidden layer\n",
        "msg_train.shape, msg_test.shape, label_train.shape, label_test.shape"
      ],
      "metadata": {
        "id": "mROku_DW3Vx-"
      },
      "execution_count": null,
      "outputs": []
    },
    {
      "cell_type": "markdown",
      "metadata": {
        "id": "opgVFsOj_FE4"
      },
      "source": [
        "**iii) Model Fitting**\n",
        "\n",
        "Now we use `.fit` to train the model using the train dataset."
      ]
    },
    {
      "cell_type": "code",
      "metadata": {
        "id": "p4FqLIHV-39O"
      },
      "source": [
        "pipeline.fit(msg_train,label_train)"
      ],
      "execution_count": null,
      "outputs": []
    },
    {
      "cell_type": "markdown",
      "metadata": {
        "id": "rQyKIuV8LdPo"
      },
      "source": [
        "### **5. Model Prediction & Evaluation**"
      ]
    },
    {
      "cell_type": "markdown",
      "metadata": {
        "id": "ruo9VYTjLgra"
      },
      "source": [
        "#### **Prediction**"
      ]
    },
    {
      "cell_type": "code",
      "metadata": {
        "id": "dP6NLkJW5iTX"
      },
      "source": [
        "# The predictions is a list of labels (either 0 or 1) for Tweets in test dataset, msg_test\n",
        "predictions = pipeline.predict(msg_test)\n",
        "predictions"
      ],
      "execution_count": null,
      "outputs": []
    },
    {
      "cell_type": "markdown",
      "metadata": {
        "id": "bxnrdL5n_fiu"
      },
      "source": [
        "Let's see how our predictions looks like. The `predictions` is a list of labels (either 0 or 1) for Tweets in test dataset, `msg_test`."
      ]
    },
    {
      "cell_type": "code",
      "metadata": {
        "id": "Bkolimar52Us"
      },
      "source": [
        "predictions"
      ],
      "execution_count": null,
      "outputs": []
    },
    {
      "cell_type": "markdown",
      "metadata": {
        "id": "tRFO0FbqAJdP"
      },
      "source": [
        "#### **Evaluation**\n"
      ]
    },
    {
      "cell_type": "code",
      "metadata": {
        "id": "rHSwqvRIIsar"
      },
      "source": [
        "# import libraries to evaluate our model to see how good it is in predicting the type of Tweet by comparing the predicted labels with the actual labels in the test dataset.\n",
        "from sklearn.metrics import confusion_matrix, classification_report ,accuracy_score"
      ],
      "execution_count": null,
      "outputs": []
    },
    {
      "cell_type": "code",
      "metadata": {
        "id": "gQbAcVHnyAsq"
      },
      "source": [
        "# print the Classification Report\n",
        "# use different statistical evaluation methods to evaluate our model. Read more about these methods here\n",
        "# [here](https://towardsdatascience.com/accuracy-precision-recall-or-f1-331fb37c5cb9)\n",
        "print(classification_report(predictions,label_test))"
      ],
      "execution_count": null,
      "outputs": []
    },
    {
      "cell_type": "code",
      "metadata": {
        "id": "7plHRXGE56Hk"
      },
      "source": [
        "# Print the accuracy score\n",
        "# Accuracy score is the percentage of correctly predicted labels. Note that there are chances to improve this accuracy by tuning parameters using GridSearchCV and other preprocessing techniques.\n",
        "print(accuracy_score(predictions,label_test))"
      ],
      "execution_count": null,
      "outputs": []
    },
    {
      "cell_type": "markdown",
      "metadata": {
        "id": "T3og8X54GlwI"
      },
      "source": [
        "#### **Confusion Matrix**\n",
        "The following confusion matrix can be read as:\n",
        "* Tweets with Positive Sentiment predicted correctly: 5954\n",
        "* Tweets with Positive Sentiment predicted incorrectly: 390\n",
        "* Tweets with Negative Sentiment predicted incorrectly: 2\n",
        "* Tweets with Negative Sentiment predicted correctly: 72"
      ]
    },
    {
      "cell_type": "code",
      "metadata": {
        "id": "bdIBbsKA58ra"
      },
      "source": [
        "print(confusion_matrix(predictions,label_test))"
      ],
      "execution_count": null,
      "outputs": []
    },
    {
      "cell_type": "markdown",
      "source": [
        "## **4.2 LSTM Method**"
      ],
      "metadata": {
        "id": "-WYTO90wYkv5"
      }
    },
    {
      "cell_type": "code",
      "source": [
        "msg_test"
      ],
      "metadata": {
        "id": "NXtTRiZxh7E5"
      },
      "execution_count": null,
      "outputs": []
    },
    {
      "cell_type": "code",
      "source": [
        "# Word2vec\n",
        "import gensim\n",
        "\n",
        "# WORD2VEC \n",
        "W2V_SIZE = 300\n",
        "W2V_WINDOW = 7\n",
        "W2V_EPOCH = 32\n",
        "W2V_MIN_COUNT = 10\n",
        "\n",
        "w2v_model = gensim.models.word2vec.Word2Vec(size=W2V_SIZE, \n",
        "                                            window=W2V_WINDOW, \n",
        "                                            min_count=W2V_MIN_COUNT, \n",
        "                                            workers=2)\n",
        "documents = [_text.split() for _text in msg_train]\n",
        "w2v_model.build_vocab(documents)"
      ],
      "metadata": {
        "id": "_3bP0FLPg6b_"
      },
      "execution_count": null,
      "outputs": []
    },
    {
      "cell_type": "code",
      "source": [
        "words = w2v_model.wv.vocab.keys()\n",
        "vocab_size = len(words)\n",
        "print(\"Vocab size\", vocab_size)\n",
        "\n",
        "w2v_model.train(documents, total_examples=len(documents), epochs=W2V_EPOCH)"
      ],
      "metadata": {
        "id": "s3Q6zrSQl6zR"
      },
      "execution_count": null,
      "outputs": []
    },
    {
      "cell_type": "code",
      "source": [
        "w2v_model.most_similar(\"pray\")"
      ],
      "metadata": {
        "id": "9u0mBBKfjI02"
      },
      "execution_count": null,
      "outputs": []
    },
    {
      "cell_type": "markdown",
      "source": [
        "### **Keras Tokenizer class**\n",
        "- Remove punctuation and split strings into lists of individual words\n",
        "- Convert the individual words into integers\n",
        "\n",
        "By default, this **removes all punctuation, lowercases words**, and then **converts words to sequences of integers**. A Tokenizer is first fit on a list of strings and then converts this list into a list of lists of integers."
      ],
      "metadata": {
        "id": "b1b2gcquaLNb"
      }
    },
    {
      "cell_type": "code",
      "source": [
        "from keras.preprocessing.text import Tokenizer\n",
        "### Create a Tokenizer object\n",
        "tokenizer = Tokenizer(\n",
        "    ### max number of words to keep\n",
        "    # num_words = None,    \n",
        "\n",
        "    ### String of character to be removed, note that '!?\",.' are kept here\n",
        "    # filters = '#$%&()*+-<=>@[\\\\]^_`{|}~\\t\\n',   \n",
        "\n",
        "    ##3 Whether to convert the texts to lowercase\n",
        "    lower = False, \n",
        "    \n",
        "    ### Separator for word splitting.\n",
        "    # split = ' '\n",
        "    )\n",
        "\n",
        "### Train the tokenizer to the texts\n",
        "tokenizer.fit_on_texts(msg_train)\n",
        "\n",
        "vocab_size = len(tokenizer.word_index) + 1\n",
        "print(\"Total words\", vocab_size)\n",
        "\n",
        "### Convert lists of srtrings into list of lists of integer\n",
        "from keras.preprocessing.sequence import pad_sequences\n",
        "SEQUENCE_LENGTH = 300\n",
        "x_train = pad_sequences(tokenizer.texts_to_sequences(msg_train), maxlen=SEQUENCE_LENGTH)\n",
        "x_test = pad_sequences(tokenizer.texts_to_sequences(msg_test), maxlen=SEQUENCE_LENGTH)"
      ],
      "metadata": {
        "id": "_quAMKqOatFa"
      },
      "execution_count": null,
      "outputs": []
    },
    {
      "cell_type": "code",
      "source": [
        "print(\"msg_train\", x_train.shape)\n",
        "y_train = label_train.ravel().reshape(-1,1)\n",
        "print(\"label_train\", y_train.shape)\n",
        "print()\n",
        "print(\"msg_test\",x_test.shape)\n",
        "y_test = label_test.ravel().reshape(-1,1)\n",
        "print(\"label_test\", y_test.shape)"
      ],
      "metadata": {
        "id": "vM1j-mnNwgWY"
      },
      "execution_count": null,
      "outputs": []
    },
    {
      "cell_type": "markdown",
      "source": [
        "### **Embedding layer**\n",
        "\n",
        "Keras offers an ***Embedding layer*** that can be used for neural networks on text data.\n",
        "\n",
        "It requires that the input data be ***integer encoded***, so that each word is represented by a unique integer. This data preparation step can be performed using the Tokenizer API also provided with Keras.\n",
        "\n",
        "The Embedding layer is initialized with random weights and will learn an embedding for all of the words in the training dataset.\n",
        "\n",
        "It is a flexible layer that can be used in a variety of ways, such as:\n",
        "\n",
        " - It can be used alone to learn a word embedding that can be saved and used in another model later.\n",
        " - It can be used as part of a deep learning model where the embedding is learned along with the model itself.\n",
        " - It can be used to load a pre-trained word embedding model, a type of transfer learning"
      ],
      "metadata": {
        "id": "w0GkNbOPYy5_"
      }
    },
    {
      "cell_type": "code",
      "source": [
        "vocab_size, W2V_SIZE"
      ],
      "metadata": {
        "id": "6IfCeNze1uHC"
      },
      "execution_count": null,
      "outputs": []
    },
    {
      "cell_type": "code",
      "source": [
        "from keras.models import Sequential\n",
        "from keras.layers import LSTM, Dense, Dropout, Masking, Embedding\n",
        "from tensorflow.keras import callbacks\n",
        "import time\n",
        "import numpy as np\n",
        "def LSTM_model(msg_train, msg_test, label_train, label_test):\n",
        "  start_time = time.time()\n",
        "  model = Sequential()\n",
        "\n",
        "  # Embedding layer\n",
        "  embedding_matrix = np.zeros((vocab_size, W2V_SIZE))\n",
        "  for word, i in tokenizer.word_index.items():\n",
        "    if word in w2v_model.wv:\n",
        "      embedding_matrix[i] = w2v_model.wv[word]\n",
        "\n",
        "  model.add(\n",
        "      Embedding(input_dim=vocab_size,\n",
        "                input_length = SEQUENCE_LENGTH,\n",
        "                output_dim=W2V_SIZE,\n",
        "                weights=[embedding_matrix],\n",
        "                trainable=False,\n",
        "                mask_zero=True))\n",
        "\n",
        "  # Masking layer for pre-trained embeddings\n",
        "  model.add(Masking(mask_value=0.0))\n",
        "\n",
        "  # Recurrent layer\n",
        "  model.add(LSTM(64, return_sequences=False, \n",
        "                dropout=0.1, recurrent_dropout=0.1))\n",
        "\n",
        "  # Fully connected layer\n",
        "  model.add(Dense(64, activation='relu'))\n",
        "\n",
        "  # Dropout for regularization\n",
        "  model.add(Dropout(0.5))\n",
        "\n",
        "  # Output layer\n",
        "  model.add(Dense(1, activation='sigmoid'))\n",
        "\n",
        "  # Compile the model\n",
        "  model.compile(optimizer='adam', loss='binary_crossentropy', metrics=['accuracy'])\n",
        "\n",
        "  early_stopping = callbacks.EarlyStopping(monitor=\"val_loss\", min_delta=0.001, patience=5, restore_best_weights=True)\n",
        "  history_LSTM = model.fit(x_train, y_train, batch_size=8, validation_data=(x_test,y_test),epochs=8,verbose=1, callbacks=[early_stopping])\n",
        "  loss, acc = model.evaluate(x_test, y_test, verbose=0)\n",
        "  # predict the label of the train dataset\n",
        "  predictions = model.predict(x_test)\n",
        "  end_time = time.time()\n",
        "  return acc, pd.DataFrame(history_LSTM.history), predictions, end_time - start_time\n",
        "LSTM_acc, LSTM_plot, LSTM_predictions, LSTM_elapse_time = LSTM_model(x_train ,y_train, x_test, y_test)\n",
        "LSTM_plot.plot()\n",
        "print(f\"The accuracy of LSTM model is {LSTM_acc*100:0.1f}%, with training time {np.floor(LSTM_elapse_time/60)} minutes and {LSTM_elapse_time%60:0.0f} seconds.\")\n"
      ],
      "metadata": {
        "id": "5zDAt8RqYtzs"
      },
      "execution_count": null,
      "outputs": []
    },
    {
      "cell_type": "markdown",
      "metadata": {
        "id": "juQRefiz3tfk"
      },
      "source": [
        "### **Model Prediction & Evaluation**"
      ]
    },
    {
      "cell_type": "markdown",
      "metadata": {
        "id": "y5gv8OnI3tfs"
      },
      "source": [
        "### **Evaluation**\n",
        "\n",
        "We will now evaluate our model to see how good it is in predicting the type of Tweet by comparing the predicted labels with the actual labels in our test dataset."
      ]
    },
    {
      "cell_type": "code",
      "metadata": {
        "id": "V9THpq8f3tfs"
      },
      "source": [
        "from sklearn.metrics import confusion_matrix, classification_report,accuracy_score"
      ],
      "execution_count": null,
      "outputs": []
    },
    {
      "cell_type": "markdown",
      "metadata": {
        "id": "KiSvtKFoE4Ax"
      },
      "source": [
        "#### **Classification Report**\n",
        "We use different statistical evaluation methods to evaluate our model. You can read more about these methods [here](https://towardsdatascience.com/accuracy-precision-recall-or-f1-331fb37c5cb9)."
      ]
    },
    {
      "cell_type": "code",
      "metadata": {
        "id": "sH9fOcui3tft"
      },
      "source": [
        "print(classification_report(LSTM_predictions,y_test))"
      ],
      "execution_count": null,
      "outputs": []
    },
    {
      "cell_type": "markdown",
      "metadata": {
        "id": "o36OpgkOGT6W"
      },
      "source": [
        "#### **Accuracy Score**\n",
        "Accuracy score is the percentage of correctly predicted labels. Note that there are chances to improve this accuracy by tuning parameters using GridSearchCV and other preprocessing techniques.\n"
      ]
    },
    {
      "cell_type": "code",
      "metadata": {
        "id": "8quWJfud3tft"
      },
      "source": [
        "print(accuracy_score(LSTM_predictions,y_test))"
      ],
      "execution_count": null,
      "outputs": []
    },
    {
      "cell_type": "markdown",
      "metadata": {
        "id": "_p5psKJf3tft"
      },
      "source": [
        "#### **Confusion Matrix**\n",
        "The following confusion matrix can be read as:\n",
        "* Tweets with Positive Sentiment predicted correctly: 5954\n",
        "* Tweets with Positive Sentiment predicted incorrectly: 365\n",
        "* Tweets with Negative Sentiment predicted incorrectly: 2\n",
        "* Tweets with Negative Sentiment predicted correctly: 72"
      ]
    },
    {
      "cell_type": "code",
      "metadata": {
        "id": "G9qfbGBk3tft"
      },
      "source": [
        "print(confusion_matrix(LSTM_predictions,y_test))"
      ],
      "execution_count": null,
      "outputs": []
    }
  ]
}