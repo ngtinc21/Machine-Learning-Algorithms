{
 "cells": [
  {
   "cell_type": "markdown",
   "metadata": {},
   "source": [
    "# Forex Rate Prediction - USD/JPY\n",
    "\n",
    "This example is to predict the foreign exchange rate with Japan.\n",
    "\n",
    "The data source is from Yahoo Finance.\n",
    "\n",
    "The data availability is from 30th October 1996 to 31st January 2022.\n",
    "\n",
    "There are seven columns in the csv files, they are \"Date\", \"Open\", \"High\", \"Low\", \"Close\", \"Adj Close\", \"Volume\".\n",
    "\n",
    "Only \"Date\", \"Open\", \"High\", \"Low\", and \"Close\" are used for prediction."
   ]
  },
  {
   "cell_type": "markdown",
   "metadata": {},
   "source": [
    "## 1. Data Acquisition"
   ]
  },
  {
   "cell_type": "code",
   "execution_count": 923,
   "metadata": {},
   "outputs": [],
   "source": [
    "# import libraries\n",
    "import pandas as pd\n",
    "import numpy as np\n",
    "import matplotlib.pyplot as plt\n",
    "%matplotlib inline\n",
    "import tensorflow as tf\n",
    "from tensorflow import keras"
   ]
  },
  {
   "cell_type": "code",
   "execution_count": 924,
   "metadata": {},
   "outputs": [
    {
     "data": {
      "text/html": [
       "<div>\n",
       "<style scoped>\n",
       "    .dataframe tbody tr th:only-of-type {\n",
       "        vertical-align: middle;\n",
       "    }\n",
       "\n",
       "    .dataframe tbody tr th {\n",
       "        vertical-align: top;\n",
       "    }\n",
       "\n",
       "    .dataframe thead th {\n",
       "        text-align: right;\n",
       "    }\n",
       "</style>\n",
       "<table border=\"1\" class=\"dataframe\">\n",
       "  <thead>\n",
       "    <tr style=\"text-align: right;\">\n",
       "      <th></th>\n",
       "      <th>Date</th>\n",
       "      <th>Open</th>\n",
       "      <th>High</th>\n",
       "      <th>Low</th>\n",
       "      <th>Close</th>\n",
       "      <th>Adj Close</th>\n",
       "      <th>Volume</th>\n",
       "    </tr>\n",
       "  </thead>\n",
       "  <tbody>\n",
       "    <tr>\n",
       "      <th>0</th>\n",
       "      <td>30/10/1996</td>\n",
       "      <td>114.370003</td>\n",
       "      <td>114.480003</td>\n",
       "      <td>113.610001</td>\n",
       "      <td>114.180000</td>\n",
       "      <td>114.180000</td>\n",
       "      <td>0.0</td>\n",
       "    </tr>\n",
       "    <tr>\n",
       "      <th>1</th>\n",
       "      <td>31/10/1996</td>\n",
       "      <td>NaN</td>\n",
       "      <td>NaN</td>\n",
       "      <td>NaN</td>\n",
       "      <td>NaN</td>\n",
       "      <td>NaN</td>\n",
       "      <td>NaN</td>\n",
       "    </tr>\n",
       "    <tr>\n",
       "      <th>2</th>\n",
       "      <td>1/11/1996</td>\n",
       "      <td>113.500000</td>\n",
       "      <td>113.500000</td>\n",
       "      <td>113.500000</td>\n",
       "      <td>113.500000</td>\n",
       "      <td>113.500000</td>\n",
       "      <td>0.0</td>\n",
       "    </tr>\n",
       "    <tr>\n",
       "      <th>3</th>\n",
       "      <td>4/11/1996</td>\n",
       "      <td>113.279999</td>\n",
       "      <td>113.980003</td>\n",
       "      <td>112.949997</td>\n",
       "      <td>113.879997</td>\n",
       "      <td>113.879997</td>\n",
       "      <td>0.0</td>\n",
       "    </tr>\n",
       "    <tr>\n",
       "      <th>4</th>\n",
       "      <td>5/11/1996</td>\n",
       "      <td>113.709999</td>\n",
       "      <td>114.330002</td>\n",
       "      <td>113.449997</td>\n",
       "      <td>114.250000</td>\n",
       "      <td>114.250000</td>\n",
       "      <td>0.0</td>\n",
       "    </tr>\n",
       "  </tbody>\n",
       "</table>\n",
       "</div>"
      ],
      "text/plain": [
       "         Date        Open        High         Low       Close   Adj Close  \\\n",
       "0  30/10/1996  114.370003  114.480003  113.610001  114.180000  114.180000   \n",
       "1  31/10/1996         NaN         NaN         NaN         NaN         NaN   \n",
       "2   1/11/1996  113.500000  113.500000  113.500000  113.500000  113.500000   \n",
       "3   4/11/1996  113.279999  113.980003  112.949997  113.879997  113.879997   \n",
       "4   5/11/1996  113.709999  114.330002  113.449997  114.250000  114.250000   \n",
       "\n",
       "   Volume  \n",
       "0     0.0  \n",
       "1     NaN  \n",
       "2     0.0  \n",
       "3     0.0  \n",
       "4     0.0  "
      ]
     },
     "execution_count": 924,
     "metadata": {},
     "output_type": "execute_result"
    }
   ],
   "source": [
    "# Reading dataset\n",
    "forex_dataset = pd.read_csv('Data/Historical forex rate/JPY=X.csv')\n",
    "forex_dataset.head()"
   ]
  },
  {
   "cell_type": "markdown",
   "metadata": {},
   "source": [
    "## 2. Exploratory Data Analysis"
   ]
  },
  {
   "cell_type": "code",
   "execution_count": 925,
   "metadata": {},
   "outputs": [
    {
     "data": {
      "text/plain": [
       "(6589, 7)"
      ]
     },
     "execution_count": 925,
     "metadata": {},
     "output_type": "execute_result"
    }
   ],
   "source": [
    "forex_dataset.shape"
   ]
  },
  {
   "cell_type": "code",
   "execution_count": 926,
   "metadata": {},
   "outputs": [
    {
     "data": {
      "text/plain": [
       "Date          0\n",
       "Open         43\n",
       "High         43\n",
       "Low          43\n",
       "Close        43\n",
       "Adj Close    43\n",
       "Volume       43\n",
       "dtype: int64"
      ]
     },
     "execution_count": 926,
     "metadata": {},
     "output_type": "execute_result"
    }
   ],
   "source": [
    "# Checking null values\n",
    "forex_dataset.isnull().sum()"
   ]
  },
  {
   "cell_type": "code",
   "execution_count": 927,
   "metadata": {},
   "outputs": [],
   "source": [
    "# Fill NaN values using an interpolation method (\"linear\")\n",
    "forex_dataset.interpolate(inplace = True)"
   ]
  },
  {
   "cell_type": "code",
   "execution_count": 928,
   "metadata": {},
   "outputs": [
    {
     "data": {
      "text/plain": [
       "True"
      ]
     },
     "execution_count": 928,
     "metadata": {},
     "output_type": "execute_result"
    }
   ],
   "source": [
    "# See if there is any difference between the values in \"Close\" and \"Adj Close\"\n",
    "all(forex_dataset['Close']==forex_dataset['Adj Close']) and all(forex_dataset['Volume']<=0)"
   ]
  },
  {
   "cell_type": "code",
   "execution_count": 929,
   "metadata": {},
   "outputs": [],
   "source": [
    "# Drop out the \"Adj Close\" for redundancy\n",
    "forex_dataset.drop(['Adj Close','Volume'], axis = 1, inplace = True)"
   ]
  },
  {
   "cell_type": "code",
   "execution_count": 930,
   "metadata": {},
   "outputs": [
    {
     "data": {
      "text/html": [
       "<div>\n",
       "<style scoped>\n",
       "    .dataframe tbody tr th:only-of-type {\n",
       "        vertical-align: middle;\n",
       "    }\n",
       "\n",
       "    .dataframe tbody tr th {\n",
       "        vertical-align: top;\n",
       "    }\n",
       "\n",
       "    .dataframe thead th {\n",
       "        text-align: right;\n",
       "    }\n",
       "</style>\n",
       "<table border=\"1\" class=\"dataframe\">\n",
       "  <thead>\n",
       "    <tr style=\"text-align: right;\">\n",
       "      <th></th>\n",
       "      <th>Date</th>\n",
       "      <th>Open</th>\n",
       "      <th>High</th>\n",
       "      <th>Low</th>\n",
       "      <th>Close</th>\n",
       "    </tr>\n",
       "  </thead>\n",
       "  <tbody>\n",
       "    <tr>\n",
       "      <th>0</th>\n",
       "      <td>1996-10-30</td>\n",
       "      <td>114.370003</td>\n",
       "      <td>114.480003</td>\n",
       "      <td>113.610001</td>\n",
       "      <td>114.180000</td>\n",
       "    </tr>\n",
       "    <tr>\n",
       "      <th>1</th>\n",
       "      <td>1996-10-31</td>\n",
       "      <td>113.935001</td>\n",
       "      <td>113.990002</td>\n",
       "      <td>113.555001</td>\n",
       "      <td>113.840000</td>\n",
       "    </tr>\n",
       "    <tr>\n",
       "      <th>2</th>\n",
       "      <td>1996-11-01</td>\n",
       "      <td>113.500000</td>\n",
       "      <td>113.500000</td>\n",
       "      <td>113.500000</td>\n",
       "      <td>113.500000</td>\n",
       "    </tr>\n",
       "    <tr>\n",
       "      <th>3</th>\n",
       "      <td>1996-11-04</td>\n",
       "      <td>113.279999</td>\n",
       "      <td>113.980003</td>\n",
       "      <td>112.949997</td>\n",
       "      <td>113.879997</td>\n",
       "    </tr>\n",
       "    <tr>\n",
       "      <th>4</th>\n",
       "      <td>1996-11-05</td>\n",
       "      <td>113.709999</td>\n",
       "      <td>114.330002</td>\n",
       "      <td>113.449997</td>\n",
       "      <td>114.250000</td>\n",
       "    </tr>\n",
       "  </tbody>\n",
       "</table>\n",
       "</div>"
      ],
      "text/plain": [
       "        Date        Open        High         Low       Close\n",
       "0 1996-10-30  114.370003  114.480003  113.610001  114.180000\n",
       "1 1996-10-31  113.935001  113.990002  113.555001  113.840000\n",
       "2 1996-11-01  113.500000  113.500000  113.500000  113.500000\n",
       "3 1996-11-04  113.279999  113.980003  112.949997  113.879997\n",
       "4 1996-11-05  113.709999  114.330002  113.449997  114.250000"
      ]
     },
     "execution_count": 930,
     "metadata": {},
     "output_type": "execute_result"
    }
   ],
   "source": [
    "# Resort the date\n",
    "forex_dataset['Date'] = pd.to_datetime(forex_dataset['Date'], format = '%d/%m/%Y')\n",
    "forex_dataset.head()"
   ]
  },
  {
   "cell_type": "code",
   "execution_count": 931,
   "metadata": {},
   "outputs": [
    {
     "data": {
      "text/plain": [
       "0"
      ]
     },
     "execution_count": 931,
     "metadata": {},
     "output_type": "execute_result"
    }
   ],
   "source": [
    "# See if duplicated row exists\n",
    "forex_dataset.duplicated().sum()"
   ]
  },
  {
   "cell_type": "code",
   "execution_count": 932,
   "metadata": {},
   "outputs": [],
   "source": [
    "# Set the date to be the index\n",
    "Date = forex_dataset['Date']\n",
    "forex_dataset.set_index('Date', inplace= True) "
   ]
  },
  {
   "cell_type": "code",
   "execution_count": 933,
   "metadata": {},
   "outputs": [
    {
     "data": {
      "text/html": [
       "<div>\n",
       "<style scoped>\n",
       "    .dataframe tbody tr th:only-of-type {\n",
       "        vertical-align: middle;\n",
       "    }\n",
       "\n",
       "    .dataframe tbody tr th {\n",
       "        vertical-align: top;\n",
       "    }\n",
       "\n",
       "    .dataframe thead th {\n",
       "        text-align: right;\n",
       "    }\n",
       "</style>\n",
       "<table border=\"1\" class=\"dataframe\">\n",
       "  <thead>\n",
       "    <tr style=\"text-align: right;\">\n",
       "      <th></th>\n",
       "      <th>Open</th>\n",
       "      <th>High</th>\n",
       "      <th>Low</th>\n",
       "      <th>Close</th>\n",
       "    </tr>\n",
       "  </thead>\n",
       "  <tbody>\n",
       "    <tr>\n",
       "      <th>count</th>\n",
       "      <td>6589.000000</td>\n",
       "      <td>6589.000000</td>\n",
       "      <td>6589.000000</td>\n",
       "      <td>6589.000000</td>\n",
       "    </tr>\n",
       "    <tr>\n",
       "      <th>mean</th>\n",
       "      <td>108.613101</td>\n",
       "      <td>109.056737</td>\n",
       "      <td>108.123988</td>\n",
       "      <td>108.608502</td>\n",
       "    </tr>\n",
       "    <tr>\n",
       "      <th>std</th>\n",
       "      <td>13.219991</td>\n",
       "      <td>13.301232</td>\n",
       "      <td>13.131916</td>\n",
       "      <td>13.218674</td>\n",
       "    </tr>\n",
       "    <tr>\n",
       "      <th>min</th>\n",
       "      <td>75.750000</td>\n",
       "      <td>75.973999</td>\n",
       "      <td>75.570000</td>\n",
       "      <td>75.739998</td>\n",
       "    </tr>\n",
       "    <tr>\n",
       "      <th>25%</th>\n",
       "      <td>103.232002</td>\n",
       "      <td>103.699997</td>\n",
       "      <td>102.738998</td>\n",
       "      <td>103.225998</td>\n",
       "    </tr>\n",
       "    <tr>\n",
       "      <th>50%</th>\n",
       "      <td>109.804001</td>\n",
       "      <td>110.173668</td>\n",
       "      <td>109.410004</td>\n",
       "      <td>109.821999</td>\n",
       "    </tr>\n",
       "    <tr>\n",
       "      <th>75%</th>\n",
       "      <td>117.790001</td>\n",
       "      <td>118.269997</td>\n",
       "      <td>117.286003</td>\n",
       "      <td>117.790001</td>\n",
       "    </tr>\n",
       "    <tr>\n",
       "      <th>max</th>\n",
       "      <td>147.339996</td>\n",
       "      <td>147.630005</td>\n",
       "      <td>146.000000</td>\n",
       "      <td>147.220001</td>\n",
       "    </tr>\n",
       "  </tbody>\n",
       "</table>\n",
       "</div>"
      ],
      "text/plain": [
       "              Open         High          Low        Close\n",
       "count  6589.000000  6589.000000  6589.000000  6589.000000\n",
       "mean    108.613101   109.056737   108.123988   108.608502\n",
       "std      13.219991    13.301232    13.131916    13.218674\n",
       "min      75.750000    75.973999    75.570000    75.739998\n",
       "25%     103.232002   103.699997   102.738998   103.225998\n",
       "50%     109.804001   110.173668   109.410004   109.821999\n",
       "75%     117.790001   118.269997   117.286003   117.790001\n",
       "max     147.339996   147.630005   146.000000   147.220001"
      ]
     },
     "execution_count": 933,
     "metadata": {},
     "output_type": "execute_result"
    }
   ],
   "source": [
    "# Show a summary of the data\n",
    "forex_dataset.describe()"
   ]
  },
  {
   "cell_type": "code",
   "execution_count": 934,
   "metadata": {},
   "outputs": [
    {
     "data": {
      "text/plain": [
       "Text(0.5, 1.0, 'JPY Exchange Rate at All Time')"
      ]
     },
     "execution_count": 934,
     "metadata": {},
     "output_type": "execute_result"
    },
    {
     "data": {
      "image/png": "[encoded data removed]",
      "text/plain": [
       "<Figure size 720x288 with 1 Axes>"
      ]
     },
     "metadata": {
      "needs_background": "light"
     },
     "output_type": "display_data"
    }
   ],
   "source": [
    "# Plot the Janpanese yen exchange rate\n",
    "forex_dataset[['Open','High','Low','Close']].plot(figsize = (10,4))\n",
    "plt.title('JPY Exchange Rate at All Time')"
   ]
  },
  {
   "cell_type": "code",
   "execution_count": 935,
   "metadata": {},
   "outputs": [
    {
     "data": {
      "text/plain": [
       "Text(0.5, 0, 'JPY Exchange Rate')"
      ]
     },
     "execution_count": 935,
     "metadata": {},
     "output_type": "execute_result"
    },
    {
     "data": {
      "image/png": "[encoded data removed]",
      "text/plain": [
       "<Figure size 720x288 with 1 Axes>"
      ]
     },
     "metadata": {
      "needs_background": "light"
     },
     "output_type": "display_data"
    }
   ],
   "source": [
    "forex_dataset[['Open','Close']].plot(figsize = (10,4))\n",
    "plt.title('JPY Exchange Rate at All Time')\n",
    "plt.ylabel('Date')\n",
    "plt.xlabel('JPY Exchange Rate')"
   ]
  },
  {
   "cell_type": "code",
   "execution_count": 1035,
   "metadata": {},
   "outputs": [
    {
     "data": {
      "text/html": [
       "<div>\n",
       "<style scoped>\n",
       "    .dataframe tbody tr th:only-of-type {\n",
       "        vertical-align: middle;\n",
       "    }\n",
       "\n",
       "    .dataframe tbody tr th {\n",
       "        vertical-align: top;\n",
       "    }\n",
       "\n",
       "    .dataframe thead th {\n",
       "        text-align: right;\n",
       "    }\n",
       "</style>\n",
       "<table border=\"1\" class=\"dataframe\">\n",
       "  <thead>\n",
       "    <tr style=\"text-align: right;\">\n",
       "      <th></th>\n",
       "      <th>Open</th>\n",
       "      <th>High</th>\n",
       "      <th>Low</th>\n",
       "      <th>Close</th>\n",
       "    </tr>\n",
       "  </thead>\n",
       "  <tbody>\n",
       "    <tr>\n",
       "      <th>Open</th>\n",
       "      <td>1.000000</td>\n",
       "      <td>0.999398</td>\n",
       "      <td>0.999097</td>\n",
       "      <td>0.999018</td>\n",
       "    </tr>\n",
       "    <tr>\n",
       "      <th>High</th>\n",
       "      <td>0.999398</td>\n",
       "      <td>1.000000</td>\n",
       "      <td>0.998882</td>\n",
       "      <td>0.999344</td>\n",
       "    </tr>\n",
       "    <tr>\n",
       "      <th>Low</th>\n",
       "      <td>0.999097</td>\n",
       "      <td>0.998882</td>\n",
       "      <td>1.000000</td>\n",
       "      <td>0.999383</td>\n",
       "    </tr>\n",
       "    <tr>\n",
       "      <th>Close</th>\n",
       "      <td>0.999018</td>\n",
       "      <td>0.999344</td>\n",
       "      <td>0.999383</td>\n",
       "      <td>1.000000</td>\n",
       "    </tr>\n",
       "  </tbody>\n",
       "</table>\n",
       "</div>"
      ],
      "text/plain": [
       "           Open      High       Low     Close\n",
       "Open   1.000000  0.999398  0.999097  0.999018\n",
       "High   0.999398  1.000000  0.998882  0.999344\n",
       "Low    0.999097  0.998882  1.000000  0.999383\n",
       "Close  0.999018  0.999344  0.999383  1.000000"
      ]
     },
     "execution_count": 1035,
     "metadata": {},
     "output_type": "execute_result"
    }
   ],
   "source": [
    "# Show the correlation of the features\n",
    "forex_dataset.corr()"
   ]
  },
  {
   "cell_type": "code",
   "execution_count": 1040,
   "metadata": {},
   "outputs": [
    {
     "data": {
      "text/html": [
       "<style  type=\"text/css\" >\n",
       "    #T_478d5882_8598_11ec_8a2e_88b1111c3481row0_col0 {\n",
       "            background-color:  #b40426;\n",
       "            color:  #f1f1f1;\n",
       "        }    #T_478d5882_8598_11ec_8a2e_88b1111c3481row0_col1 {\n",
       "            background-color:  #d3dbe7;\n",
       "            color:  #000000;\n",
       "        }    #T_478d5882_8598_11ec_8a2e_88b1111c3481row0_col2 {\n",
       "            background-color:  #799cf8;\n",
       "            color:  #000000;\n",
       "        }    #T_478d5882_8598_11ec_8a2e_88b1111c3481row0_col3 {\n",
       "            background-color:  #3b4cc0;\n",
       "            color:  #f1f1f1;\n",
       "        }    #T_478d5882_8598_11ec_8a2e_88b1111c3481row1_col0 {\n",
       "            background-color:  #bcd2f7;\n",
       "            color:  #000000;\n",
       "        }    #T_478d5882_8598_11ec_8a2e_88b1111c3481row1_col1 {\n",
       "            background-color:  #b40426;\n",
       "            color:  #f1f1f1;\n",
       "        }    #T_478d5882_8598_11ec_8a2e_88b1111c3481row1_col2 {\n",
       "            background-color:  #3b4cc0;\n",
       "            color:  #f1f1f1;\n",
       "        }    #T_478d5882_8598_11ec_8a2e_88b1111c3481row1_col3 {\n",
       "            background-color:  #aac7fd;\n",
       "            color:  #000000;\n",
       "        }    #T_478d5882_8598_11ec_8a2e_88b1111c3481row2_col0 {\n",
       "            background-color:  #536edd;\n",
       "            color:  #000000;\n",
       "        }    #T_478d5882_8598_11ec_8a2e_88b1111c3481row2_col1 {\n",
       "            background-color:  #3b4cc0;\n",
       "            color:  #f1f1f1;\n",
       "        }    #T_478d5882_8598_11ec_8a2e_88b1111c3481row2_col2 {\n",
       "            background-color:  #b40426;\n",
       "            color:  #f1f1f1;\n",
       "        }    #T_478d5882_8598_11ec_8a2e_88b1111c3481row2_col3 {\n",
       "            background-color:  #b7cff9;\n",
       "            color:  #000000;\n",
       "        }    #T_478d5882_8598_11ec_8a2e_88b1111c3481row3_col0 {\n",
       "            background-color:  #3b4cc0;\n",
       "            color:  #f1f1f1;\n",
       "        }    #T_478d5882_8598_11ec_8a2e_88b1111c3481row3_col1 {\n",
       "            background-color:  #c4d5f3;\n",
       "            color:  #000000;\n",
       "        }    #T_478d5882_8598_11ec_8a2e_88b1111c3481row3_col2 {\n",
       "            background-color:  #cedaeb;\n",
       "            color:  #000000;\n",
       "        }    #T_478d5882_8598_11ec_8a2e_88b1111c3481row3_col3 {\n",
       "            background-color:  #b40426;\n",
       "            color:  #f1f1f1;\n",
       "        }</style><table id=\"T_478d5882_8598_11ec_8a2e_88b1111c3481\" ><thead>    <tr>        <th class=\"blank level0\" ></th>        <th class=\"col_heading level0 col0\" >Open</th>        <th class=\"col_heading level0 col1\" >High</th>        <th class=\"col_heading level0 col2\" >Low</th>        <th class=\"col_heading level0 col3\" >Close</th>    </tr></thead><tbody>\n",
       "                <tr>\n",
       "                        <th id=\"T_478d5882_8598_11ec_8a2e_88b1111c3481level0_row0\" class=\"row_heading level0 row0\" >Open</th>\n",
       "                        <td id=\"T_478d5882_8598_11ec_8a2e_88b1111c3481row0_col0\" class=\"data row0 col0\" >1</td>\n",
       "                        <td id=\"T_478d5882_8598_11ec_8a2e_88b1111c3481row0_col1\" class=\"data row0 col1\" >0.9994</td>\n",
       "                        <td id=\"T_478d5882_8598_11ec_8a2e_88b1111c3481row0_col2\" class=\"data row0 col2\" >0.9991</td>\n",
       "                        <td id=\"T_478d5882_8598_11ec_8a2e_88b1111c3481row0_col3\" class=\"data row0 col3\" >0.999</td>\n",
       "            </tr>\n",
       "            <tr>\n",
       "                        <th id=\"T_478d5882_8598_11ec_8a2e_88b1111c3481level0_row1\" class=\"row_heading level0 row1\" >High</th>\n",
       "                        <td id=\"T_478d5882_8598_11ec_8a2e_88b1111c3481row1_col0\" class=\"data row1 col0\" >0.9994</td>\n",
       "                        <td id=\"T_478d5882_8598_11ec_8a2e_88b1111c3481row1_col1\" class=\"data row1 col1\" >1</td>\n",
       "                        <td id=\"T_478d5882_8598_11ec_8a2e_88b1111c3481row1_col2\" class=\"data row1 col2\" >0.9989</td>\n",
       "                        <td id=\"T_478d5882_8598_11ec_8a2e_88b1111c3481row1_col3\" class=\"data row1 col3\" >0.9993</td>\n",
       "            </tr>\n",
       "            <tr>\n",
       "                        <th id=\"T_478d5882_8598_11ec_8a2e_88b1111c3481level0_row2\" class=\"row_heading level0 row2\" >Low</th>\n",
       "                        <td id=\"T_478d5882_8598_11ec_8a2e_88b1111c3481row2_col0\" class=\"data row2 col0\" >0.9991</td>\n",
       "                        <td id=\"T_478d5882_8598_11ec_8a2e_88b1111c3481row2_col1\" class=\"data row2 col1\" >0.9989</td>\n",
       "                        <td id=\"T_478d5882_8598_11ec_8a2e_88b1111c3481row2_col2\" class=\"data row2 col2\" >1</td>\n",
       "                        <td id=\"T_478d5882_8598_11ec_8a2e_88b1111c3481row2_col3\" class=\"data row2 col3\" >0.9994</td>\n",
       "            </tr>\n",
       "            <tr>\n",
       "                        <th id=\"T_478d5882_8598_11ec_8a2e_88b1111c3481level0_row3\" class=\"row_heading level0 row3\" >Close</th>\n",
       "                        <td id=\"T_478d5882_8598_11ec_8a2e_88b1111c3481row3_col0\" class=\"data row3 col0\" >0.999</td>\n",
       "                        <td id=\"T_478d5882_8598_11ec_8a2e_88b1111c3481row3_col1\" class=\"data row3 col1\" >0.9993</td>\n",
       "                        <td id=\"T_478d5882_8598_11ec_8a2e_88b1111c3481row3_col2\" class=\"data row3 col2\" >0.9994</td>\n",
       "                        <td id=\"T_478d5882_8598_11ec_8a2e_88b1111c3481row3_col3\" class=\"data row3 col3\" >1</td>\n",
       "            </tr>\n",
       "    </tbody></table>"
      ],
      "text/plain": [
       "<pandas.io.formats.style.Styler at 0x152b7504fd0>"
      ]
     },
     "execution_count": 1040,
     "metadata": {},
     "output_type": "execute_result"
    }
   ],
   "source": [
    "# Plot the correlation map in another method\n",
    "forex_dataset.corr().style.background_gradient(cmap='coolwarm').set_precision(4)"
   ]
  },
  {
   "cell_type": "code",
   "execution_count": 1010,
   "metadata": {},
   "outputs": [],
   "source": [
    "# Split the dataset into X and y, with looking back n days of data\n",
    "# Features of the previous date and the 'Open' of next day are used to predict the closing value of the next day\n",
    "def get_data(data, look_back): \n",
    "    X_data, y_data = [], []\n",
    "    current_open = []\n",
    "    for i in range(len(data)-look_back):\n",
    "        X_data.append(data.iloc[i:(i+look_back),:].values.tolist()[0])\n",
    "        y_data.append(data.iloc[i+look_back,-1])\n",
    "        current_open.append(data.iloc[i+look_back,0])\n",
    "    X_data = [np.append(X, X_open) for X, X_open in zip(X_data, current_open)]\n",
    "    return np.array(X_data), np.array(y_data).reshape(-1,1)\n"
   ]
  },
  {
   "cell_type": "code",
   "execution_count": 1014,
   "metadata": {},
   "outputs": [],
   "source": [
    "# define a function to split the training and testing datasets\n",
    "from datetime import timedelta\n",
    "from datetime import datetime\n",
    "from sklearn.preprocessing import MinMaxScaler\n",
    "\n",
    "def spliting_dataset(forex_dataset, training_end_date):\n",
    "    # Convert the string type of date into a datetime object, and find the start date for tesing\n",
    "    date1 = datetime.strptime(training_end_date, '%Y-%m-%d').date()\n",
    "    if date1.weekday() == 5:\n",
    "        testing_start_date = str(date1 + timedelta(days = 3))\n",
    "    else:\n",
    "        testing_start_date = str(date1 + timedelta(days = 1))\n",
    "        \n",
    "    forex_dataset['Date'] = forex_dataset.index\n",
    "    Dates = forex_dataset[testing_start_date:][['Date']]\n",
    "    forex_dataset.drop('Date', axis = 1, inplace = True)\n",
    "    \n",
    "    # Retrieve the training and testing datasets from forex_dataset\n",
    "    train_dataset = forex_dataset[:training_end_date]\n",
    "    test_dataset = forex_dataset[testing_start_date:]\n",
    "    \n",
    "    # use the function get_data\n",
    "    X_train, y_train = get_data(train_dataset, look_back = 2)\n",
    "    X_test, y_test = get_data(test_dataset, look_back = 2)\n",
    "    \n",
    "    # Normalization\n",
    "    scaler_X = MinMaxScaler()\n",
    "    X_train = scaler_X.fit_transform(X_train)\n",
    "    X_test = scaler_X.transform(X_test)\n",
    "    \n",
    "    scaler_y = MinMaxScaler()\n",
    "    y_train = scaler_y.fit_transform(y_train)\n",
    "    y_test = scaler_y.transform(y_test)\n",
    "    \n",
    "    # Reshape the 2D-array into 3D-array\n",
    "    X_train = X_train.reshape(X_train.shape[0], X_train.shape[1], 1)\n",
    "    X_test = X_test.reshape(X_test.shape[0], X_test.shape[1], 1);\n",
    "    y_train = y_train.reshape(-1,1,1)\n",
    "    y_test = y_test.reshape(-1,1,1);\n",
    "    return (X_train, X_test, y_train, y_test), np.array(Dates).reshape(-1,1), (scaler_X, scaler_y)\n",
    "\n",
    "(X_train, X_test, y_train, y_test), testing_days, (scaler_X, scaler_y) = spliting_dataset(forex_dataset, training_end_date='2020-12-31')"
   ]
  },
  {
   "cell_type": "code",
   "execution_count": 1015,
   "metadata": {},
   "outputs": [
    {
     "data": {
      "text/plain": [
       "((6305, 5, 1), (280, 5, 1), (6305, 1, 1), (280, 1, 1))"
      ]
     },
     "execution_count": 1015,
     "metadata": {},
     "output_type": "execute_result"
    }
   ],
   "source": [
    "# Print the shapes of the training and testing datasets\n",
    "X_train.shape, X_test.shape, y_train.shape, y_test.shape "
   ]
  },
  {
   "cell_type": "markdown",
   "metadata": {},
   "source": [
    "## 3. Building the Model"
   ]
  },
  {
   "cell_type": "code",
   "execution_count": 648,
   "metadata": {},
   "outputs": [],
   "source": [
    "# # Hyperparameter tuning for LSTM\n",
    "# def tune_architecture(no_of_LSTM_layers, no_of_Dense_layers, no_of_nodes, actication):\n",
    "#     model = Sequential()\n",
    "#     for i in range(0, len(no_of_LSTM_layers)):\n",
    "#         model.add(LSTM(no_of_nodes[i], activation = activation, return_sequences = True, input_shape=(X_train.shape[1],1)))\n",
    "#         if i >= 0:\n",
    "#             model.add(LSTM(nodes = no_of_nodes[i], activation = activation, return_sequences = False))\n",
    "            \n",
    "#     for i in range(0, len(no_of_Dense_layers)):\n",
    "#         if i != len(no_of_Dense_layer)-1:\n",
    "#             model.add(Dense(no_of_nodes[i+len(no_of_LSTM_layers)], activation = activation))\n",
    "#         elif:\n",
    "#             model.add(Dense(no_of_nodes[i+len(no_of_LSTM_layers)]))\n",
    "#     return model"
   ]
  },
  {
   "cell_type": "code",
   "execution_count": 995,
   "metadata": {
    "scrolled": true
   },
   "outputs": [
    {
     "name": "stdout",
     "output_type": "stream",
     "text": [
      "Model: \"sequential_60\"\n",
      "_________________________________________________________________\n",
      " Layer (type)                Output Shape              Param #   \n",
      "=================================================================\n",
      " lstm_73 (LSTM)              (None, 64)                16896     \n",
      "                                                                 \n",
      " dense_83 (Dense)            (None, 1)                 65        \n",
      "                                                                 \n",
      "=================================================================\n",
      "Total params: 16,961\n",
      "Trainable params: 16,961\n",
      "Non-trainable params: 0\n",
      "_________________________________________________________________\n"
     ]
    }
   ],
   "source": [
    "from keras.models import Sequential\n",
    "from keras.layers import Dense, LSTM, Dropout\n",
    "from tensorflow.keras import callbacks\n",
    "model = Sequential()\n",
    "model.add(LSTM(64, activation = 'relu', return_sequences = False, input_shape=(X_train.shape[1],1)))\n",
    "# model.add(LSTM(64, activation = 'elu', return_sequences = False))\n",
    "# model.add(Dense(32, activation='elu'))\n",
    "model.add(Dense(1))\n",
    "model.summary()"
   ]
  },
  {
   "cell_type": "code",
   "execution_count": 1016,
   "metadata": {},
   "outputs": [],
   "source": [
    "# Compiling\n",
    "model.compile(optimizer = 'adam', loss = 'mse',metrics=['mse'])"
   ]
  },
  {
   "cell_type": "code",
   "execution_count": 1017,
   "metadata": {},
   "outputs": [
    {
     "name": "stdout",
     "output_type": "stream",
     "text": [
      "Epoch 1/10\n",
      "789/789 [==============================] - 9s 8ms/step - loss: 2.0900e-04 - mse: 2.0900e-04 - val_loss: 1.0388e-04 - val_mse: 1.0388e-04\n",
      "Epoch 2/10\n",
      "789/789 [==============================] - 6s 8ms/step - loss: 1.9300e-04 - mse: 1.9300e-04 - val_loss: 4.4341e-05 - val_mse: 4.4341e-05\n",
      "Epoch 3/10\n",
      "789/789 [==============================] - 6s 8ms/step - loss: 1.7574e-04 - mse: 1.7574e-04 - val_loss: 2.9903e-05 - val_mse: 2.9903e-05\n",
      "Epoch 4/10\n",
      "789/789 [==============================] - 6s 7ms/step - loss: 1.7002e-04 - mse: 1.7002e-04 - val_loss: 6.0214e-05 - val_mse: 6.0214e-05\n",
      "Epoch 5/10\n",
      "789/789 [==============================] - 6s 7ms/step - loss: 1.5497e-04 - mse: 1.5497e-04 - val_loss: 1.8710e-05 - val_mse: 1.8710e-05\n",
      "Epoch 6/10\n",
      "789/789 [==============================] - 7s 8ms/step - loss: 1.4392e-04 - mse: 1.4392e-04 - val_loss: 1.0809e-05 - val_mse: 1.0809e-05\n"
     ]
    },
    {
     "data": {
      "text/plain": [
       "<keras.callbacks.History at 0x152b5fdbc18>"
      ]
     },
     "execution_count": 1017,
     "metadata": {},
     "output_type": "execute_result"
    }
   ],
   "source": [
    "# Training the model\n",
    "early_stopping = callbacks.EarlyStopping(min_delta = 0.001, patience= 5, restore_best_weights = True)\n",
    "model.fit(X_train, y_train, epochs = 10, validation_data = (X_test, y_test), batch_size = 8, callbacks=[early_stopping])"
   ]
  },
  {
   "cell_type": "code",
   "execution_count": 1020,
   "metadata": {},
   "outputs": [
    {
     "data": {
      "text/plain": [
       "array([0.01396843, 0.01395556, 0.01419849, 0.01398993, 0.01396843])"
      ]
     },
     "execution_count": 1020,
     "metadata": {},
     "output_type": "execute_result"
    }
   ],
   "source": [
    "# The standard deviations\n",
    "scaler_X.scale_"
   ]
  },
  {
   "cell_type": "code",
   "execution_count": 1019,
   "metadata": {},
   "outputs": [],
   "source": []
  },
  {
   "cell_type": "code",
   "execution_count": 1021,
   "metadata": {},
   "outputs": [
    {
     "data": {
      "text/html": [
       "<div>\n",
       "<style scoped>\n",
       "    .dataframe tbody tr th:only-of-type {\n",
       "        vertical-align: middle;\n",
       "    }\n",
       "\n",
       "    .dataframe tbody tr th {\n",
       "        vertical-align: top;\n",
       "    }\n",
       "\n",
       "    .dataframe thead th {\n",
       "        text-align: right;\n",
       "    }\n",
       "</style>\n",
       "<table border=\"1\" class=\"dataframe\">\n",
       "  <thead>\n",
       "    <tr style=\"text-align: right;\">\n",
       "      <th></th>\n",
       "      <th>pred</th>\n",
       "      <th>test</th>\n",
       "    </tr>\n",
       "  </thead>\n",
       "  <tbody>\n",
       "    <tr>\n",
       "      <th>0</th>\n",
       "      <td>[103.77831268310547]</td>\n",
       "      <td>[103.125]</td>\n",
       "    </tr>\n",
       "    <tr>\n",
       "      <th>1</th>\n",
       "      <td>[103.55648040771484]</td>\n",
       "      <td>[102.678001]</td>\n",
       "    </tr>\n",
       "    <tr>\n",
       "      <th>2</th>\n",
       "      <td>[103.57380676269531]</td>\n",
       "      <td>[103.024002]</td>\n",
       "    </tr>\n",
       "    <tr>\n",
       "      <th>3</th>\n",
       "      <td>[103.61189270019531]</td>\n",
       "      <td>[103.790001]</td>\n",
       "    </tr>\n",
       "    <tr>\n",
       "      <th>4</th>\n",
       "      <td>[103.9922103881836]</td>\n",
       "      <td>[104.091003]</td>\n",
       "    </tr>\n",
       "  </tbody>\n",
       "</table>\n",
       "</div>"
      ],
      "text/plain": [
       "                   pred          test\n",
       "0  [103.77831268310547]     [103.125]\n",
       "1  [103.55648040771484]  [102.678001]\n",
       "2  [103.57380676269531]  [103.024002]\n",
       "3  [103.61189270019531]  [103.790001]\n",
       "4   [103.9922103881836]  [104.091003]"
      ]
     },
     "execution_count": 1021,
     "metadata": {},
     "output_type": "execute_result"
    }
   ],
   "source": [
    "# Prediction using the trained model\n",
    "y_pred = model.predict(X_test)\n",
    "y_pred = scaler_y.inverse_transform(y_pred)\n",
    "# Process the test shape\n",
    "y_test = y_test.reshape(-1,1)\n",
    "y_test = scaler_y.inverse_transform(y_test)\n",
    "pd.DataFrame(\n",
    "  {'pred': y_pred.tolist(),\n",
    "   'test': y_test.tolist()\n",
    "}).head(5)"
   ]
  },
  {
   "cell_type": "code",
   "execution_count": 1022,
   "metadata": {
    "scrolled": true
   },
   "outputs": [
    {
     "data": {
      "text/plain": [
       "<matplotlib.legend.Legend at 0x152b759ef28>"
      ]
     },
     "execution_count": 1022,
     "metadata": {},
     "output_type": "execute_result"
    },
    {
     "data": {
      "image/png": "[encoded data removed]",
      "text/plain": [
       "<Figure size 1152x576 with 1 Axes>"
      ]
     },
     "metadata": {
      "needs_background": "light"
     },
     "output_type": "display_data"
    }
   ],
   "source": [
    "# Visualize the result\n",
    "plt.figure(figsize=(16,8))\n",
    "plt.title('Foreign Exchange Rate of JPY')\n",
    "plt.plot(testing_days[2:], y_test, label='Actual')\n",
    "plt.plot(testing_days[2:], y_pred, label='Predicted', color = 'r')\n",
    "plt.legend()"
   ]
  },
  {
   "cell_type": "code",
   "execution_count": 1023,
   "metadata": {},
   "outputs": [
    {
     "data": {
      "text/plain": [
       "0.5307894440314637"
      ]
     },
     "execution_count": 1023,
     "metadata": {},
     "output_type": "execute_result"
    }
   ],
   "source": [
    "# Evalute the result\n",
    "from sklearn.metrics import mean_squared_error\n",
    "mse_result = mean_squared_error(y_test, y_pred)\n",
    "mse_result"
   ]
  },
  {
   "cell_type": "code",
   "execution_count": 1024,
   "metadata": {},
   "outputs": [],
   "source": [
    "# Record whether the prediction and testing data has an increase or decrease for each testing date\n",
    "def sign_prediction(y_pred, y_test):\n",
    "    daily_y_pred_change = []\n",
    "    daily_y_test_change = []\n",
    "    daily_complying_sign = []\n",
    "    y_pred_list = y_pred.reshape(1,-1).tolist()[0]; y_test_list = y_test.reshape(1,-1).tolist()[0]\n",
    "    for i, pred in enumerate(y_pred_list):\n",
    "        if pred != y_pred_list[-1]:\n",
    "            daily_y_pred_change.append(y_pred_list[i+1] - y_pred_list[i])\n",
    "            daily_y_test_change.append(y_test_list[i+1] - y_test_list[i])\n",
    "\n",
    "            if (daily_y_pred_change[i] >= 0 and daily_y_test_change[i] >=0) or (daily_y_pred_change[i] < 0 and daily_y_test_change[i] < 0):\n",
    "                daily_complying_sign.append(1)\n",
    "            else:\n",
    "                daily_complying_sign.append(0)\n",
    "    return daily_y_pred_change, daily_y_test_change, daily_complying_sign"
   ]
  },
  {
   "cell_type": "code",
   "execution_count": 1025,
   "metadata": {},
   "outputs": [
    {
     "data": {
      "text/plain": [
       "0.5842293906810035"
      ]
     },
     "execution_count": 1025,
     "metadata": {},
     "output_type": "execute_result"
    }
   ],
   "source": [
    "daily_y_pred_change, daily_y_test_change, daily_complying_sign = sign_prediction(y_pred, y_test)\n",
    "# 1 denotes as predicted corrected for the change of sign, while 0 means the opposite\n",
    "daily_complying_sign.count(1)/len(daily_complying_sign)"
   ]
  },
  {
   "cell_type": "code",
   "execution_count": 1026,
   "metadata": {},
   "outputs": [
    {
     "data": {
      "text/html": [
       "<div>\n",
       "<style scoped>\n",
       "    .dataframe tbody tr th:only-of-type {\n",
       "        vertical-align: middle;\n",
       "    }\n",
       "\n",
       "    .dataframe tbody tr th {\n",
       "        vertical-align: top;\n",
       "    }\n",
       "\n",
       "    .dataframe thead th {\n",
       "        text-align: right;\n",
       "    }\n",
       "</style>\n",
       "<table border=\"1\" class=\"dataframe\">\n",
       "  <thead>\n",
       "    <tr style=\"text-align: right;\">\n",
       "      <th></th>\n",
       "      <th>pred</th>\n",
       "      <th>test</th>\n",
       "    </tr>\n",
       "  </thead>\n",
       "  <tbody>\n",
       "    <tr>\n",
       "      <th>259</th>\n",
       "      <td>0.099129</td>\n",
       "      <td>0.186005</td>\n",
       "    </tr>\n",
       "    <tr>\n",
       "      <th>260</th>\n",
       "      <td>0.268822</td>\n",
       "      <td>0.846001</td>\n",
       "    </tr>\n",
       "    <tr>\n",
       "      <th>261</th>\n",
       "      <td>0.276649</td>\n",
       "      <td>-0.046006</td>\n",
       "    </tr>\n",
       "    <tr>\n",
       "      <th>262</th>\n",
       "      <td>0.305283</td>\n",
       "      <td>-0.263000</td>\n",
       "    </tr>\n",
       "    <tr>\n",
       "      <th>263</th>\n",
       "      <td>-0.082932</td>\n",
       "      <td>-0.247002</td>\n",
       "    </tr>\n",
       "    <tr>\n",
       "      <th>264</th>\n",
       "      <td>-0.221634</td>\n",
       "      <td>-0.339996</td>\n",
       "    </tr>\n",
       "    <tr>\n",
       "      <th>265</th>\n",
       "      <td>-0.226837</td>\n",
       "      <td>0.053001</td>\n",
       "    </tr>\n",
       "    <tr>\n",
       "      <th>266</th>\n",
       "      <td>-0.303764</td>\n",
       "      <td>-0.655998</td>\n",
       "    </tr>\n",
       "    <tr>\n",
       "      <th>267</th>\n",
       "      <td>-0.252953</td>\n",
       "      <td>-0.557007</td>\n",
       "    </tr>\n",
       "    <tr>\n",
       "      <th>268</th>\n",
       "      <td>-0.459747</td>\n",
       "      <td>0.188004</td>\n",
       "    </tr>\n",
       "    <tr>\n",
       "      <th>269</th>\n",
       "      <td>-0.324783</td>\n",
       "      <td>0.264999</td>\n",
       "    </tr>\n",
       "    <tr>\n",
       "      <th>270</th>\n",
       "      <td>0.304985</td>\n",
       "      <td>-0.016998</td>\n",
       "    </tr>\n",
       "    <tr>\n",
       "      <th>271</th>\n",
       "      <td>0.139618</td>\n",
       "      <td>-0.207001</td>\n",
       "    </tr>\n",
       "    <tr>\n",
       "      <th>272</th>\n",
       "      <td>-0.199257</td>\n",
       "      <td>-0.354004</td>\n",
       "    </tr>\n",
       "    <tr>\n",
       "      <th>273</th>\n",
       "      <td>-0.206169</td>\n",
       "      <td>-0.207992</td>\n",
       "    </tr>\n",
       "    <tr>\n",
       "      <th>274</th>\n",
       "      <td>-0.231270</td>\n",
       "      <td>0.225998</td>\n",
       "    </tr>\n",
       "    <tr>\n",
       "      <th>275</th>\n",
       "      <td>-0.134933</td>\n",
       "      <td>-0.136002</td>\n",
       "    </tr>\n",
       "    <tr>\n",
       "      <th>276</th>\n",
       "      <td>0.360161</td>\n",
       "      <td>0.846001</td>\n",
       "    </tr>\n",
       "    <tr>\n",
       "      <th>277</th>\n",
       "      <td>0.179268</td>\n",
       "      <td>0.630996</td>\n",
       "    </tr>\n",
       "    <tr>\n",
       "      <th>278</th>\n",
       "      <td>0.582367</td>\n",
       "      <td>0.176003</td>\n",
       "    </tr>\n",
       "  </tbody>\n",
       "</table>\n",
       "</div>"
      ],
      "text/plain": [
       "         pred      test\n",
       "259  0.099129  0.186005\n",
       "260  0.268822  0.846001\n",
       "261  0.276649 -0.046006\n",
       "262  0.305283 -0.263000\n",
       "263 -0.082932 -0.247002\n",
       "264 -0.221634 -0.339996\n",
       "265 -0.226837  0.053001\n",
       "266 -0.303764 -0.655998\n",
       "267 -0.252953 -0.557007\n",
       "268 -0.459747  0.188004\n",
       "269 -0.324783  0.264999\n",
       "270  0.304985 -0.016998\n",
       "271  0.139618 -0.207001\n",
       "272 -0.199257 -0.354004\n",
       "273 -0.206169 -0.207992\n",
       "274 -0.231270  0.225998\n",
       "275 -0.134933 -0.136002\n",
       "276  0.360161  0.846001\n",
       "277  0.179268  0.630996\n",
       "278  0.582367  0.176003"
      ]
     },
     "execution_count": 1026,
     "metadata": {},
     "output_type": "execute_result"
    }
   ],
   "source": [
    "pd.DataFrame(\n",
    "  {'pred': daily_y_pred_change,\n",
    "   'test': daily_y_test_change\n",
    "}).tail(20)"
   ]
  },
  {
   "cell_type": "code",
   "execution_count": 1032,
   "metadata": {},
   "outputs": [
    {
     "data": {
      "text/plain": [
       "0.8086642599277978"
      ]
     },
     "execution_count": 1032,
     "metadata": {},
     "output_type": "execute_result"
    }
   ],
   "source": [
    "daily_y_pred_change2, daily_y_test_change2, daily_complying_sign2 = sign_prediction(y_pred[2:], y_test[:-2])\n",
    "daily_complying_sign2.count(1)/len(daily_complying_sign2)"
   ]
  },
  {
   "cell_type": "code",
   "execution_count": 1033,
   "metadata": {},
   "outputs": [
    {
     "data": {
      "text/html": [
       "<div>\n",
       "<style scoped>\n",
       "    .dataframe tbody tr th:only-of-type {\n",
       "        vertical-align: middle;\n",
       "    }\n",
       "\n",
       "    .dataframe tbody tr th {\n",
       "        vertical-align: top;\n",
       "    }\n",
       "\n",
       "    .dataframe thead th {\n",
       "        text-align: right;\n",
       "    }\n",
       "</style>\n",
       "<table border=\"1\" class=\"dataframe\">\n",
       "  <thead>\n",
       "    <tr style=\"text-align: right;\">\n",
       "      <th></th>\n",
       "      <th>pred</th>\n",
       "      <th>test</th>\n",
       "    </tr>\n",
       "  </thead>\n",
       "  <tbody>\n",
       "    <tr>\n",
       "      <th>257</th>\n",
       "      <td>0.099129</td>\n",
       "      <td>0.115006</td>\n",
       "    </tr>\n",
       "    <tr>\n",
       "      <th>258</th>\n",
       "      <td>0.268822</td>\n",
       "      <td>0.078994</td>\n",
       "    </tr>\n",
       "    <tr>\n",
       "      <th>259</th>\n",
       "      <td>0.276649</td>\n",
       "      <td>0.186005</td>\n",
       "    </tr>\n",
       "    <tr>\n",
       "      <th>260</th>\n",
       "      <td>0.305283</td>\n",
       "      <td>0.846001</td>\n",
       "    </tr>\n",
       "    <tr>\n",
       "      <th>261</th>\n",
       "      <td>-0.082932</td>\n",
       "      <td>-0.046006</td>\n",
       "    </tr>\n",
       "    <tr>\n",
       "      <th>262</th>\n",
       "      <td>-0.221634</td>\n",
       "      <td>-0.263000</td>\n",
       "    </tr>\n",
       "    <tr>\n",
       "      <th>263</th>\n",
       "      <td>-0.226837</td>\n",
       "      <td>-0.247002</td>\n",
       "    </tr>\n",
       "    <tr>\n",
       "      <th>264</th>\n",
       "      <td>-0.303764</td>\n",
       "      <td>-0.339996</td>\n",
       "    </tr>\n",
       "    <tr>\n",
       "      <th>265</th>\n",
       "      <td>-0.252953</td>\n",
       "      <td>0.053001</td>\n",
       "    </tr>\n",
       "    <tr>\n",
       "      <th>266</th>\n",
       "      <td>-0.459747</td>\n",
       "      <td>-0.655998</td>\n",
       "    </tr>\n",
       "    <tr>\n",
       "      <th>267</th>\n",
       "      <td>-0.324783</td>\n",
       "      <td>-0.557007</td>\n",
       "    </tr>\n",
       "    <tr>\n",
       "      <th>268</th>\n",
       "      <td>0.304985</td>\n",
       "      <td>0.188004</td>\n",
       "    </tr>\n",
       "    <tr>\n",
       "      <th>269</th>\n",
       "      <td>0.139618</td>\n",
       "      <td>0.264999</td>\n",
       "    </tr>\n",
       "    <tr>\n",
       "      <th>270</th>\n",
       "      <td>-0.199257</td>\n",
       "      <td>-0.016998</td>\n",
       "    </tr>\n",
       "    <tr>\n",
       "      <th>271</th>\n",
       "      <td>-0.206169</td>\n",
       "      <td>-0.207001</td>\n",
       "    </tr>\n",
       "    <tr>\n",
       "      <th>272</th>\n",
       "      <td>-0.231270</td>\n",
       "      <td>-0.354004</td>\n",
       "    </tr>\n",
       "    <tr>\n",
       "      <th>273</th>\n",
       "      <td>-0.134933</td>\n",
       "      <td>-0.207992</td>\n",
       "    </tr>\n",
       "    <tr>\n",
       "      <th>274</th>\n",
       "      <td>0.360161</td>\n",
       "      <td>0.225998</td>\n",
       "    </tr>\n",
       "    <tr>\n",
       "      <th>275</th>\n",
       "      <td>0.179268</td>\n",
       "      <td>-0.136002</td>\n",
       "    </tr>\n",
       "    <tr>\n",
       "      <th>276</th>\n",
       "      <td>0.582367</td>\n",
       "      <td>0.846001</td>\n",
       "    </tr>\n",
       "  </tbody>\n",
       "</table>\n",
       "</div>"
      ],
      "text/plain": [
       "         pred      test\n",
       "257  0.099129  0.115006\n",
       "258  0.268822  0.078994\n",
       "259  0.276649  0.186005\n",
       "260  0.305283  0.846001\n",
       "261 -0.082932 -0.046006\n",
       "262 -0.221634 -0.263000\n",
       "263 -0.226837 -0.247002\n",
       "264 -0.303764 -0.339996\n",
       "265 -0.252953  0.053001\n",
       "266 -0.459747 -0.655998\n",
       "267 -0.324783 -0.557007\n",
       "268  0.304985  0.188004\n",
       "269  0.139618  0.264999\n",
       "270 -0.199257 -0.016998\n",
       "271 -0.206169 -0.207001\n",
       "272 -0.231270 -0.354004\n",
       "273 -0.134933 -0.207992\n",
       "274  0.360161  0.225998\n",
       "275  0.179268 -0.136002\n",
       "276  0.582367  0.846001"
      ]
     },
     "execution_count": 1033,
     "metadata": {},
     "output_type": "execute_result"
    }
   ],
   "source": [
    "pd.DataFrame(\n",
    "  {'pred': daily_y_pred_change2,\n",
    "   'test': daily_y_test_change2\n",
    "}).tail(20)"
   ]
  },
  {
   "cell_type": "markdown",
   "metadata": {},
   "source": [
    "# Predictions for monthly Consecutive Days "
   ]
  },
  {
   "cell_type": "code",
   "execution_count": 662,
   "metadata": {},
   "outputs": [
    {
     "data": {
      "text/plain": [
       "'2022-02-03'"
      ]
     },
     "execution_count": 662,
     "metadata": {},
     "output_type": "execute_result"
    }
   ],
   "source": [
    "str(today)"
   ]
  },
  {
   "cell_type": "code",
   "execution_count": 688,
   "metadata": {},
   "outputs": [
    {
     "name": "stdout",
     "output_type": "stream",
     "text": [
      "Epoch 1/10\n",
      "789/789 [==============================] - 36s 29ms/step - loss: 1329.7781 - acc: 0.0000e+00 - val_loss: 178.7909 - val_acc: 0.0000e+00\n",
      "Epoch 2/10\n",
      "789/789 [==============================] - 20s 25ms/step - loss: 670.2453 - acc: 0.0000e+00 - val_loss: 73.9750 - val_acc: 0.0000e+00\n",
      "Epoch 3/10\n",
      "789/789 [==============================] - 18s 23ms/step - loss: 611.5733 - acc: 0.0000e+00 - val_loss: 237.6265 - val_acc: 0.0000e+00\n",
      "Epoch 4/10\n",
      "789/789 [==============================] - 21s 26ms/step - loss: 563.5494 - acc: 0.0000e+00 - val_loss: 1.0031 - val_acc: 0.0000e+00s - loss: 564.3519 - acc: 0.0000e+\n",
      "Epoch 5/10\n",
      "789/789 [==============================] - 18s 23ms/step - loss: 514.4771 - acc: 0.0000e+00 - val_loss: 43.0984 - val_acc: 0.0000e+00\n",
      "Epoch 6/10\n",
      "789/789 [==============================] - 20s 25ms/step - loss: 505.5531 - acc: 0.0000e+00 - val_loss: 16.3860 - val_acc: 0.0000e+00 - acc: 0.000 - ETA: 2s -\n",
      "Epoch 7/10\n",
      "789/789 [==============================] - 19s 24ms/step - loss: 476.6724 - acc: 0.0000e+00 - val_loss: 18.1419 - val_acc: 0.0000e+00\n",
      "Epoch 8/10\n",
      "789/789 [==============================] - 19s 24ms/step - loss: 449.9890 - acc: 0.0000e+00 - val_loss: 1.3103 - val_acc: 0.0000e+00\n",
      "Epoch 9/10\n",
      "789/789 [==============================] - 19s 24ms/step - loss: 427.2734 - acc: 0.0000e+00 - val_loss: 28.4608 - val_acc: 0.0000e+00\n"
     ]
    }
   ],
   "source": [
    "today = date.today()\n",
    "def monthly_prediction(forex_dataset, training_end_date):\n",
    "    X_train, X_test, y_train, y_test, testing_days= spliting_dataset(forex_dataset, training_end_date)\n",
    "    \n",
    "    model = Sequential()\n",
    "    model.add(LSTM(3, activation = 'elu', return_sequences = False, input_shape=(X_train.shape[1],1), dropout=0.4, recurrent_dropout=0.4))\n",
    "    # model.add(LSTM(64, activation = 'elu', return_sequences = False, dropout=0.2, recurrent_dropout=0.2))\n",
    "    # model.add(Dense(32, activation='elu'))\n",
    "    model.add(Dropout(0.5))\n",
    "    model.add(Dense(1))\n",
    "    opt = keras.optimizers.Adam(learning_rate=0.001)\n",
    "    model.compile(optimizer = 'adam', loss = 'mse',metrics=['acc'])\n",
    "    early_stopping = callbacks.EarlyStopping(min_delta = 0.0001, patience= 5, restore_best_weights = True)\n",
    "    model.fit(X_train, y_train, epochs = 1000, validation_data = (X_test, y_test), batch_size = 3, callbacks=[early_stopping])\n",
    "    y_pred = model.predict(X_test)\n",
    "    y_test = y_test.reshape(-1,1)\n",
    "    mse_result = mean_squared_error(y_test, y_pred)\n",
    "    \n",
    "\n",
    "    return model, mse_result, (sign_prediction(y_pred, y_test)), testing_days\n",
    "\n",
    "mon_model, mon_mse_result, (daily_pred_change, daily_test_change, sign_change), testing_days = monthly_prediction(forex_dataset, '2020-12-31')"
   ]
  },
  {
   "cell_type": "code",
   "execution_count": 684,
   "metadata": {},
   "outputs": [
    {
     "data": {
      "text/plain": [
       "0.6071428571428571"
      ]
     },
     "execution_count": 684,
     "metadata": {},
     "output_type": "execute_result"
    }
   ],
   "source": [
    "sign_change.count(1)/len(sign_change)"
   ]
  },
  {
   "cell_type": "code",
   "execution_count": 1027,
   "metadata": {},
   "outputs": [
    {
     "data": {
      "text/html": [
       "<div>\n",
       "<style scoped>\n",
       "    .dataframe tbody tr th:only-of-type {\n",
       "        vertical-align: middle;\n",
       "    }\n",
       "\n",
       "    .dataframe tbody tr th {\n",
       "        vertical-align: top;\n",
       "    }\n",
       "\n",
       "    .dataframe thead th {\n",
       "        text-align: right;\n",
       "    }\n",
       "</style>\n",
       "<table border=\"1\" class=\"dataframe\">\n",
       "  <thead>\n",
       "    <tr style=\"text-align: right;\">\n",
       "      <th></th>\n",
       "      <th>y_pred_change</th>\n",
       "      <th>y_test_change</th>\n",
       "    </tr>\n",
       "  </thead>\n",
       "  <tbody>\n",
       "    <tr>\n",
       "      <th>0</th>\n",
       "      <td>-0.069206</td>\n",
       "      <td>-0.113998</td>\n",
       "    </tr>\n",
       "    <tr>\n",
       "      <th>1</th>\n",
       "      <td>-0.056694</td>\n",
       "      <td>-0.446999</td>\n",
       "    </tr>\n",
       "    <tr>\n",
       "      <th>2</th>\n",
       "      <td>-0.118065</td>\n",
       "      <td>0.346001</td>\n",
       "    </tr>\n",
       "    <tr>\n",
       "      <th>3</th>\n",
       "      <td>0.282532</td>\n",
       "      <td>0.765999</td>\n",
       "    </tr>\n",
       "    <tr>\n",
       "      <th>4</th>\n",
       "      <td>0.398575</td>\n",
       "      <td>0.301002</td>\n",
       "    </tr>\n",
       "    <tr>\n",
       "      <th>5</th>\n",
       "      <td>0.228722</td>\n",
       "      <td>0.036995</td>\n",
       "    </tr>\n",
       "    <tr>\n",
       "      <th>6</th>\n",
       "      <td>0.012398</td>\n",
       "      <td>-0.375999</td>\n",
       "    </tr>\n",
       "    <tr>\n",
       "      <th>7</th>\n",
       "      <td>-0.287621</td>\n",
       "      <td>0.084999</td>\n",
       "    </tr>\n",
       "    <tr>\n",
       "      <th>8</th>\n",
       "      <td>0.091339</td>\n",
       "      <td>-0.008995</td>\n",
       "    </tr>\n",
       "    <tr>\n",
       "      <th>9</th>\n",
       "      <td>-0.070618</td>\n",
       "      <td>0.079994</td>\n",
       "    </tr>\n",
       "  </tbody>\n",
       "</table>\n",
       "</div>"
      ],
      "text/plain": [
       "   y_pred_change  y_test_change\n",
       "0      -0.069206      -0.113998\n",
       "1      -0.056694      -0.446999\n",
       "2      -0.118065       0.346001\n",
       "3       0.282532       0.765999\n",
       "4       0.398575       0.301002\n",
       "5       0.228722       0.036995\n",
       "6       0.012398      -0.375999\n",
       "7      -0.287621       0.084999\n",
       "8       0.091339      -0.008995\n",
       "9      -0.070618       0.079994"
      ]
     },
     "execution_count": 1027,
     "metadata": {},
     "output_type": "execute_result"
    }
   ],
   "source": [
    "pd.DataFrame(\n",
    "    {'y_pred_change': _,\n",
    "     'y_test_change': __\n",
    "    }).head(10)"
   ]
  },
  {
   "cell_type": "code",
   "execution_count": 677,
   "metadata": {},
   "outputs": [
    {
     "data": {
      "text/plain": [
       "<matplotlib.legend.Legend at 0x152a10afd68>"
      ]
     },
     "execution_count": 677,
     "metadata": {},
     "output_type": "execute_result"
    },
    {
     "data": {
      "image/png": "[encoded data removed]",
      "text/plain": [
       "<Figure size 1152x576 with 1 Axes>"
      ]
     },
     "metadata": {
      "needs_background": "light"
     },
     "output_type": "display_data"
    }
   ],
   "source": [
    "# Visualize the result\n",
    "plt.figure(figsize=(16,8))\n",
    "plt.title('Foreign Exchange Rate of JPY')\n",
    "plt.plot(testing_days[1:], mon_y_test, label='Actual')\n",
    "plt.plot(testing_days[1:], mon_y_pred, label='Predicted', color = 'r')\n",
    "plt.legend()"
   ]
  },
  {
   "cell_type": "markdown",
   "metadata": {},
   "source": [
    "# Writing result to Excel file"
   ]
  },
  {
   "cell_type": "code",
   "execution_count": null,
   "metadata": {},
   "outputs": [],
   "source": [
    "# Writing result to an Excel file\n",
    "from openpyxl import load_workbook\n",
    "filename_result = 'Result/Forex Prediction Result.xlsx'\n",
    "wb_result = load_workbook(filename_result)\n",
    "ws_result = wb_result.worksheets[0]\n",
    "\n",
    "# Title\n",
    "ws_result['A1'] = 'Analysis Date'\n",
    "ws_result['B1'] = 'Testing period'\n",
    "ws_result['C1'] = 'LSTM Architecture' \n",
    "ws_result['D1'] = 'MSE Result'\n",
    "\n",
    "for i in range(1,10000):\n",
    "    if ws_result['A'+str(i+1)] != '':\n",
    "        ws_result['A'+str(i+1)] = today\n",
    "wb_result.save(filename_result)"
   ]
  },
  {
   "cell_type": "code",
   "execution_count": null,
   "metadata": {},
   "outputs": [],
   "source": [
    "from datetime import date\n",
    "\n",
    "today = date.today()\n",
    "print(\"Today's date:\", today)"
   ]
  }
 ],
 "metadata": {
  "kernelspec": {
   "display_name": "Python 3",
   "language": "python",
   "name": "python3"
  },
  "language_info": {
   "codemirror_mode": {
    "name": "ipython",
    "version": 3
   },
   "file_extension": ".py",
   "mimetype": "text/x-python",
   "name": "python",
   "nbconvert_exporter": "python",
   "pygments_lexer": "ipython3",
   "version": "3.7.3"
  }
 },
 "nbformat": 4,
 "nbformat_minor": 2
}
