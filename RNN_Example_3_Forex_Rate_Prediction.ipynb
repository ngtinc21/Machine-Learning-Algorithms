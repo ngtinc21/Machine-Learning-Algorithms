{
 "cells": [
  {
   "cell_type": "markdown",
   "metadata": {},
   "source": [
    "# Forex Rate Prediction - USD/JPY\n",
    "\n",
    "This example is to predict the daily sign change of foreign exchange price with Japan.\n",
    "\n",
    "The data source is from Yahoo Finance.\n",
    "\n",
    "The data availability is from 30th October 1996 to 31st January 2022.\n",
    "\n",
    "There are seven columns in the csv files, they are \"Date\", \"Open\", \"High\", \"Low\", \"Close\", \"Adj Close\", \"Volume\"."
   ]
  },
  {
   "cell_type": "markdown",
   "metadata": {},
   "source": [
    "## 1. Data Acquisition"
   ]
  },
  {
   "cell_type": "code",
   "execution_count": 3,
   "metadata": {},
   "outputs": [],
   "source": [
    "# import libraries\n",
    "import pandas as pd\n",
    "import numpy as np\n",
    "import matplotlib.pyplot as plt\n",
    "%matplotlib inline\n",
    "import tensorflow as tf\n",
    "from tensorflow import keras"
   ]
  },
  {
   "cell_type": "code",
   "execution_count": 4,
   "metadata": {},
   "outputs": [
    {
     "data": {
      "text/html": [
       "<div>\n",
       "<style scoped>\n",
       "    .dataframe tbody tr th:only-of-type {\n",
       "        vertical-align: middle;\n",
       "    }\n",
       "\n",
       "    .dataframe tbody tr th {\n",
       "        vertical-align: top;\n",
       "    }\n",
       "\n",
       "    .dataframe thead th {\n",
       "        text-align: right;\n",
       "    }\n",
       "</style>\n",
       "<table border=\"1\" class=\"dataframe\">\n",
       "  <thead>\n",
       "    <tr style=\"text-align: right;\">\n",
       "      <th></th>\n",
       "      <th>Date</th>\n",
       "      <th>Open</th>\n",
       "      <th>High</th>\n",
       "      <th>Low</th>\n",
       "      <th>Close</th>\n",
       "      <th>Adj Close</th>\n",
       "      <th>Volume</th>\n",
       "    </tr>\n",
       "  </thead>\n",
       "  <tbody>\n",
       "    <tr>\n",
       "      <th>0</th>\n",
       "      <td>30/10/1996</td>\n",
       "      <td>114.370003</td>\n",
       "      <td>114.480003</td>\n",
       "      <td>113.610001</td>\n",
       "      <td>114.180000</td>\n",
       "      <td>114.180000</td>\n",
       "      <td>0.0</td>\n",
       "    </tr>\n",
       "    <tr>\n",
       "      <th>1</th>\n",
       "      <td>31/10/1996</td>\n",
       "      <td>NaN</td>\n",
       "      <td>NaN</td>\n",
       "      <td>NaN</td>\n",
       "      <td>NaN</td>\n",
       "      <td>NaN</td>\n",
       "      <td>NaN</td>\n",
       "    </tr>\n",
       "    <tr>\n",
       "      <th>2</th>\n",
       "      <td>1/11/1996</td>\n",
       "      <td>113.500000</td>\n",
       "      <td>113.500000</td>\n",
       "      <td>113.500000</td>\n",
       "      <td>113.500000</td>\n",
       "      <td>113.500000</td>\n",
       "      <td>0.0</td>\n",
       "    </tr>\n",
       "    <tr>\n",
       "      <th>3</th>\n",
       "      <td>4/11/1996</td>\n",
       "      <td>113.279999</td>\n",
       "      <td>113.980003</td>\n",
       "      <td>112.949997</td>\n",
       "      <td>113.879997</td>\n",
       "      <td>113.879997</td>\n",
       "      <td>0.0</td>\n",
       "    </tr>\n",
       "    <tr>\n",
       "      <th>4</th>\n",
       "      <td>5/11/1996</td>\n",
       "      <td>113.709999</td>\n",
       "      <td>114.330002</td>\n",
       "      <td>113.449997</td>\n",
       "      <td>114.250000</td>\n",
       "      <td>114.250000</td>\n",
       "      <td>0.0</td>\n",
       "    </tr>\n",
       "  </tbody>\n",
       "</table>\n",
       "</div>"
      ],
      "text/plain": [
       "         Date        Open        High         Low       Close   Adj Close  \\\n",
       "0  30/10/1996  114.370003  114.480003  113.610001  114.180000  114.180000   \n",
       "1  31/10/1996         NaN         NaN         NaN         NaN         NaN   \n",
       "2   1/11/1996  113.500000  113.500000  113.500000  113.500000  113.500000   \n",
       "3   4/11/1996  113.279999  113.980003  112.949997  113.879997  113.879997   \n",
       "4   5/11/1996  113.709999  114.330002  113.449997  114.250000  114.250000   \n",
       "\n",
       "   Volume  \n",
       "0     0.0  \n",
       "1     NaN  \n",
       "2     0.0  \n",
       "3     0.0  \n",
       "4     0.0  "
      ]
     },
     "execution_count": 4,
     "metadata": {},
     "output_type": "execute_result"
    }
   ],
   "source": [
    "# Reading dataset\n",
    "forex_dataset = pd.read_csv('Data/Historical forex rate/JPY=X.csv')\n",
    "forex_dataset.head()"
   ]
  },
  {
   "cell_type": "code",
   "execution_count": 5,
   "metadata": {},
   "outputs": [
    {
     "data": {
      "text/html": [
       "<div>\n",
       "<style scoped>\n",
       "    .dataframe tbody tr th:only-of-type {\n",
       "        vertical-align: middle;\n",
       "    }\n",
       "\n",
       "    .dataframe tbody tr th {\n",
       "        vertical-align: top;\n",
       "    }\n",
       "\n",
       "    .dataframe thead th {\n",
       "        text-align: right;\n",
       "    }\n",
       "</style>\n",
       "<table border=\"1\" class=\"dataframe\">\n",
       "  <thead>\n",
       "    <tr style=\"text-align: right;\">\n",
       "      <th></th>\n",
       "      <th>Date</th>\n",
       "      <th>Open</th>\n",
       "      <th>High</th>\n",
       "      <th>Low</th>\n",
       "      <th>Close</th>\n",
       "      <th>Adj Close</th>\n",
       "      <th>Volume</th>\n",
       "    </tr>\n",
       "  </thead>\n",
       "  <tbody>\n",
       "    <tr>\n",
       "      <th>6588</th>\n",
       "      <td>31/1/2022</td>\n",
       "      <td>115.577003</td>\n",
       "      <td>115.176002</td>\n",
       "      <td>115.238998</td>\n",
       "      <td>115.262001</td>\n",
       "      <td>115.262001</td>\n",
       "      <td>0.0</td>\n",
       "    </tr>\n",
       "    <tr>\n",
       "      <th>6589</th>\n",
       "      <td>1/2/2022</td>\n",
       "      <td>115.192001</td>\n",
       "      <td>114.568001</td>\n",
       "      <td>115.143997</td>\n",
       "      <td>115.121002</td>\n",
       "      <td>115.121002</td>\n",
       "      <td>0.0</td>\n",
       "    </tr>\n",
       "    <tr>\n",
       "      <th>6590</th>\n",
       "      <td>2/2/2022</td>\n",
       "      <td>114.795998</td>\n",
       "      <td>114.193001</td>\n",
       "      <td>114.724999</td>\n",
       "      <td>114.736000</td>\n",
       "      <td>114.736000</td>\n",
       "      <td>0.0</td>\n",
       "    </tr>\n",
       "    <tr>\n",
       "      <th>6591</th>\n",
       "      <td>3/2/2022</td>\n",
       "      <td>114.969002</td>\n",
       "      <td>114.325996</td>\n",
       "      <td>114.367996</td>\n",
       "      <td>114.382004</td>\n",
       "      <td>114.382004</td>\n",
       "      <td>0.0</td>\n",
       "    </tr>\n",
       "    <tr>\n",
       "      <th>6592</th>\n",
       "      <td>4/2/2022</td>\n",
       "      <td>115.426002</td>\n",
       "      <td>114.780998</td>\n",
       "      <td>114.969002</td>\n",
       "      <td>114.957001</td>\n",
       "      <td>114.957001</td>\n",
       "      <td>0.0</td>\n",
       "    </tr>\n",
       "  </tbody>\n",
       "</table>\n",
       "</div>"
      ],
      "text/plain": [
       "           Date        Open        High         Low       Close   Adj Close  \\\n",
       "6588  31/1/2022  115.577003  115.176002  115.238998  115.262001  115.262001   \n",
       "6589   1/2/2022  115.192001  114.568001  115.143997  115.121002  115.121002   \n",
       "6590   2/2/2022  114.795998  114.193001  114.724999  114.736000  114.736000   \n",
       "6591   3/2/2022  114.969002  114.325996  114.367996  114.382004  114.382004   \n",
       "6592   4/2/2022  115.426002  114.780998  114.969002  114.957001  114.957001   \n",
       "\n",
       "      Volume  \n",
       "6588     0.0  \n",
       "6589     0.0  \n",
       "6590     0.0  \n",
       "6591     0.0  \n",
       "6592     0.0  "
      ]
     },
     "execution_count": 5,
     "metadata": {},
     "output_type": "execute_result"
    }
   ],
   "source": [
    "forex_dataset.tail()"
   ]
  },
  {
   "cell_type": "markdown",
   "metadata": {},
   "source": [
    "## 2. Exploratory Data Analysis"
   ]
  },
  {
   "cell_type": "code",
   "execution_count": 6,
   "metadata": {},
   "outputs": [
    {
     "data": {
      "text/plain": [
       "(6593, 7)"
      ]
     },
     "execution_count": 6,
     "metadata": {},
     "output_type": "execute_result"
    }
   ],
   "source": [
    "forex_dataset.shape"
   ]
  },
  {
   "cell_type": "code",
   "execution_count": 7,
   "metadata": {},
   "outputs": [
    {
     "data": {
      "text/plain": [
       "Date          0\n",
       "Open         43\n",
       "High         43\n",
       "Low          43\n",
       "Close        43\n",
       "Adj Close    43\n",
       "Volume       43\n",
       "dtype: int64"
      ]
     },
     "execution_count": 7,
     "metadata": {},
     "output_type": "execute_result"
    }
   ],
   "source": [
    "# Checking null values\n",
    "forex_dataset.isnull().sum()"
   ]
  },
  {
   "cell_type": "code",
   "execution_count": 8,
   "metadata": {},
   "outputs": [],
   "source": [
    "# Fill NaN values using an interpolation method (\"linear\")\n",
    "forex_dataset.interpolate(inplace = True)"
   ]
  },
  {
   "cell_type": "code",
   "execution_count": 9,
   "metadata": {},
   "outputs": [
    {
     "data": {
      "text/plain": [
       "True"
      ]
     },
     "execution_count": 9,
     "metadata": {},
     "output_type": "execute_result"
    }
   ],
   "source": [
    "# See if there is any difference between the values in \"Close\" and \"Adj Close\"\n",
    "all(forex_dataset['Close']==forex_dataset['Adj Close']) and all(forex_dataset['Volume']<=0)"
   ]
  },
  {
   "cell_type": "code",
   "execution_count": 10,
   "metadata": {},
   "outputs": [],
   "source": [
    "# Drop out the \"Adj Close\" for redundancy\n",
    "forex_dataset.drop(['Adj Close','Volume'], axis = 1, inplace = True)"
   ]
  },
  {
   "cell_type": "code",
   "execution_count": 11,
   "metadata": {},
   "outputs": [
    {
     "data": {
      "text/html": [
       "<div>\n",
       "<style scoped>\n",
       "    .dataframe tbody tr th:only-of-type {\n",
       "        vertical-align: middle;\n",
       "    }\n",
       "\n",
       "    .dataframe tbody tr th {\n",
       "        vertical-align: top;\n",
       "    }\n",
       "\n",
       "    .dataframe thead th {\n",
       "        text-align: right;\n",
       "    }\n",
       "</style>\n",
       "<table border=\"1\" class=\"dataframe\">\n",
       "  <thead>\n",
       "    <tr style=\"text-align: right;\">\n",
       "      <th></th>\n",
       "      <th>Date</th>\n",
       "      <th>Open</th>\n",
       "      <th>High</th>\n",
       "      <th>Low</th>\n",
       "      <th>Close</th>\n",
       "    </tr>\n",
       "  </thead>\n",
       "  <tbody>\n",
       "    <tr>\n",
       "      <th>0</th>\n",
       "      <td>1996-10-30</td>\n",
       "      <td>114.370003</td>\n",
       "      <td>114.480003</td>\n",
       "      <td>113.610001</td>\n",
       "      <td>114.180000</td>\n",
       "    </tr>\n",
       "    <tr>\n",
       "      <th>1</th>\n",
       "      <td>1996-10-31</td>\n",
       "      <td>113.935001</td>\n",
       "      <td>113.990002</td>\n",
       "      <td>113.555001</td>\n",
       "      <td>113.840000</td>\n",
       "    </tr>\n",
       "    <tr>\n",
       "      <th>2</th>\n",
       "      <td>1996-11-01</td>\n",
       "      <td>113.500000</td>\n",
       "      <td>113.500000</td>\n",
       "      <td>113.500000</td>\n",
       "      <td>113.500000</td>\n",
       "    </tr>\n",
       "    <tr>\n",
       "      <th>3</th>\n",
       "      <td>1996-11-04</td>\n",
       "      <td>113.279999</td>\n",
       "      <td>113.980003</td>\n",
       "      <td>112.949997</td>\n",
       "      <td>113.879997</td>\n",
       "    </tr>\n",
       "    <tr>\n",
       "      <th>4</th>\n",
       "      <td>1996-11-05</td>\n",
       "      <td>113.709999</td>\n",
       "      <td>114.330002</td>\n",
       "      <td>113.449997</td>\n",
       "      <td>114.250000</td>\n",
       "    </tr>\n",
       "  </tbody>\n",
       "</table>\n",
       "</div>"
      ],
      "text/plain": [
       "        Date        Open        High         Low       Close\n",
       "0 1996-10-30  114.370003  114.480003  113.610001  114.180000\n",
       "1 1996-10-31  113.935001  113.990002  113.555001  113.840000\n",
       "2 1996-11-01  113.500000  113.500000  113.500000  113.500000\n",
       "3 1996-11-04  113.279999  113.980003  112.949997  113.879997\n",
       "4 1996-11-05  113.709999  114.330002  113.449997  114.250000"
      ]
     },
     "execution_count": 11,
     "metadata": {},
     "output_type": "execute_result"
    }
   ],
   "source": [
    "# Resort the date\n",
    "forex_dataset['Date'] = pd.to_datetime(forex_dataset['Date'], format = '%d/%m/%Y')\n",
    "forex_dataset.head()"
   ]
  },
  {
   "cell_type": "code",
   "execution_count": 12,
   "metadata": {},
   "outputs": [
    {
     "data": {
      "text/plain": [
       "0"
      ]
     },
     "execution_count": 12,
     "metadata": {},
     "output_type": "execute_result"
    }
   ],
   "source": [
    "# See if duplicated row exists\n",
    "forex_dataset.duplicated().sum()"
   ]
  },
  {
   "cell_type": "code",
   "execution_count": 13,
   "metadata": {},
   "outputs": [],
   "source": [
    "# Set the date to be the index\n",
    "Date = forex_dataset['Date']\n",
    "forex_dataset.set_index('Date', inplace= True) "
   ]
  },
  {
   "cell_type": "code",
   "execution_count": 14,
   "metadata": {},
   "outputs": [
    {
     "data": {
      "text/html": [
       "<div>\n",
       "<style scoped>\n",
       "    .dataframe tbody tr th:only-of-type {\n",
       "        vertical-align: middle;\n",
       "    }\n",
       "\n",
       "    .dataframe tbody tr th {\n",
       "        vertical-align: top;\n",
       "    }\n",
       "\n",
       "    .dataframe thead th {\n",
       "        text-align: right;\n",
       "    }\n",
       "</style>\n",
       "<table border=\"1\" class=\"dataframe\">\n",
       "  <thead>\n",
       "    <tr style=\"text-align: right;\">\n",
       "      <th></th>\n",
       "      <th>Open</th>\n",
       "      <th>High</th>\n",
       "      <th>Low</th>\n",
       "      <th>Close</th>\n",
       "    </tr>\n",
       "  </thead>\n",
       "  <tbody>\n",
       "    <tr>\n",
       "      <th>count</th>\n",
       "      <td>6593.000000</td>\n",
       "      <td>6593.000000</td>\n",
       "      <td>6593.000000</td>\n",
       "      <td>6593.000000</td>\n",
       "    </tr>\n",
       "    <tr>\n",
       "      <th>mean</th>\n",
       "      <td>108.617092</td>\n",
       "      <td>109.059958</td>\n",
       "      <td>108.128047</td>\n",
       "      <td>108.612217</td>\n",
       "    </tr>\n",
       "    <tr>\n",
       "      <th>std</th>\n",
       "      <td>13.216975</td>\n",
       "      <td>13.297836</td>\n",
       "      <td>13.128967</td>\n",
       "      <td>13.215523</td>\n",
       "    </tr>\n",
       "    <tr>\n",
       "      <th>min</th>\n",
       "      <td>75.750000</td>\n",
       "      <td>75.973999</td>\n",
       "      <td>75.570000</td>\n",
       "      <td>75.739998</td>\n",
       "    </tr>\n",
       "    <tr>\n",
       "      <th>25%</th>\n",
       "      <td>103.239998</td>\n",
       "      <td>103.709999</td>\n",
       "      <td>102.750000</td>\n",
       "      <td>103.231003</td>\n",
       "    </tr>\n",
       "    <tr>\n",
       "      <th>50%</th>\n",
       "      <td>109.817001</td>\n",
       "      <td>110.180000</td>\n",
       "      <td>109.419998</td>\n",
       "      <td>109.830002</td>\n",
       "    </tr>\n",
       "    <tr>\n",
       "      <th>75%</th>\n",
       "      <td>117.779999</td>\n",
       "      <td>118.269997</td>\n",
       "      <td>117.279999</td>\n",
       "      <td>117.779999</td>\n",
       "    </tr>\n",
       "    <tr>\n",
       "      <th>max</th>\n",
       "      <td>147.339996</td>\n",
       "      <td>147.630005</td>\n",
       "      <td>146.000000</td>\n",
       "      <td>147.220001</td>\n",
       "    </tr>\n",
       "  </tbody>\n",
       "</table>\n",
       "</div>"
      ],
      "text/plain": [
       "              Open         High          Low        Close\n",
       "count  6593.000000  6593.000000  6593.000000  6593.000000\n",
       "mean    108.617092   109.059958   108.128047   108.612217\n",
       "std      13.216975    13.297836    13.128967    13.215523\n",
       "min      75.750000    75.973999    75.570000    75.739998\n",
       "25%     103.239998   103.709999   102.750000   103.231003\n",
       "50%     109.817001   110.180000   109.419998   109.830002\n",
       "75%     117.779999   118.269997   117.279999   117.779999\n",
       "max     147.339996   147.630005   146.000000   147.220001"
      ]
     },
     "execution_count": 14,
     "metadata": {},
     "output_type": "execute_result"
    }
   ],
   "source": [
    "# Show a summary of the data\n",
    "forex_dataset.describe()"
   ]
  },
  {
   "cell_type": "code",
   "execution_count": 15,
   "metadata": {},
   "outputs": [
    {
     "data": {
      "text/plain": [
       "Text(0.5, 1.0, 'JPY Exchange Rate at All Time')"
      ]
     },
     "execution_count": 15,
     "metadata": {},
     "output_type": "execute_result"
    },
    {
     "data": {
      "image/png": "[encoded data removed]",
      "text/plain": [
       "<Figure size 720x288 with 1 Axes>"
      ]
     },
     "metadata": {
      "needs_background": "light"
     },
     "output_type": "display_data"
    }
   ],
   "source": [
    "# Plot the Janpanese yen exchange rate\n",
    "forex_dataset[['Open','High','Low','Close']].plot(figsize = (10,4))\n",
    "plt.title('JPY Exchange Rate at All Time')"
   ]
  },
  {
   "cell_type": "code",
   "execution_count": 16,
   "metadata": {},
   "outputs": [
    {
     "data": {
      "text/plain": [
       "Text(0.5, 0, 'JPY Exchange Rate')"
      ]
     },
     "execution_count": 16,
     "metadata": {},
     "output_type": "execute_result"
    },
    {
     "data": {
      "image/png": "[encoded data removed]",
      "text/plain": [
       "<Figure size 720x288 with 1 Axes>"
      ]
     },
     "metadata": {
      "needs_background": "light"
     },
     "output_type": "display_data"
    }
   ],
   "source": [
    "forex_dataset[['Open','Close']].plot(figsize = (10,4))\n",
    "plt.title('JPY Exchange Rate at All Time')\n",
    "plt.ylabel('Date')\n",
    "plt.xlabel('JPY Exchange Rate')"
   ]
  },
  {
   "cell_type": "code",
   "execution_count": 17,
   "metadata": {},
   "outputs": [
    {
     "data": {
      "text/html": [
       "<div>\n",
       "<style scoped>\n",
       "    .dataframe tbody tr th:only-of-type {\n",
       "        vertical-align: middle;\n",
       "    }\n",
       "\n",
       "    .dataframe tbody tr th {\n",
       "        vertical-align: top;\n",
       "    }\n",
       "\n",
       "    .dataframe thead th {\n",
       "        text-align: right;\n",
       "    }\n",
       "</style>\n",
       "<table border=\"1\" class=\"dataframe\">\n",
       "  <thead>\n",
       "    <tr style=\"text-align: right;\">\n",
       "      <th></th>\n",
       "      <th>Open</th>\n",
       "      <th>High</th>\n",
       "      <th>Low</th>\n",
       "      <th>Close</th>\n",
       "    </tr>\n",
       "  </thead>\n",
       "  <tbody>\n",
       "    <tr>\n",
       "      <th>Open</th>\n",
       "      <td>1.000000</td>\n",
       "      <td>0.999395</td>\n",
       "      <td>0.999097</td>\n",
       "      <td>0.999018</td>\n",
       "    </tr>\n",
       "    <tr>\n",
       "      <th>High</th>\n",
       "      <td>0.999395</td>\n",
       "      <td>1.000000</td>\n",
       "      <td>0.998879</td>\n",
       "      <td>0.999343</td>\n",
       "    </tr>\n",
       "    <tr>\n",
       "      <th>Low</th>\n",
       "      <td>0.999097</td>\n",
       "      <td>0.998879</td>\n",
       "      <td>1.000000</td>\n",
       "      <td>0.999382</td>\n",
       "    </tr>\n",
       "    <tr>\n",
       "      <th>Close</th>\n",
       "      <td>0.999018</td>\n",
       "      <td>0.999343</td>\n",
       "      <td>0.999382</td>\n",
       "      <td>1.000000</td>\n",
       "    </tr>\n",
       "  </tbody>\n",
       "</table>\n",
       "</div>"
      ],
      "text/plain": [
       "           Open      High       Low     Close\n",
       "Open   1.000000  0.999395  0.999097  0.999018\n",
       "High   0.999395  1.000000  0.998879  0.999343\n",
       "Low    0.999097  0.998879  1.000000  0.999382\n",
       "Close  0.999018  0.999343  0.999382  1.000000"
      ]
     },
     "execution_count": 17,
     "metadata": {},
     "output_type": "execute_result"
    }
   ],
   "source": [
    "# Show the correlation of the features\n",
    "pd.DataFrame(forex_dataset.corr())"
   ]
  },
  {
   "cell_type": "code",
   "execution_count": 18,
   "metadata": {},
   "outputs": [
    {
     "data": {
      "text/html": [
       "<div>\n",
       "<style scoped>\n",
       "    .dataframe tbody tr th:only-of-type {\n",
       "        vertical-align: middle;\n",
       "    }\n",
       "\n",
       "    .dataframe tbody tr th {\n",
       "        vertical-align: top;\n",
       "    }\n",
       "\n",
       "    .dataframe thead th {\n",
       "        text-align: right;\n",
       "    }\n",
       "</style>\n",
       "<table border=\"1\" class=\"dataframe\">\n",
       "  <thead>\n",
       "    <tr style=\"text-align: right;\">\n",
       "      <th></th>\n",
       "      <th>Open</th>\n",
       "      <th>High</th>\n",
       "      <th>Low</th>\n",
       "      <th>Close</th>\n",
       "      <th>Daily Return</th>\n",
       "    </tr>\n",
       "    <tr>\n",
       "      <th>Date</th>\n",
       "      <th></th>\n",
       "      <th></th>\n",
       "      <th></th>\n",
       "      <th></th>\n",
       "      <th></th>\n",
       "    </tr>\n",
       "  </thead>\n",
       "  <tbody>\n",
       "    <tr>\n",
       "      <th>1996-10-30</th>\n",
       "      <td>114.370003</td>\n",
       "      <td>114.480003</td>\n",
       "      <td>113.610001</td>\n",
       "      <td>114.18</td>\n",
       "      <td>NaN</td>\n",
       "    </tr>\n",
       "    <tr>\n",
       "      <th>1996-10-31</th>\n",
       "      <td>113.935001</td>\n",
       "      <td>113.990002</td>\n",
       "      <td>113.555001</td>\n",
       "      <td>113.84</td>\n",
       "      <td>-0.002978</td>\n",
       "    </tr>\n",
       "    <tr>\n",
       "      <th>1996-11-01</th>\n",
       "      <td>113.500000</td>\n",
       "      <td>113.500000</td>\n",
       "      <td>113.500000</td>\n",
       "      <td>113.50</td>\n",
       "      <td>-0.002987</td>\n",
       "    </tr>\n",
       "  </tbody>\n",
       "</table>\n",
       "</div>"
      ],
      "text/plain": [
       "                  Open        High         Low   Close  Daily Return\n",
       "Date                                                                \n",
       "1996-10-30  114.370003  114.480003  113.610001  114.18           NaN\n",
       "1996-10-31  113.935001  113.990002  113.555001  113.84     -0.002978\n",
       "1996-11-01  113.500000  113.500000  113.500000  113.50     -0.002987"
      ]
     },
     "execution_count": 18,
     "metadata": {},
     "output_type": "execute_result"
    }
   ],
   "source": [
    "# Calculate the daily return each day\n",
    "forex_dataset['Daily Return'] = forex_dataset['Close'].pct_change()\n",
    "forex_dataset.head(3)"
   ]
  },
  {
   "cell_type": "code",
   "execution_count": 19,
   "metadata": {},
   "outputs": [],
   "source": [
    "forex_dataset = forex_dataset.dropna() # .dropna() because some function like seaborn cannot read NaN values"
   ]
  },
  {
   "cell_type": "code",
   "execution_count": 20,
   "metadata": {},
   "outputs": [
    {
     "data": {
      "text/html": [
       "<div>\n",
       "<style scoped>\n",
       "    .dataframe tbody tr th:only-of-type {\n",
       "        vertical-align: middle;\n",
       "    }\n",
       "\n",
       "    .dataframe tbody tr th {\n",
       "        vertical-align: top;\n",
       "    }\n",
       "\n",
       "    .dataframe thead th {\n",
       "        text-align: right;\n",
       "    }\n",
       "</style>\n",
       "<table border=\"1\" class=\"dataframe\">\n",
       "  <thead>\n",
       "    <tr style=\"text-align: right;\">\n",
       "      <th></th>\n",
       "      <th>Open</th>\n",
       "      <th>High</th>\n",
       "      <th>Low</th>\n",
       "      <th>Close</th>\n",
       "      <th>Daily Return</th>\n",
       "    </tr>\n",
       "    <tr>\n",
       "      <th>Date</th>\n",
       "      <th></th>\n",
       "      <th></th>\n",
       "      <th></th>\n",
       "      <th></th>\n",
       "      <th></th>\n",
       "    </tr>\n",
       "  </thead>\n",
       "  <tbody>\n",
       "    <tr>\n",
       "      <th>1996-10-31</th>\n",
       "      <td>113.935001</td>\n",
       "      <td>113.990002</td>\n",
       "      <td>113.555001</td>\n",
       "      <td>113.840000</td>\n",
       "      <td>-0.002978</td>\n",
       "    </tr>\n",
       "    <tr>\n",
       "      <th>1996-11-01</th>\n",
       "      <td>113.500000</td>\n",
       "      <td>113.500000</td>\n",
       "      <td>113.500000</td>\n",
       "      <td>113.500000</td>\n",
       "      <td>-0.002987</td>\n",
       "    </tr>\n",
       "    <tr>\n",
       "      <th>1996-11-04</th>\n",
       "      <td>113.279999</td>\n",
       "      <td>113.980003</td>\n",
       "      <td>112.949997</td>\n",
       "      <td>113.879997</td>\n",
       "      <td>0.003348</td>\n",
       "    </tr>\n",
       "  </tbody>\n",
       "</table>\n",
       "</div>"
      ],
      "text/plain": [
       "                  Open        High         Low       Close  Daily Return\n",
       "Date                                                                    \n",
       "1996-10-31  113.935001  113.990002  113.555001  113.840000     -0.002978\n",
       "1996-11-01  113.500000  113.500000  113.500000  113.500000     -0.002987\n",
       "1996-11-04  113.279999  113.980003  112.949997  113.879997      0.003348"
      ]
     },
     "execution_count": 20,
     "metadata": {},
     "output_type": "execute_result"
    }
   ],
   "source": [
    "forex_dataset.head(3)"
   ]
  },
  {
   "cell_type": "code",
   "execution_count": 21,
   "metadata": {},
   "outputs": [
    {
     "data": {
      "text/plain": [
       "<matplotlib.axes._subplots.AxesSubplot at 0x292e76541d0>"
      ]
     },
     "execution_count": 21,
     "metadata": {},
     "output_type": "execute_result"
    },
    {
     "data": {
      "image/png": "[encoded data removed]",
      "text/plain": [
       "<Figure size 432x288 with 1 Axes>"
      ]
     },
     "metadata": {
      "needs_background": "light"
     },
     "output_type": "display_data"
    }
   ],
   "source": [
    "# Show th daily perentage change for 'Close' every day\n",
    "fig = plt.plot()\n",
    "forex_dataset['Daily Return'].plot(legend = True, linestyle = '--')"
   ]
  },
  {
   "cell_type": "code",
   "execution_count": 23,
   "metadata": {},
   "outputs": [
    {
     "data": {
      "text/plain": [
       "Text(0.5, 6.79999999999999, 'Daily Return')"
      ]
     },
     "execution_count": 23,
     "metadata": {},
     "output_type": "execute_result"
    },
    {
     "data": {
      "image/png": "[encoded data removed]",
      "text/plain": [
       "<Figure size 360x360 with 1 Axes>"
      ]
     },
     "metadata": {
      "needs_background": "light"
     },
     "output_type": "display_data"
    }
   ],
   "source": [
    "# Show the distribution of the daily return data, as well as the distribution curve (but too small in this plot)\n",
    "import seaborn as sns\n",
    "sns.displot(forex_dataset['Daily Return'], bins=100) \n",
    "plt.ylabel('Frequency')\n",
    "plt.xlabel('Daily Return')"
   ]
  },
  {
   "cell_type": "code",
   "execution_count": 24,
   "metadata": {},
   "outputs": [
    {
     "name": "stdout",
     "output_type": "stream",
     "text": [
      "NormaltestResult(statistic=2680.325968054895, pvalue=0.0)\n",
      "(0.8134036660194397, 0.0)\n"
     ]
    },
    {
     "name": "stderr",
     "output_type": "stream",
     "text": [
      "C:\\Users\\user\\Python\\lib\\site-packages\\scipy\\stats\\morestats.py:1653: UserWarning: p-value may not be accurate for N > 5000.\n",
      "  warnings.warn(\"p-value may not be accurate for N > 5000.\")\n"
     ]
    }
   ],
   "source": [
    "# Check if the data follows the normal distribution\n",
    "from scipy.stats import shapiro\n",
    "from scipy.stats import normaltest\n",
    "\n",
    "daily_return = forex_dataset['Daily Return'].dropna()\n",
    "print(normaltest(daily_return))\n",
    "print(shapiro(daily_return))\n",
    "\n",
    "# The first output is the test statistic, the second is the p-value\n",
    "# If the p-Value is larger than 0.05, a normal distribution is assumed\n",
    "## The Shapiro Wilk test is better for data size < 5000"
   ]
  },
  {
   "cell_type": "code",
   "execution_count": 25,
   "metadata": {},
   "outputs": [
    {
     "name": "stdout",
     "output_type": "stream",
     "text": [
      "NormaltestResult(statistic=558.9712163701215, pvalue=4.1777514041899343e-122)\n",
      "(0.9646073579788208, 2.345027241665706e-37)\n"
     ]
    }
   ],
   "source": [
    "# Check if the data follows the normal distribution after removing outliers\n",
    "daily_return2 = forex_dataset['Daily Return'][forex_dataset['Daily Return']>-0.05][forex_dataset['Daily Return']<0.05]\n",
    "print(normaltest(daily_return2))\n",
    "print(shapiro(daily_return2))"
   ]
  },
  {
   "cell_type": "code",
   "execution_count": 26,
   "metadata": {},
   "outputs": [],
   "source": [
    "# Split the dataset into X and y, with looking back n days of data\n",
    "# Features of the previous date and the 'Open' of next day are used to predict the closing value of the next day\n",
    "def get_data(data, look_back, features, target, include_current_open=False): \n",
    "    X_data, y_data = [], []\n",
    "    current_open = []\n",
    "    for i in range(len(data)-look_back):\n",
    "        X_data.append(data.iloc[i:(i+look_back),features].values.reshape(1,-1).tolist()[0]) \n",
    "        y_data.append(data.iloc[i+look_back, target])\n",
    "        \n",
    "        # Add a feature for the current 'Open' price for a mulitple feature prediction\n",
    "        if include_current_open==True:\n",
    "            current_open.append(data.iloc[i+look_back,0])\n",
    "            \n",
    "    if include_current_open==True:\n",
    "        X_data = [np.append(X, X_open) for X, X_open in zip(X_data, current_open)]\n",
    "        return np.array(X_data), np.array(y_data).reshape(-1,1)\n",
    "    elif len(features) == 1:\n",
    "        return np.array(X_data), np.array(y_data).reshape(-1,1)\n",
    "    else:\n",
    "        return np.array(X_data), np.array(y_data).reshape(-1,1)"
   ]
  },
  {
   "cell_type": "code",
   "execution_count": 28,
   "metadata": {},
   "outputs": [
    {
     "data": {
      "text/html": [
       "<div>\n",
       "<style scoped>\n",
       "    .dataframe tbody tr th:only-of-type {\n",
       "        vertical-align: middle;\n",
       "    }\n",
       "\n",
       "    .dataframe tbody tr th {\n",
       "        vertical-align: top;\n",
       "    }\n",
       "\n",
       "    .dataframe thead th {\n",
       "        text-align: right;\n",
       "    }\n",
       "</style>\n",
       "<table border=\"1\" class=\"dataframe\">\n",
       "  <thead>\n",
       "    <tr style=\"text-align: right;\">\n",
       "      <th></th>\n",
       "      <th>Open</th>\n",
       "      <th>High</th>\n",
       "      <th>Low</th>\n",
       "      <th>Close</th>\n",
       "      <th>Daily Return</th>\n",
       "    </tr>\n",
       "    <tr>\n",
       "      <th>Date</th>\n",
       "      <th></th>\n",
       "      <th></th>\n",
       "      <th></th>\n",
       "      <th></th>\n",
       "      <th></th>\n",
       "    </tr>\n",
       "  </thead>\n",
       "  <tbody>\n",
       "    <tr>\n",
       "      <th>2014-07-02</th>\n",
       "      <td>101.550003</td>\n",
       "      <td>101.779999</td>\n",
       "      <td>101.389999</td>\n",
       "      <td>101.540001</td>\n",
       "      <td>0.002468</td>\n",
       "    </tr>\n",
       "    <tr>\n",
       "      <th>2014-07-03</th>\n",
       "      <td>101.829002</td>\n",
       "      <td>102.258003</td>\n",
       "      <td>101.769997</td>\n",
       "      <td>101.830002</td>\n",
       "      <td>0.002856</td>\n",
       "    </tr>\n",
       "    <tr>\n",
       "      <th>2014-07-04</th>\n",
       "      <td>102.196999</td>\n",
       "      <td>102.212997</td>\n",
       "      <td>101.970001</td>\n",
       "      <td>102.180000</td>\n",
       "      <td>0.003437</td>\n",
       "    </tr>\n",
       "    <tr>\n",
       "      <th>2014-07-07</th>\n",
       "      <td>102.107002</td>\n",
       "      <td>102.192001</td>\n",
       "      <td>101.819000</td>\n",
       "      <td>102.110001</td>\n",
       "      <td>-0.000685</td>\n",
       "    </tr>\n",
       "    <tr>\n",
       "      <th>2014-07-08</th>\n",
       "      <td>101.809998</td>\n",
       "      <td>101.849998</td>\n",
       "      <td>101.480003</td>\n",
       "      <td>101.800003</td>\n",
       "      <td>-0.003036</td>\n",
       "    </tr>\n",
       "  </tbody>\n",
       "</table>\n",
       "</div>"
      ],
      "text/plain": [
       "                  Open        High         Low       Close  Daily Return\n",
       "Date                                                                    \n",
       "2014-07-02  101.550003  101.779999  101.389999  101.540001      0.002468\n",
       "2014-07-03  101.829002  102.258003  101.769997  101.830002      0.002856\n",
       "2014-07-04  102.196999  102.212997  101.970001  102.180000      0.003437\n",
       "2014-07-07  102.107002  102.192001  101.819000  102.110001     -0.000685\n",
       "2014-07-08  101.809998  101.849998  101.480003  101.800003     -0.003036"
      ]
     },
     "execution_count": 28,
     "metadata": {},
     "output_type": "execute_result"
    }
   ],
   "source": [
    "from datetime import timedelta\n",
    "from datetime import datetime\n",
    "\n",
    "# Convert the string type of date into a datetime object, and find the start date for tesing\n",
    "train_frac = 0.7\n",
    "test_frac = 0.2\n",
    "val_frac = 0.1\n",
    "rows = len(forex_dataset)\n",
    "\n",
    "train_dataset = forex_dataset.iloc[0:int(train_frac*rows)].copy()\n",
    "train_dataset.tail()"
   ]
  },
  {
   "cell_type": "code",
   "execution_count": 30,
   "metadata": {},
   "outputs": [],
   "source": [
    "test_dataset = forex_dataset.iloc[int(train_frac*rows): int((train_frac+test_frac)*rows)].copy()\n",
    "val_dataset = forex_dataset.iloc[int((train_frac+test_frac)*rows):].copy()\n",
    "\n",
    "date1 = train_dataset.index[-1].date()\n",
    "if date1.weekday() == 5:\n",
    "    testing_start_date = str(date1 + timedelta(days = 3))\n",
    "else:\n",
    "    testing_start_date = str(date1 + timedelta(days = 1))\n",
    "\n",
    "forex_dataset['Date'] = forex_dataset.index\n",
    "Dates = np.array(forex_dataset[testing_start_date:][['Date']]).reshape(-1,1)\n",
    "forex_dataset.drop('Date', axis = 1, inplace = True)"
   ]
  },
  {
   "cell_type": "code",
   "execution_count": 31,
   "metadata": {},
   "outputs": [],
   "source": [
    "# # Retrieve the training and testing datasets from forex_dataset\n",
    "# train_dataset = forex_dataset[:testing_start_date] \n",
    "# test_dataset = forex_dataset[testing_start_date:] # so predict for values starting on testing_start_date"
   ]
  },
  {
   "cell_type": "code",
   "execution_count": 32,
   "metadata": {},
   "outputs": [],
   "source": [
    "# use the function get_data\n",
    "X_train, y_train = get_data(train_dataset, look_back = 1, features=[3], target = [3], include_current_open=False)\n",
    "X_val, y_val = get_data(val_dataset, look_back = 1, features=[3], target = [3], include_current_open=False)\n",
    "X_test, y_test = get_data(test_dataset, look_back = 1, features=[3], target = [3], include_current_open=False)"
   ]
  },
  {
   "cell_type": "code",
   "execution_count": 33,
   "metadata": {},
   "outputs": [
    {
     "data": {
      "text/plain": [
       "((4613, 1), (4613, 1), (659, 1), (659, 1), (1317, 1), (1317, 1))"
      ]
     },
     "execution_count": 33,
     "metadata": {},
     "output_type": "execute_result"
    }
   ],
   "source": [
    "X_train.shape, y_train.shape, X_val.shape, y_val.shape, X_test.shape, y_test.shape"
   ]
  },
  {
   "cell_type": "code",
   "execution_count": 34,
   "metadata": {},
   "outputs": [
    {
     "data": {
      "text/plain": [
       "array([[113.84    ],\n",
       "       [113.5     ],\n",
       "       [113.879997]])"
      ]
     },
     "execution_count": 34,
     "metadata": {},
     "output_type": "execute_result"
    }
   ],
   "source": [
    "X_train[:3]"
   ]
  },
  {
   "cell_type": "code",
   "execution_count": 35,
   "metadata": {},
   "outputs": [],
   "source": [
    "# Normalization\n",
    "from sklearn.preprocessing import MinMaxScaler\n",
    "scaler_X = MinMaxScaler()\n",
    "scaler_X.fit_transform(np.append(X_train,X_val, axis = 0))\n",
    "X_train = scaler_X.transform(X_train)\n",
    "X_val = scaler_X.transform(X_val)\n",
    "X_test = scaler_X.transform(X_test)\n",
    "\n",
    "scaler_y = MinMaxScaler()\n",
    "scaler_y.fit_transform(np.append(y_train,y_val, axis=0))\n",
    "y_train = scaler_y.transform(y_train)\n",
    "y_val = scaler_y.transform(y_val)\n",
    "y_test = scaler_y.transform(y_test)\n",
    "\n",
    "# Reshape the 2D-array into 3D-array\n",
    "X_train = X_train.reshape(X_train.shape[0], X_train.shape[1], 1)\n",
    "X_test = X_test.reshape(X_test.shape[0], X_test.shape[1], 1);\n",
    "X_val = X_val.reshape(X_val.shape[0], X_val.shape[1], 1)\n",
    "y_train = y_train.reshape(-1,1,1)\n",
    "y_test = y_test.reshape(-1,1,1);\n",
    "y_val = y_val.reshape(-1,1,1)"
   ]
  },
  {
   "cell_type": "code",
   "execution_count": 36,
   "metadata": {},
   "outputs": [
    {
     "data": {
      "text/plain": [
       "((4613, 1, 1),\n",
       " (1317, 1, 1),\n",
       " (659, 1, 1),\n",
       " (659, 1, 1),\n",
       " (4613, 1, 1),\n",
       " (1317, 1, 1))"
      ]
     },
     "execution_count": 36,
     "metadata": {},
     "output_type": "execute_result"
    }
   ],
   "source": [
    "# Print the shapes of the training and testing datasets\n",
    "X_train.shape, X_test.shape, X_val.shape, y_val.shape, y_train.shape, y_test.shape "
   ]
  },
  {
   "cell_type": "code",
   "execution_count": 37,
   "metadata": {},
   "outputs": [
    {
     "data": {
      "text/plain": [
       "array([[[0.53301623]],\n",
       "\n",
       "       [[0.52825966]],\n",
       "\n",
       "       [[0.53357579]]])"
      ]
     },
     "execution_count": 37,
     "metadata": {},
     "output_type": "execute_result"
    }
   ],
   "source": [
    "X_train[:3]"
   ]
  },
  {
   "cell_type": "code",
   "execution_count": 38,
   "metadata": {},
   "outputs": [
    {
     "data": {
      "text/html": [
       "<style  type=\"text/css\" >\n",
       "    #T_20817cfa_8b06_11ec_a308_88b1111c3481row0_col0 {\n",
       "            background-color:  #3b4cc0;\n",
       "            color:  #f1f1f1;\n",
       "        }</style><table id=\"T_20817cfa_8b06_11ec_a308_88b1111c3481\" ><thead>    <tr>        <th class=\"blank level0\" ></th>        <th class=\"col_heading level0 col0\" >0</th>    </tr></thead><tbody>\n",
       "                <tr>\n",
       "                        <th id=\"T_20817cfa_8b06_11ec_a308_88b1111c3481level0_row0\" class=\"row_heading level0 row0\" >0</th>\n",
       "                        <td id=\"T_20817cfa_8b06_11ec_a308_88b1111c3481row0_col0\" class=\"data row0 col0\" >1</td>\n",
       "            </tr>\n",
       "    </tbody></table>"
      ],
      "text/plain": [
       "<pandas.io.formats.style.Styler at 0x292e94dbac8>"
      ]
     },
     "execution_count": 38,
     "metadata": {},
     "output_type": "execute_result"
    }
   ],
   "source": [
    "# Plot the correlation map in another method (if there are mulitple features)\n",
    "pd.DataFrame(X_train.reshape(-1,X_train.shape[1])).corr().style.background_gradient(cmap='coolwarm').set_precision(4)"
   ]
  },
  {
   "cell_type": "markdown",
   "metadata": {},
   "source": [
    "## 3. Building the Model"
   ]
  },
  {
   "cell_type": "code",
   "execution_count": 39,
   "metadata": {
    "scrolled": true
   },
   "outputs": [
    {
     "name": "stdout",
     "output_type": "stream",
     "text": [
      "Model: \"sequential\"\n",
      "_________________________________________________________________\n",
      " Layer (type)                Output Shape              Param #   \n",
      "=================================================================\n",
      " lstm (LSTM)                 (None, 100)               40800     \n",
      "                                                                 \n",
      " dense (Dense)               (None, 1)                 101       \n",
      "                                                                 \n",
      "=================================================================\n",
      "Total params: 40,901\n",
      "Trainable params: 40,901\n",
      "Non-trainable params: 0\n",
      "_________________________________________________________________\n"
     ]
    }
   ],
   "source": [
    "from keras.models import Sequential\n",
    "from keras.layers import Dense, LSTM, Dropout\n",
    "from tensorflow.keras import callbacks\n",
    "model = Sequential()\n",
    "model.add(LSTM(100, activation = 'relu', return_sequences = False, input_shape=(X_train.shape[1],1)))\n",
    "model.add(Dense(1))\n",
    "model.summary()"
   ]
  },
  {
   "cell_type": "code",
   "execution_count": 40,
   "metadata": {},
   "outputs": [],
   "source": [
    "# Compiling\n",
    "opt = keras.optimizers.Adam(learning_rate=0.0001)\n",
    "model.compile(optimizer = opt, loss = 'mse')"
   ]
  },
  {
   "cell_type": "code",
   "execution_count": 41,
   "metadata": {},
   "outputs": [
    {
     "name": "stdout",
     "output_type": "stream",
     "text": [
      "Epoch 1/30\n",
      "145/145 [==============================] - 4s 9ms/step - loss: 0.2147 - val_loss: 0.1645\n",
      "Epoch 2/30\n",
      "145/145 [==============================] - 1s 6ms/step - loss: 0.1759 - val_loss: 0.1294\n",
      "Epoch 3/30\n",
      "145/145 [==============================] - 1s 6ms/step - loss: 0.1405 - val_loss: 0.0969\n",
      "Epoch 4/30\n",
      "145/145 [==============================] - 1s 6ms/step - loss: 0.1073 - val_loss: 0.0670\n",
      "Epoch 5/30\n",
      "145/145 [==============================] - 1s 6ms/step - loss: 0.0776 - val_loss: 0.0417\n",
      "Epoch 6/30\n",
      "145/145 [==============================] - 1s 6ms/step - loss: 0.0534 - val_loss: 0.0226\n",
      "Epoch 7/30\n",
      "145/145 [==============================] - 1s 6ms/step - loss: 0.0359 - val_loss: 0.0104\n",
      "Epoch 8/30\n",
      "145/145 [==============================] - 1s 6ms/step - loss: 0.0251 - val_loss: 0.0040\n",
      "Epoch 9/30\n",
      "145/145 [==============================] - 1s 6ms/step - loss: 0.0194 - val_loss: 0.0014\n",
      "Epoch 10/30\n",
      "145/145 [==============================] - 1s 6ms/step - loss: 0.0168 - val_loss: 6.9425e-04\n",
      "Epoch 11/30\n",
      "145/145 [==============================] - 1s 7ms/step - loss: 0.0155 - val_loss: 5.8019e-04\n",
      "Epoch 12/30\n",
      "145/145 [==============================] - 1s 8ms/step - loss: 0.0147 - val_loss: 5.9239e-04\n",
      "Epoch 13/30\n",
      "145/145 [==============================] - 1s 7ms/step - loss: 0.0139 - val_loss: 6.0172e-04\n",
      "Epoch 14/30\n",
      "145/145 [==============================] - 1s 9ms/step - loss: 0.0132 - val_loss: 5.8062e-04\n",
      "Epoch 15/30\n",
      "145/145 [==============================] - 1s 7ms/step - loss: 0.0124 - val_loss: 5.5245e-04\n",
      "Epoch 16/30\n",
      "145/145 [==============================] - 1s 8ms/step - loss: 0.0116 - val_loss: 5.1628e-04\n",
      "Epoch 17/30\n",
      "145/145 [==============================] - 1s 6ms/step - loss: 0.0108 - val_loss: 4.7077e-04\n",
      "Epoch 18/30\n",
      "145/145 [==============================] - 1s 6ms/step - loss: 0.0100 - val_loss: 4.3328e-04\n",
      "Epoch 19/30\n",
      "145/145 [==============================] - 1s 5ms/step - loss: 0.0091 - val_loss: 3.9537e-04\n",
      "Epoch 20/30\n",
      "145/145 [==============================] - 1s 6ms/step - loss: 0.0083 - val_loss: 3.5225e-04\n",
      "Epoch 21/30\n",
      "145/145 [==============================] - 1s 6ms/step - loss: 0.0074 - val_loss: 3.0762e-04\n",
      "Epoch 22/30\n",
      "145/145 [==============================] - 1s 6ms/step - loss: 0.0066 - val_loss: 2.7013e-04\n",
      "Epoch 23/30\n",
      "145/145 [==============================] - 1s 6ms/step - loss: 0.0058 - val_loss: 2.3259e-04\n",
      "Epoch 24/30\n",
      "145/145 [==============================] - 1s 6ms/step - loss: 0.0050 - val_loss: 1.9581e-04\n",
      "Epoch 25/30\n",
      "145/145 [==============================] - 1s 6ms/step - loss: 0.0043 - val_loss: 1.5985e-04\n",
      "Epoch 26/30\n",
      "145/145 [==============================] - 1s 6ms/step - loss: 0.0036 - val_loss: 1.3369e-04\n",
      "Epoch 27/30\n",
      "145/145 [==============================] - 1s 6ms/step - loss: 0.0030 - val_loss: 1.1113e-04\n",
      "Epoch 28/30\n",
      "145/145 [==============================] - 1s 6ms/step - loss: 0.0025 - val_loss: 9.3637e-05\n",
      "Epoch 29/30\n",
      "145/145 [==============================] - 1s 6ms/step - loss: 0.0020 - val_loss: 8.0445e-05\n",
      "Epoch 30/30\n",
      "145/145 [==============================] - 1s 6ms/step - loss: 0.0016 - val_loss: 7.2590e-05\n"
     ]
    }
   ],
   "source": [
    "# Training the model\n",
    "early_stopping = callbacks.EarlyStopping(patience= 5, restore_best_weights = True)\n",
    "history = model.fit(X_train, y_train, epochs = 30, validation_data = (X_val, y_val), batch_size = 32, callbacks=[early_stopping])"
   ]
  },
  {
   "cell_type": "code",
   "execution_count": 42,
   "metadata": {},
   "outputs": [
    {
     "data": {
      "text/plain": [
       "<matplotlib.axes._subplots.AxesSubplot at 0x292ed6189e8>"
      ]
     },
     "execution_count": 42,
     "metadata": {},
     "output_type": "execute_result"
    },
    {
     "data": {
      "image/png": "[encoded data removed]",
      "text/plain": [
       "<Figure size 432x288 with 1 Axes>"
      ]
     },
     "metadata": {
      "needs_background": "light"
     },
     "output_type": "display_data"
    }
   ],
   "source": [
    "history_df = pd.DataFrame(history.history)\n",
    "history_df.plot()"
   ]
  },
  {
   "cell_type": "code",
   "execution_count": 43,
   "metadata": {},
   "outputs": [
    {
     "data": {
      "text/plain": [
       "array([0.01398993])"
      ]
     },
     "execution_count": 43,
     "metadata": {},
     "output_type": "execute_result"
    }
   ],
   "source": [
    "# The standard deviations\n",
    "scaler_X.scale_"
   ]
  },
  {
   "cell_type": "code",
   "execution_count": 44,
   "metadata": {},
   "outputs": [
    {
     "data": {
      "text/plain": [
       "((4613, 1, 1),\n",
       " (1317, 1, 1),\n",
       " (659, 1, 1),\n",
       " (659, 1, 1),\n",
       " (4613, 1, 1),\n",
       " (1317, 1, 1))"
      ]
     },
     "execution_count": 44,
     "metadata": {},
     "output_type": "execute_result"
    }
   ],
   "source": [
    "# Print the shapes of the training and testing datasets\n",
    "X_train.shape, X_test.shape, X_val.shape, y_val.shape, y_train.shape, y_test.shape "
   ]
  },
  {
   "cell_type": "markdown",
   "metadata": {},
   "source": [
    "## 4. Model Prediction"
   ]
  },
  {
   "cell_type": "code",
   "execution_count": 45,
   "metadata": {},
   "outputs": [
    {
     "data": {
      "text/html": [
       "<div>\n",
       "<style scoped>\n",
       "    .dataframe tbody tr th:only-of-type {\n",
       "        vertical-align: middle;\n",
       "    }\n",
       "\n",
       "    .dataframe tbody tr th {\n",
       "        vertical-align: top;\n",
       "    }\n",
       "\n",
       "    .dataframe thead th {\n",
       "        text-align: right;\n",
       "    }\n",
       "</style>\n",
       "<table border=\"1\" class=\"dataframe\">\n",
       "  <thead>\n",
       "    <tr style=\"text-align: right;\">\n",
       "      <th></th>\n",
       "      <th>pred</th>\n",
       "      <th>test</th>\n",
       "    </tr>\n",
       "  </thead>\n",
       "  <tbody>\n",
       "    <tr>\n",
       "      <th>0</th>\n",
       "      <td>[102.3501205444336]</td>\n",
       "      <td>[101.535004]</td>\n",
       "    </tr>\n",
       "    <tr>\n",
       "      <th>1</th>\n",
       "      <td>[102.41221618652344]</td>\n",
       "      <td>[101.282997]</td>\n",
       "    </tr>\n",
       "    <tr>\n",
       "      <th>2</th>\n",
       "      <td>[102.2037124633789]</td>\n",
       "      <td>[101.370003]</td>\n",
       "    </tr>\n",
       "    <tr>\n",
       "      <th>3</th>\n",
       "      <td>[102.2756576538086]</td>\n",
       "      <td>[101.519997]</td>\n",
       "    </tr>\n",
       "    <tr>\n",
       "      <th>4</th>\n",
       "      <td>[102.39978790283203]</td>\n",
       "      <td>[101.660004]</td>\n",
       "    </tr>\n",
       "  </tbody>\n",
       "</table>\n",
       "</div>"
      ],
      "text/plain": [
       "                   pred          test\n",
       "0   [102.3501205444336]  [101.535004]\n",
       "1  [102.41221618652344]  [101.282997]\n",
       "2   [102.2037124633789]  [101.370003]\n",
       "3   [102.2756576538086]  [101.519997]\n",
       "4  [102.39978790283203]  [101.660004]"
      ]
     },
     "execution_count": 45,
     "metadata": {},
     "output_type": "execute_result"
    }
   ],
   "source": [
    "# Prediction using the trained model\n",
    "y_train_pred = model.predict(X_train)\n",
    "y_train_pred = scaler_y.inverse_transform(y_train_pred)\n",
    "\n",
    "y_pred = model.predict(X_test)\n",
    "y_pred = scaler_y.inverse_transform(y_pred)\n",
    "# Process the features shape\n",
    "y_train = y_train.reshape(-1,1)\n",
    "y_train = scaler_y.inverse_transform(y_train)\n",
    "\n",
    "y_test = y_test.reshape(-1,1)\n",
    "y_test = scaler_y.inverse_transform(y_test)\n",
    "pd.DataFrame(\n",
    "  {'pred': y_pred.tolist(),\n",
    "   'test': y_test.tolist()\n",
    "}).head(5)"
   ]
  },
  {
   "cell_type": "code",
   "execution_count": 46,
   "metadata": {
    "scrolled": false
   },
   "outputs": [
    {
     "data": {
      "text/plain": [
       "<matplotlib.legend.Legend at 0x292ed68aa90>"
      ]
     },
     "execution_count": 46,
     "metadata": {},
     "output_type": "execute_result"
    },
    {
     "data": {
      "image/png": "[encoded data removed]",
      "text/plain": [
       "<Figure size 1152x576 with 1 Axes>"
      ]
     },
     "metadata": {
      "needs_background": "light"
     },
     "output_type": "display_data"
    }
   ],
   "source": [
    "# Visualize the result\n",
    "plt.figure(figsize=(16,8))\n",
    "plt.title('Foreign Exchange Rate of JPY')\n",
    "plt.plot(forex_dataset.index[int(train_frac*rows)+X_train.shape[1]: int((train_frac+test_frac)*rows)], y_test, label='Actual')\n",
    "plt.plot(forex_dataset.index[int(train_frac*rows)+X_train.shape[1]: int((train_frac+test_frac)*rows)], y_pred, label='Predicted', color = 'r')\n",
    "plt.legend()"
   ]
  },
  {
   "cell_type": "markdown",
   "metadata": {},
   "source": [
    "## 5. Model Evaluation"
   ]
  },
  {
   "cell_type": "code",
   "execution_count": 47,
   "metadata": {},
   "outputs": [
    {
     "name": "stdout",
     "output_type": "stream",
     "text": [
      "The prediction mse result for testing dataset is 1.03312, and that for training dataset is 2.66771\n"
     ]
    }
   ],
   "source": [
    "# Evalute the root mean squared error result of the y_pred, and y_train_pred\n",
    "pred_mse_result = np.sqrt(np.mean(abs(y_test-y_pred)**2))\n",
    "train_pred_mse_result = np.sqrt(np.mean(abs(y_train_pred - y_train)**2))\n",
    "print(f'The prediction mse result for testing dataset is {pred_mse_result:0.5f}, and that for training dataset is {train_pred_mse_result:0.5f}')"
   ]
  },
  {
   "cell_type": "code",
   "execution_count": 48,
   "metadata": {},
   "outputs": [
    {
     "data": {
      "text/plain": [
       "[<matplotlib.lines.Line2D at 0x292e94db978>]"
      ]
     },
     "execution_count": 48,
     "metadata": {},
     "output_type": "execute_result"
    },
    {
     "data": {
      "image/png": "[encoded data removed]",
      "text/plain": [
       "<Figure size 432x288 with 1 Axes>"
      ]
     },
     "metadata": {
      "needs_background": "light"
     },
     "output_type": "display_data"
    }
   ],
   "source": [
    "# Take a look at the deviation from the actual price\n",
    "plt.plot(forex_dataset.index[int(train_frac*rows)+X_train.shape[1]: int((train_frac+test_frac)*rows)],y_test-y_pred)"
   ]
  },
  {
   "cell_type": "code",
   "execution_count": 49,
   "metadata": {},
   "outputs": [
    {
     "data": {
      "image/png": "[encoded data removed]",
      "text/plain": [
       "<Figure size 432x288 with 1 Axes>"
      ]
     },
     "metadata": {
      "needs_background": "light"
     },
     "output_type": "display_data"
    }
   ],
   "source": [
    "# Show the distribution of the deviation\n",
    "plt.hist(y_test-y_pred, bins = 20, rwidth=0.8)\n",
    "plt.ylabel('Percentage of Data')\n",
    "plt.xlabel('Difference between Actual and Predicted Value');\n",
    "plt.show()"
   ]
  },
  {
   "cell_type": "code",
   "execution_count": 50,
   "metadata": {},
   "outputs": [
    {
     "data": {
      "text/plain": [
       "(4613, 1, 1)"
      ]
     },
     "execution_count": 50,
     "metadata": {},
     "output_type": "execute_result"
    }
   ],
   "source": [
    "X_train.shape"
   ]
  },
  {
   "cell_type": "code",
   "execution_count": 51,
   "metadata": {},
   "outputs": [],
   "source": [
    "# Record whether the prediction and testing data has an increase or decrease for each testing date\n",
    "daily_y_pred_change = []\n",
    "daily_y_test_change = []\n",
    "daily_complying_sign = []\n",
    "y_pred_list = y_pred.reshape(1,-1).tolist()[0]\n",
    "y_test_list = y_test.reshape(1,-1).tolist()[0]\n",
    "for i, pred in enumerate(y_pred_list):\n",
    "    if i != len(y_pred_list)-X_train.shape[1]:\n",
    "        daily_y_pred_change.append(y_pred_list[i+1] - y_pred_list[i])\n",
    "        daily_y_test_change.append(y_test_list[i+1] - y_test_list[i])\n",
    "\n",
    "        if (daily_y_pred_change[i] >= 0 and daily_y_test_change[i] >=0) or (daily_y_pred_change[i] < 0 and daily_y_test_change[i] < 0):\n",
    "            daily_complying_sign.append(1)\n",
    "        else:\n",
    "            daily_complying_sign.append(0)"
   ]
  },
  {
   "cell_type": "code",
   "execution_count": 52,
   "metadata": {},
   "outputs": [
    {
     "data": {
      "text/plain": [
       "0.46656534954407297"
      ]
     },
     "execution_count": 52,
     "metadata": {},
     "output_type": "execute_result"
    }
   ],
   "source": [
    "daily_y_pred_change, daily_y_test_change, daily_complying_sign = sign_prediction(y_pred, y_test, look_back = X_train.shape[1])\n",
    "# 1 denotes as predicted corrected for the change of sign, while 0 means the opposite\n",
    "daily_complying_sign.count(1)/len(daily_complying_sign)"
   ]
  },
  {
   "cell_type": "markdown",
   "metadata": {},
   "source": [
    "# Tuning the LSTM model\n",
    "\n",
    "### Notes: \n",
    "1. Dropout on stacked LSTMs yields poor performance, as it introduces too much noise for stable time-dependency feature extraction. Fix: use recurrent_dropout, meanwhile, use activation='tanh' instead of 'relu' which is unstable\n",
    "2. If working with signal data, or otherwise data with (1) outliers; (2) phase information; (3) frequency information - MinMaxScaler will corrupt the latter two plus amplitude information per (1). Fix: use StandardScaler, or QuantileTransformer\n"
   ]
  },
  {
   "cell_type": "code",
   "execution_count": 3,
   "metadata": {},
   "outputs": [],
   "source": [
    "# import libraries\n",
    "import pandas as pd\n",
    "import numpy as np\n",
    "import matplotlib.pyplot as plt\n",
    "%matplotlib inline\n",
    "import tensorflow as tf\n",
    "from tensorflow import keras\n",
    "from datetime import timedelta\n",
    "from datetime import datetime\n",
    "from sklearn.preprocessing import MinMaxScaler\n",
    "from sklearn.preprocessing import StandardScaler\n",
    "from sklearn.metrics import mean_squared_error\n",
    "from keras.models import Sequential\n",
    "from keras.layers import Dense, LSTM, Dropout\n",
    "from tensorflow.keras import callbacks\n",
    "import time"
   ]
  },
  {
   "cell_type": "code",
   "execution_count": 49,
   "metadata": {},
   "outputs": [],
   "source": [
    "# Function to split the dataset into X and y, with looking back n days of data and selected features\n",
    "# Features of the previous date and the 'Open' of next day are used to predict the closing value of the next day\n",
    "def get_data(data, look_back, features, target, include_current_open=False): \n",
    "    X_data, y_data = [], []\n",
    "    current_open = []\n",
    "    for i in range(len(data)-look_back):\n",
    "        X_data.append(data.iloc[i:(i+look_back),features].values.tolist()[0]) \n",
    "        y_data.append(data.iloc[i+look_back, target])\n",
    "        \n",
    "        # Add a feature for the current 'Open' price for a mulitple feature prediction\n",
    "        if include_current_open==True:\n",
    "            current_open.append(data.iloc[i+look_back,0])\n",
    "            \n",
    "    if include_current_open==True:\n",
    "        X_data = [np.append(X, X_open) for X, X_open in zip(X_data, current_open)]\n",
    "        return np.array(X_data), np.array(y_data).reshape(-1,1)\n",
    "    elif len(features) == 1:\n",
    "        return np.array(X_data).reshape(-1,1), np.array(y_data).reshape(-1,1)\n",
    "    else:\n",
    "        return np.array(X_data), np.array(y_data).reshape(-1,1)\n",
    "\n",
    "# Function to split the training and testing datasets from the X and y datasets, with normalization\n",
    "def spliting_dataset(forex_dataset, training_end_date, look_back, features, target, include_current_open, normalization):\n",
    "    \n",
    "    # Convert the string type of date into a datetime object, and find the start date for tesing\n",
    "    date1 = datetime.strptime(training_end_date, '%Y-%m-%d').date()\n",
    "    if date1.weekday() == 5:\n",
    "        testing_start_date = str(date1 + timedelta(days = 3))\n",
    "    else:\n",
    "        testing_start_date = str(date1 + timedelta(days = 1))\n",
    "    \n",
    "    # Retrieve the training and testing datasets from forex_dataset\n",
    "    train_frac = 0.7\n",
    "    test_frac = 0.2\n",
    "    val_frac = 0.1\n",
    "    rows = len(forex_dataset)\n",
    "    \n",
    "    forex_dataset['Date'] = forex_dataset.index\n",
    "    Dates = forex_dataset.iloc[int(train_frac*rows): int((train_frac+test_frac)*rows)][['Date']]\n",
    "    forex_dataset.drop('Date', axis = 1, inplace = True)\n",
    "    \n",
    "    train_dataset = forex_dataset.iloc[0:int(train_frac*rows)].copy()\n",
    "    test_dataset = forex_dataset.iloc[int(train_frac*rows): int((train_frac+test_frac)*rows)].copy()\n",
    "    val_dataset = forex_dataset.iloc[int((train_frac+test_frac)*rows):].copy()\n",
    "\n",
    "    date1 = train_dataset.index[-1].date() # so as to predict the values starting from the testing_start_date\n",
    "    \n",
    "    # use the function get_data\n",
    "    X_train, y_train = get_data(train_dataset, look_back = look_back, features=features, target = target, include_current_open=include_current_open)\n",
    "    X_test, y_test = get_data(test_dataset, look_back = look_back, features=features, target = target, include_current_open=include_current_open)\n",
    "    X_val, y_val = get_data(val_dataset, look_back = look_back, features=features, target = target, include_current_open=include_current_open)\n",
    "    \n",
    "    # Normalization\n",
    "    scaler_X = normalization\n",
    "    scaler_X.fit_transform(np.append(X_train,X_val, axis = 0))\n",
    "    X_train = scaler_X.transform(X_train)\n",
    "    X_val = scaler_X.transform(X_val)\n",
    "    X_test = scaler_X.transform(X_test)\n",
    "\n",
    "    scaler_y = normalization\n",
    "    scaler_y.fit_transform(np.append(y_train,y_val, axis=0))\n",
    "    y_train = scaler_y.transform(y_train)\n",
    "    y_val = scaler_y.transform(y_val)\n",
    "    y_test = scaler_y.transform(y_test)\n",
    "\n",
    "    # Reshape the 2D-array into 3D-array\n",
    "    X_train = X_train.reshape(X_train.shape[0], X_train.shape[1], 1)\n",
    "    X_test = X_test.reshape(X_test.shape[0], X_test.shape[1], 1)\n",
    "    X_val = X_val.reshape(X_val.shape[0], X_val.shape[1], 1)\n",
    "    y_train = y_train.reshape(-1,1,1)\n",
    "    y_test = y_test.reshape(-1,1,1)\n",
    "    y_val = y_val.reshape(-1,1,1)\n",
    "    \n",
    "    return (X_train, X_test, X_val, y_train, y_test, y_val), np.array(Dates).reshape(-1,1), (scaler_X, scaler_y)\n",
    "\n",
    "# Function to easily tune the achitecture for the LSTM model\n",
    "def model_architecture(data, no_of_LSTM_layers, no_of_Dense_layers, no_of_nodes, activation, n_dropout, opt, loss, epochs, batch_size):    \n",
    "    model = Sequential()\n",
    "    for i in range(no_of_LSTM_layers):\n",
    "        if i < no_of_LSTM_layers-1 and no_of_LSTM_layers >= 2:\n",
    "            model.add(LSTM(no_of_nodes[0][i], activation = activation, return_sequences = True, input_shape=(data[0].shape[1],1), recurrent_dropout=n_dropout))\n",
    "        elif no_of_LSTM_layers == 1:\n",
    "            model.add(LSTM(no_of_nodes[0][i], activation = activation, return_sequences = False, input_shape=(data[0].shape[1],1), recurrent_dropout=n_dropout))\n",
    "        else:\n",
    "            model.add(LSTM(no_of_nodes[0][i], activation = activation, return_sequences = False, recurrent_dropout=n_dropout))\n",
    "            \n",
    "    for i in range(no_of_Dense_layers):\n",
    "        if i < no_of_Dense_layers-1 and no_of_Dense_layers >= 2:\n",
    "            model.add(Dense(no_of_nodes[1][i], activation = activation))\n",
    "            model.add(Dropout(n_dropout))\n",
    "        else:\n",
    "            model.add(Dense(no_of_nodes[1][i]))\n",
    "    \n",
    "    # model.summary()\n",
    "    model.compile(optimizer = opt, loss = loss)\n",
    "    early_stopping = callbacks.EarlyStopping(patience= 5, restore_best_weights = True)\n",
    "    model.fit(data[0], data[3], epochs = epochs, validation_data = (data[2], data[5]), batch_size = batch_size, callbacks=[early_stopping])\n",
    "    return model\n",
    "\n",
    "# Function to record whether the prediction correctly predicts the price sign of change for each testing day\n",
    "def sign_prediction(y_test, y_pred, look_back, profit_threshold):\n",
    "    daily_y_pred_change = []\n",
    "    daily_y_test_change = []\n",
    "    daily_complying_sign = []\n",
    "    y_threshold_cnt = 0\n",
    "    y_threshold_acc_cnt = 0\n",
    "    y_pred_list = y_pred.reshape(1,-1).tolist()[0]; y_test_list = y_test.reshape(1,-1).tolist()[0]\n",
    "    for i, pred in enumerate(y_pred_list):\n",
    "        if i != len(y_pred_list)-look_back:\n",
    "            daily_y_pred_change.append(y_pred_list[i+1] - y_pred_list[i])\n",
    "            daily_y_test_change.append(y_test_list[i+1] - y_test_list[i])\n",
    "            daily_y_pred_percentage_change = daily_y_pred_change[i]/y_pred_list[i]\n",
    "            daily_y_test_percentage_change = daily_y_test_change[i]/y_test_list[i]\n",
    "            \n",
    "            if (daily_y_pred_change[i] >= 0 and daily_y_test_change[i] >=0) or (daily_y_pred_change[i] < 0 and daily_y_test_change[i] < 0):\n",
    "                daily_complying_sign.append(1)\n",
    "                if (abs(daily_y_pred_change[i]) >= profit_threshold and abs(daily_y_test_change[i]) >= profit_threshold):\n",
    "                    y_threshold_acc_cnt = y_threshold_acc_cnt + 1\n",
    "                    y_threshold_cnt = y_threshold_cnt + 1\n",
    "                # Do not count the small profit which profit < profit_threshold\n",
    "                elif (abs(daily_y_pred_change[i]) <= profit_threshold and abs(daily_y_test_change[i]) <= profit_threshold):\n",
    "                    None\n",
    "                else:\n",
    "                    y_threshold_cnt = y_threshold_cnt + 1\n",
    "            else:\n",
    "                daily_complying_sign.append(0)\n",
    "        else:\n",
    "            break\n",
    "    return daily_y_pred_change, daily_y_test_change, daily_complying_sign, y_threshold_acc_cnt/y_threshold_cnt\n",
    "\n",
    "def plot_result(testing_days, y_test, y_pred, look_back):\n",
    "    plt.figure(figsize=(16,8))\n",
    "    plt.title('Foreign Exchange Rate of JPY')\n",
    "    plt.plot(testing_days[look_back:], y_test, label='Actual')\n",
    "    plt.plot(testing_days[look_back:], y_pred, label='Predicted', color = 'r')\n",
    "    plt.legend()\n"
   ]
  },
  {
   "cell_type": "code",
   "execution_count": 53,
   "metadata": {},
   "outputs": [],
   "source": [
    "def experiment(forex_dataset, testing_parameter):\n",
    "    \n",
    "    start_time = time.time()\n",
    "    training_end_date = '2020-12-31'\n",
    "    look_back = 1\n",
    "    features = [3] # [0,1,2,3]\n",
    "    target = [3]\n",
    "    normalization = MinMaxScaler() # StandardScaler() or MinMaxScaler()\n",
    "    include_current_open = False\n",
    "    \n",
    "    no_of_LSTM_layers = 1\n",
    "    no_of_Dense_layers = 1\n",
    "    no_of_nodes = [[128],[1]] # [[128,64],[32,1]]\n",
    "    activation = 'relu'\n",
    "    n_dropout = 0.1\n",
    "\n",
    "    opt = keras.optimizers.Adam(learning_rate=0.0001)\n",
    "    loss = keras.losses.MeanSquaredError()\n",
    "    epochs = 30\n",
    "    batch_size = 32\n",
    "    \n",
    "    # count only the daily change > +or- 5%\n",
    "    profit_threshold = 0.05\n",
    "    \n",
    "    n_repeat = 3\n",
    "\n",
    "    mse_result = []\n",
    "    sign_change_acc = []\n",
    "    y_change_threshold_acc = []\n",
    "    # prediction_n = []\n",
    "    for [item] in testing_parameter:\n",
    "        #############################################################################\n",
    "        look_back = item\n",
    "        #############################################################################\n",
    "        (X_train, X_test, X_val, y_train, y_test, y_val), testing_days, (scaler_X, scaler_y) = spliting_dataset(forex_dataset, training_end_date, look_back, features, target, include_current_open, normalization)\n",
    "        print(X_train.shape, y_train.shape, X_test.shape, y_test.shape, X_val.shape, y_val.shape)\n",
    "        \n",
    "        data = [X_train, X_test, X_val, y_train, y_test, y_val]\n",
    "        prediction = []\n",
    "        for n in range(n_repeat):\n",
    "            print(f'The current execution is {n+1}/{n_repeat}, with parameter = {item}')\n",
    "            model = model_architecture(data, no_of_LSTM_layers, no_of_Dense_layers, no_of_nodes, activation, n_dropout, opt, loss, epochs, batch_size)\n",
    "            y_pred = model.predict(X_test)\n",
    "            y_pred = scaler_y.inverse_transform(y_pred.reshape(-1,1))\n",
    "            prediction.append(y_pred.reshape(1,-1)[0].tolist())\n",
    "            \n",
    "        mean_prediction = np.mean(prediction, axis = 0).reshape(1,-1)[0]\n",
    "#         std_prediction = np.std(prediction, axis = 0)\n",
    "\n",
    "        y_test = scaler_y.inverse_transform(y_test.reshape(-1,1))\n",
    "        y_test = y_test.reshape(1,-1)[0]\n",
    "        mse_result.append(mean_squared_error(y_test, mean_prediction))\n",
    "\n",
    "        daily_pred_change, daily_test_change, sign_change, threshold_acc = sign_prediction(y_test, mean_prediction, look_back, profit_threshold)    \n",
    "        sign_change_acc.append(sign_change.count(1)/len(sign_change))\n",
    "        y_change_threshold_acc.append(threshold_acc)\n",
    "        # prediction_n.append(prediction)\n",
    "\n",
    "    result = pd.DataFrame(\n",
    "    {   'mse_result' : mse_result,\n",
    "        'sign_change_accuracy' : sign_change_acc,\n",
    "        'y_change_threshold_accurary' : y_change_threshold_acc,\n",
    "         'testing_parameter' : testing_parameter\n",
    "    }).set_index('testing_parameter')\n",
    "\n",
    "    plot_result(testing_days, y_test, y_pred, look_back)\n",
    "    \n",
    "    end_time = time.time()\n",
    "    elapse_time = end_time - start_time\n",
    "    print(f'The elapsed time is {np.floor(elapse_time/60)} minutes and {elapse_time%60:0.0f} seconds.')\n",
    "    return result # model, (X_train, X_test, y_train, y_test, y_pred), "
   ]
  },
  {
   "cell_type": "code",
   "execution_count": 54,
   "metadata": {},
   "outputs": [
    {
     "name": "stdout",
     "output_type": "stream",
     "text": [
      "(4614, 1, 1) (4614, 1, 1) (1317, 1, 1) (1317, 1, 1) (659, 1, 1) (659, 1, 1)\n",
      "The current execution is 1/3, with parameter = 1\n",
      "Epoch 1/30\n",
      "145/145 [==============================] - 7s 13ms/step - loss: 0.2102 - val_loss: 0.1579\n",
      "Epoch 2/30\n",
      "145/145 [==============================] - 1s 9ms/step - loss: 0.1657 - val_loss: 0.1172\n",
      "Epoch 3/30\n",
      "145/145 [==============================] - 1s 10ms/step - loss: 0.1241 - val_loss: 0.0792\n",
      "Epoch 4/30\n",
      "145/145 [==============================] - 1s 9ms/step - loss: 0.0862 - val_loss: 0.0469\n",
      "Epoch 5/30\n",
      "145/145 [==============================] - 1s 10ms/step - loss: 0.0558 - val_loss: 0.0232\n",
      "Epoch 6/30\n",
      "145/145 [==============================] - 1s 9ms/step - loss: 0.0347 - val_loss: 0.0092\n",
      "Epoch 7/30\n",
      "145/145 [==============================] - 1s 8ms/step - loss: 0.0230 - val_loss: 0.0029\n",
      "Epoch 8/30\n",
      "145/145 [==============================] - 1s 8ms/step - loss: 0.0176 - val_loss: 9.2162e-04\n",
      "Epoch 9/30\n",
      "145/145 [==============================] - 1s 8ms/step - loss: 0.0155 - val_loss: 5.7529e-04\n",
      "Epoch 10/30\n",
      "145/145 [==============================] - 1s 8ms/step - loss: 0.0144 - val_loss: 5.7155e-04\n",
      "Epoch 11/30\n",
      "145/145 [==============================] - 1s 9ms/step - loss: 0.0136 - val_loss: 5.8650e-04\n",
      "Epoch 12/30\n",
      "145/145 [==============================] - 1s 9ms/step - loss: 0.0128 - val_loss: 5.6900e-04\n",
      "Epoch 13/30\n",
      "145/145 [==============================] - ETA: 0s - loss: 0.012 - 1s 9ms/step - loss: 0.0120 - val_loss: 5.4460e-04\n",
      "Epoch 14/30\n",
      "145/145 [==============================] - 1s 8ms/step - loss: 0.0112 - val_loss: 5.0369e-04\n",
      "Epoch 15/30\n",
      "145/145 [==============================] - 1s 9ms/step - loss: 0.0103 - val_loss: 4.6091e-04\n",
      "Epoch 16/30\n",
      "145/145 [==============================] - 1s 8ms/step - loss: 0.0094 - val_loss: 4.2645e-04\n",
      "Epoch 17/30\n",
      "145/145 [==============================] - 1s 9ms/step - loss: 0.0085 - val_loss: 3.7064e-04\n",
      "Epoch 18/30\n",
      "145/145 [==============================] - 1s 9ms/step - loss: 0.0076 - val_loss: 3.2842e-04\n",
      "Epoch 19/30\n",
      "145/145 [==============================] - 1s 9ms/step - loss: 0.0068 - val_loss: 2.8205e-04\n",
      "Epoch 20/30\n",
      "145/145 [==============================] - 1s 9ms/step - loss: 0.0059 - val_loss: 2.4898e-04\n",
      "Epoch 21/30\n",
      "145/145 [==============================] - 1s 9ms/step - loss: 0.0051 - val_loss: 1.9688e-04\n",
      "Epoch 22/30\n",
      "145/145 [==============================] - 1s 10ms/step - loss: 0.0043 - val_loss: 1.6526e-04\n",
      "Epoch 23/30\n",
      "145/145 [==============================] - 1s 9ms/step - loss: 0.0036 - val_loss: 1.3822e-04\n",
      "Epoch 24/30\n",
      "145/145 [==============================] - 1s 9ms/step - loss: 0.0029 - val_loss: 1.1278e-04\n",
      "Epoch 25/30\n",
      "145/145 [==============================] - 1s 9ms/step - loss: 0.0024 - val_loss: 9.1798e-05\n",
      "Epoch 26/30\n",
      "145/145 [==============================] - 1s 9ms/step - loss: 0.0019 - val_loss: 8.1703e-05\n",
      "Epoch 27/30\n",
      "145/145 [==============================] - 1s 10ms/step - loss: 0.0014 - val_loss: 7.4291e-05\n",
      "Epoch 28/30\n",
      "145/145 [==============================] - 2s 11ms/step - loss: 0.0011 - val_loss: 7.2163e-05\n",
      "Epoch 29/30\n",
      "145/145 [==============================] - 1s 10ms/step - loss: 8.5596e-04 - val_loss: 6.9686e-05\n",
      "Epoch 30/30\n",
      "145/145 [==============================] - 1s 9ms/step - loss: 6.6466e-04 - val_loss: 7.7765e-05\n",
      "The current execution is 2/3, with parameter = 1\n",
      "Epoch 1/30\n",
      "145/145 [==============================] - 7s 13ms/step - loss: 0.1252 - val_loss: 0.0393\n",
      "Epoch 2/30\n",
      "145/145 [==============================] - 1s 9ms/step - loss: 0.0359 - val_loss: 0.0042\n",
      "Epoch 3/30\n",
      "145/145 [==============================] - 1s 9ms/step - loss: 0.0172 - val_loss: 6.1021e-04\n",
      "Epoch 4/30\n",
      "145/145 [==============================] - 1s 10ms/step - loss: 0.0143 - val_loss: 5.7900e-04\n",
      "Epoch 5/30\n",
      "145/145 [==============================] - 1s 8ms/step - loss: 0.0129 - val_loss: 5.9224e-04\n",
      "Epoch 6/30\n",
      "145/145 [==============================] - 1s 9ms/step - loss: 0.0117 - val_loss: 5.3485e-04\n",
      "Epoch 7/30\n",
      "145/145 [==============================] - 1s 9ms/step - loss: 0.0104 - val_loss: 4.5410e-04\n",
      "Epoch 8/30\n",
      "145/145 [==============================] - 1s 9ms/step - loss: 0.0092 - val_loss: 4.0473e-04\n",
      "Epoch 9/30\n",
      "145/145 [==============================] - 1s 10ms/step - loss: 0.0080 - val_loss: 3.4909e-04\n",
      "Epoch 10/30\n",
      "145/145 [==============================] - 1s 10ms/step - loss: 0.0069 - val_loss: 2.9631e-04\n",
      "Epoch 11/30\n",
      "145/145 [==============================] - 1s 9ms/step - loss: 0.0058 - val_loss: 2.4213e-04\n",
      "Epoch 12/30\n",
      "145/145 [==============================] - 1s 9ms/step - loss: 0.0048 - val_loss: 1.9949e-04\n",
      "Epoch 13/30\n",
      "145/145 [==============================] - 1s 9ms/step - loss: 0.0039 - val_loss: 1.5233e-04\n",
      "Epoch 14/30\n",
      "145/145 [==============================] - 1s 9ms/step - loss: 0.0031 - val_loss: 1.2142e-04\n",
      "Epoch 15/30\n",
      "145/145 [==============================] - 1s 9ms/step - loss: 0.0024 - val_loss: 9.3466e-05\n",
      "Epoch 16/30\n",
      "145/145 [==============================] - 1s 9ms/step - loss: 0.0018 - val_loss: 7.5976e-05\n",
      "Epoch 17/30\n",
      "145/145 [==============================] - 1s 9ms/step - loss: 0.0014 - val_loss: 6.9315e-05\n",
      "Epoch 18/30\n",
      "145/145 [==============================] - 1s 9ms/step - loss: 9.9849e-04 - val_loss: 6.3322e-05\n",
      "Epoch 19/30\n",
      "145/145 [==============================] - 1s 9ms/step - loss: 7.4028e-04 - val_loss: 6.6718e-05: 7.4125e-0\n",
      "Epoch 20/30\n",
      "145/145 [==============================] - 1s 9ms/step - loss: 5.5991e-04 - val_loss: 7.4394e-05\n",
      "Epoch 21/30\n",
      "145/145 [==============================] - 1s 8ms/step - loss: 4.4069e-04 - val_loss: 7.7818e-05\n",
      "Epoch 22/30\n",
      "145/145 [==============================] - 1s 9ms/step - loss: 3.6606e-04 - val_loss: 8.4221e-05\n",
      "Epoch 23/30\n",
      "145/145 [==============================] - 1s 9ms/step - loss: 3.2087e-04 - val_loss: 9.1054e-05\n",
      "The current execution is 3/3, with parameter = 1\n",
      "Epoch 1/30\n",
      "145/145 [==============================] - 6s 13ms/step - loss: 0.1487 - val_loss: 0.0601\n",
      "Epoch 2/30\n",
      "145/145 [==============================] - 1s 9ms/step - loss: 0.0543 - val_loss: 0.0120\n",
      "Epoch 3/30\n",
      "145/145 [==============================] - 1s 9ms/step - loss: 0.0243 - val_loss: 0.0015\n",
      "Epoch 4/30\n",
      "145/145 [==============================] - 1s 9ms/step - loss: 0.0178 - val_loss: 6.4299e-04\n",
      "Epoch 5/30\n",
      "145/145 [==============================] - 1s 9ms/step - loss: 0.0160 - val_loss: 6.6792e-04\n",
      "Epoch 6/30\n",
      "145/145 [==============================] - 1s 9ms/step - loss: 0.0148 - val_loss: 6.4648e-04\n",
      "Epoch 7/30\n",
      "145/145 [==============================] - 1s 9ms/step - loss: 0.0136 - val_loss: 6.0894e-04\n",
      "Epoch 8/30\n",
      "145/145 [==============================] - 1s 9ms/step - loss: 0.0124 - val_loss: 5.3620e-04\n",
      "Epoch 9/30\n",
      "145/145 [==============================] - 1s 9ms/step - loss: 0.0112 - val_loss: 4.8398e-04\n",
      "Epoch 10/30\n",
      "145/145 [==============================] - 1s 9ms/step - loss: 0.0100 - val_loss: 4.3970e-04\n",
      "Epoch 11/30\n",
      "145/145 [==============================] - 1s 9ms/step - loss: 0.0088 - val_loss: 3.7431e-04\n",
      "Epoch 12/30\n",
      "145/145 [==============================] - 1s 9ms/step - loss: 0.0077 - val_loss: 3.2231e-04\n",
      "Epoch 13/30\n",
      "145/145 [==============================] - 1s 9ms/step - loss: 0.0066 - val_loss: 2.7973e-04\n",
      "Epoch 14/30\n",
      "145/145 [==============================] - 1s 10ms/step - loss: 0.0056 - val_loss: 2.2994e-04\n",
      "Epoch 15/30\n",
      "145/145 [==============================] - 1s 9ms/step - loss: 0.0046 - val_loss: 1.7937e-04\n",
      "Epoch 16/30\n",
      "145/145 [==============================] - 1s 10ms/step - loss: 0.0038 - val_loss: 1.4192e-04\n",
      "Epoch 17/30\n",
      "145/145 [==============================] - 1s 10ms/step - loss: 0.0030 - val_loss: 1.1363e-04\n",
      "Epoch 18/30\n",
      "145/145 [==============================] - 1s 10ms/step - loss: 0.0024 - val_loss: 9.1672e-05\n",
      "Epoch 19/30\n",
      "145/145 [==============================] - 2s 11ms/step - loss: 0.0018 - val_loss: 7.5947e-05\n",
      "Epoch 20/30\n",
      "145/145 [==============================] - 2s 12ms/step - loss: 0.0014 - val_loss: 6.9875e-05\n",
      "Epoch 21/30\n",
      "145/145 [==============================] - 1s 9ms/step - loss: 0.0010 - val_loss: 7.8269e-05\n",
      "Epoch 22/30\n",
      "145/145 [==============================] - 2s 11ms/step - loss: 7.7856e-04 - val_loss: 7.5353e-05\n",
      "Epoch 23/30\n"
     ]
    },
    {
     "name": "stdout",
     "output_type": "stream",
     "text": [
      "145/145 [==============================] - 2s 12ms/step - loss: 6.0107e-04 - val_loss: 8.1753e-05\n",
      "Epoch 24/30\n",
      "145/145 [==============================] - 2s 12ms/step - loss: 4.8099e-04 - val_loss: 8.8619e-05\n",
      "Epoch 25/30\n",
      "145/145 [==============================] - 1s 10ms/step - loss: 4.0360e-04 - val_loss: 1.1207e-04\n",
      "(4613, 1, 1) (4613, 1, 1) (1316, 1, 1) (1316, 1, 1) (658, 1, 1) (658, 1, 1)\n",
      "The current execution is 1/3, with parameter = 2\n",
      "Epoch 1/30\n",
      "145/145 [==============================] - 7s 13ms/step - loss: 0.1309 - val_loss: 0.0454\n",
      "Epoch 2/30\n",
      "145/145 [==============================] - 1s 8ms/step - loss: 0.0409 - val_loss: 0.0067\n",
      "Epoch 3/30\n",
      "145/145 [==============================] - 1s 9ms/step - loss: 0.0186 - val_loss: 8.1582e-04\n",
      "Epoch 4/30\n",
      "145/145 [==============================] - 1s 9ms/step - loss: 0.0147 - val_loss: 5.8454e-04\n",
      "Epoch 5/30\n",
      "145/145 [==============================] - 1s 10ms/step - loss: 0.0133 - val_loss: 5.9465e-04\n",
      "Epoch 6/30\n",
      "145/145 [==============================] - 1s 8ms/step - loss: 0.0122 - val_loss: 5.4911e-04\n",
      "Epoch 7/30\n",
      "145/145 [==============================] - 1s 10ms/step - loss: 0.0110 - val_loss: 4.9788e-04\n",
      "Epoch 8/30\n",
      "145/145 [==============================] - 1s 10ms/step - loss: 0.0099 - val_loss: 4.5173e-04\n",
      "Epoch 9/30\n",
      "145/145 [==============================] - 1s 9ms/step - loss: 0.0087 - val_loss: 4.1084e-04\n",
      "Epoch 10/30\n",
      "145/145 [==============================] - 1s 9ms/step - loss: 0.0076 - val_loss: 3.5768e-04\n",
      "Epoch 11/30\n",
      "145/145 [==============================] - 1s 10ms/step - loss: 0.0065 - val_loss: 2.9613e-04\n",
      "Epoch 12/30\n",
      "145/145 [==============================] - 1s 9ms/step - loss: 0.0056 - val_loss: 2.4182e-04\n",
      "Epoch 13/30\n",
      "145/145 [==============================] - 1s 9ms/step - loss: 0.0046 - val_loss: 2.2036e-04\n",
      "Epoch 14/30\n",
      "145/145 [==============================] - 1s 9ms/step - loss: 0.0038 - val_loss: 1.7634e-04\n",
      "Epoch 15/30\n",
      "145/145 [==============================] - 1s 9ms/step - loss: 0.0031 - val_loss: 1.4812e-04\n",
      "Epoch 16/30\n",
      "145/145 [==============================] - 1s 10ms/step - loss: 0.0024 - val_loss: 1.2824e-04\n",
      "Epoch 17/30\n",
      "145/145 [==============================] - 1s 10ms/step - loss: 0.0019 - val_loss: 1.1338e-04\n",
      "Epoch 18/30\n",
      "145/145 [==============================] - 1s 9ms/step - loss: 0.0015 - val_loss: 1.1086e-04\n",
      "Epoch 19/30\n",
      "145/145 [==============================] - 1s 9ms/step - loss: 0.0011 - val_loss: 1.0614e-04\n",
      "Epoch 20/30\n",
      "145/145 [==============================] - 1s 9ms/step - loss: 8.8610e-04 - val_loss: 1.1036e-04\n",
      "Epoch 21/30\n",
      "145/145 [==============================] - 1s 8ms/step - loss: 7.0922e-04 - val_loss: 1.1551e-04\n",
      "Epoch 22/30\n",
      "145/145 [==============================] - 1s 9ms/step - loss: 5.8982e-04 - val_loss: 1.3394e-04\n",
      "Epoch 23/30\n",
      "145/145 [==============================] - 1s 9ms/step - loss: 5.1304e-04 - val_loss: 1.4669e-04\n",
      "Epoch 24/30\n",
      "145/145 [==============================] - 1s 9ms/step - loss: 4.6498e-04 - val_loss: 1.5673e-04\n",
      "The current execution is 2/3, with parameter = 2\n",
      "Epoch 1/30\n",
      "145/145 [==============================] - 6s 13ms/step - loss: 0.1348 - val_loss: 0.0462\n",
      "Epoch 2/30\n",
      "145/145 [==============================] - 1s 9ms/step - loss: 0.0415 - val_loss: 0.0065\n",
      "Epoch 3/30\n",
      "145/145 [==============================] - 1s 9ms/step - loss: 0.0191 - val_loss: 8.0768e-04\n",
      "Epoch 4/30\n",
      "145/145 [==============================] - 1s 10ms/step - loss: 0.0151 - val_loss: 6.1935e-04\n",
      "Epoch 5/30\n",
      "145/145 [==============================] - 1s 10ms/step - loss: 0.0138 - val_loss: 6.0547e-04\n",
      "Epoch 6/30\n",
      "145/145 [==============================] - 1s 10ms/step - loss: 0.0126 - val_loss: 5.6946e-04\n",
      "Epoch 7/30\n",
      "145/145 [==============================] - 1s 9ms/step - loss: 0.0114 - val_loss: 5.1339e-04\n",
      "Epoch 8/30\n",
      "145/145 [==============================] - 1s 9ms/step - loss: 0.0102 - val_loss: 4.5262e-04\n",
      "Epoch 9/30\n",
      "145/145 [==============================] - 1s 9ms/step - loss: 0.0090 - val_loss: 4.1573e-04\n",
      "Epoch 10/30\n",
      "145/145 [==============================] - 1s 9ms/step - loss: 0.0079 - val_loss: 3.5392e-04\n",
      "Epoch 11/30\n",
      "145/145 [==============================] - 1s 10ms/step - loss: 0.0068 - val_loss: 3.0937e-04\n",
      "Epoch 12/30\n",
      "145/145 [==============================] - 1s 9ms/step - loss: 0.0058 - val_loss: 2.5545e-04\n",
      "Epoch 13/30\n",
      "145/145 [==============================] - 1s 9ms/step - loss: 0.0048 - val_loss: 2.0886e-04\n",
      "Epoch 14/30\n",
      "145/145 [==============================] - 1s 9ms/step - loss: 0.0040 - val_loss: 1.8186e-04\n",
      "Epoch 15/30\n",
      "145/145 [==============================] - 1s 9ms/step - loss: 0.0032 - val_loss: 1.5096e-04\n",
      "Epoch 16/30\n",
      "145/145 [==============================] - 1s 9ms/step - loss: 0.0025 - val_loss: 1.3121e-04\n",
      "Epoch 17/30\n",
      "145/145 [==============================] - 1s 9ms/step - loss: 0.0020 - val_loss: 1.1571e-04\n",
      "Epoch 18/30\n",
      "145/145 [==============================] - 1s 9ms/step - loss: 0.0015 - val_loss: 1.1119e-04\n",
      "Epoch 19/30\n",
      "145/145 [==============================] - 1s 9ms/step - loss: 0.0012 - val_loss: 1.0526e-04\n",
      "Epoch 20/30\n",
      "145/145 [==============================] - 1s 9ms/step - loss: 9.2214e-04 - val_loss: 1.2008e-04\n",
      "Epoch 21/30\n",
      "145/145 [==============================] - 1s 9ms/step - loss: 7.3754e-04 - val_loss: 1.2454e-04\n",
      "Epoch 22/30\n",
      "145/145 [==============================] - 1s 9ms/step - loss: 6.1196e-04 - val_loss: 1.2875e-04\n",
      "Epoch 23/30\n",
      "145/145 [==============================] - 1s 9ms/step - loss: 5.3079e-04 - val_loss: 1.4265e-04\n",
      "Epoch 24/30\n",
      "145/145 [==============================] - 1s 10ms/step - loss: 4.8107e-04 - val_loss: 1.6956e-04\n",
      "The current execution is 3/3, with parameter = 2\n",
      "Epoch 1/30\n",
      "145/145 [==============================] - 6s 12ms/step - loss: 0.1573 - val_loss: 0.0724\n",
      "Epoch 2/30\n",
      "145/145 [==============================] - 1s 9ms/step - loss: 0.0640 - val_loss: 0.0181\n",
      "Epoch 3/30\n",
      "145/145 [==============================] - 1s 9ms/step - loss: 0.0276 - val_loss: 0.0028\n",
      "Epoch 4/30\n",
      "145/145 [==============================] - 1s 9ms/step - loss: 0.0179 - val_loss: 6.7910e-04\n",
      "Epoch 5/30\n",
      "145/145 [==============================] - 1s 9ms/step - loss: 0.0156 - val_loss: 6.3544e-04\n",
      "Epoch 6/30\n",
      "145/145 [==============================] - 1s 10ms/step - loss: 0.0145 - val_loss: 6.3871e-04\n",
      "Epoch 7/30\n",
      "145/145 [==============================] - 2s 12ms/step - loss: 0.0134 - val_loss: 6.1664e-04\n",
      "Epoch 8/30\n",
      "145/145 [==============================] - 2s 12ms/step - loss: 0.0123 - val_loss: 5.6275e-04\n",
      "Epoch 9/30\n",
      "145/145 [==============================] - 1s 10ms/step - loss: 0.0111 - val_loss: 5.1691e-04\n",
      "Epoch 10/30\n",
      "145/145 [==============================] - 2s 12ms/step - loss: 0.0100 - val_loss: 4.6998e-04\n",
      "Epoch 11/30\n",
      "145/145 [==============================] - 1s 9ms/step - loss: 0.0089 - val_loss: 4.0298e-04\n",
      "Epoch 12/30\n",
      "145/145 [==============================] - 1s 9ms/step - loss: 0.0078 - val_loss: 3.5053e-04\n",
      "Epoch 13/30\n",
      "145/145 [==============================] - 1s 9ms/step - loss: 0.0068 - val_loss: 3.0451e-04\n",
      "Epoch 14/30\n",
      "145/145 [==============================] - 1s 9ms/step - loss: 0.0058 - val_loss: 2.5756e-04\n",
      "Epoch 15/30\n",
      "145/145 [==============================] - 1s 9ms/step - loss: 0.0049 - val_loss: 2.1507e-04\n",
      "Epoch 16/30\n",
      "145/145 [==============================] - 1s 9ms/step - loss: 0.0041 - val_loss: 1.8192e-04\n",
      "Epoch 17/30\n",
      "145/145 [==============================] - 1s 9ms/step - loss: 0.0033 - val_loss: 1.5278e-04\n",
      "Epoch 18/30\n",
      "145/145 [==============================] - 1s 9ms/step - loss: 0.0027 - val_loss: 1.3255e-04\n",
      "Epoch 19/30\n",
      "145/145 [==============================] - 1s 9ms/step - loss: 0.0021 - val_loss: 1.1974e-04\n",
      "Epoch 20/30\n",
      "145/145 [==============================] - 1s 9ms/step - loss: 0.0017 - val_loss: 1.1162e-04\n",
      "Epoch 21/30\n",
      "145/145 [==============================] - 1s 9ms/step - loss: 0.0013 - val_loss: 1.0253e-04\n",
      "Epoch 22/30\n",
      "145/145 [==============================] - 1s 9ms/step - loss: 0.0010 - val_loss: 1.2002e-04\n",
      "Epoch 23/30\n",
      "145/145 [==============================] - 1s 9ms/step - loss: 8.4282e-04 - val_loss: 1.1878e-04\n",
      "Epoch 24/30\n",
      "145/145 [==============================] - 1s 9ms/step - loss: 7.0156e-04 - val_loss: 1.4191e-04\n",
      "Epoch 25/30\n"
     ]
    },
    {
     "name": "stdout",
     "output_type": "stream",
     "text": [
      "145/145 [==============================] - 1s 8ms/step - loss: 6.0548e-04 - val_loss: 1.4277e-04\n",
      "Epoch 26/30\n",
      "145/145 [==============================] - 1s 8ms/step - loss: 5.4118e-04 - val_loss: 1.5107e-04\n",
      "The elapsed time is 4.0 minutes and 35 seconds.\n"
     ]
    },
    {
     "data": {
      "image/png": "[encoded data removed]",
      "text/plain": [
       "<Figure size 1152x576 with 1 Axes>"
      ]
     },
     "metadata": {
      "needs_background": "light"
     },
     "output_type": "display_data"
    }
   ],
   "source": [
    "def main_function():\n",
    "    forex_dataset = pd.read_csv('Data/Historical forex rate/JPY=X.csv')\n",
    "    forex_dataset.interpolate(inplace = True)\n",
    "    forex_dataset.drop(['Adj Close','Volume'], axis = 1, inplace = True)\n",
    "    forex_dataset['Date'] = pd.to_datetime(forex_dataset['Date'], format = '%d/%m/%Y')\n",
    "    forex_dataset.set_index('Date', inplace= True)\n",
    "    return experiment(forex_dataset, testing_parameter = [[1],[2]]) # final_model, (X_train, X_test, y_train, y_test, y_pred), \n",
    "result = main_function()"
   ]
  },
  {
   "cell_type": "code",
   "execution_count": 55,
   "metadata": {},
   "outputs": [
    {
     "data": {
      "text/html": [
       "<div>\n",
       "<style scoped>\n",
       "    .dataframe tbody tr th:only-of-type {\n",
       "        vertical-align: middle;\n",
       "    }\n",
       "\n",
       "    .dataframe tbody tr th {\n",
       "        vertical-align: top;\n",
       "    }\n",
       "\n",
       "    .dataframe thead th {\n",
       "        text-align: right;\n",
       "    }\n",
       "</style>\n",
       "<table border=\"1\" class=\"dataframe\">\n",
       "  <thead>\n",
       "    <tr style=\"text-align: right;\">\n",
       "      <th></th>\n",
       "      <th>mse_result</th>\n",
       "      <th>sign_change_accuracy</th>\n",
       "      <th>y_change_threshold_accurary</th>\n",
       "    </tr>\n",
       "    <tr>\n",
       "      <th>testing_parameter</th>\n",
       "      <th></th>\n",
       "      <th></th>\n",
       "      <th></th>\n",
       "    </tr>\n",
       "  </thead>\n",
       "  <tbody>\n",
       "    <tr>\n",
       "      <th>[1]</th>\n",
       "      <td>0.805532</td>\n",
       "      <td>0.466565</td>\n",
       "      <td>0.838017</td>\n",
       "    </tr>\n",
       "    <tr>\n",
       "      <th>[2]</th>\n",
       "      <td>1.116876</td>\n",
       "      <td>0.496195</td>\n",
       "      <td>0.817901</td>\n",
       "    </tr>\n",
       "  </tbody>\n",
       "</table>\n",
       "</div>"
      ],
      "text/plain": [
       "                   mse_result  sign_change_accuracy  \\\n",
       "testing_parameter                                     \n",
       "[1]                  0.805532              0.466565   \n",
       "[2]                  1.116876              0.496195   \n",
       "\n",
       "                   y_change_threshold_accurary  \n",
       "testing_parameter                               \n",
       "[1]                                   0.838017  \n",
       "[2]                                   0.817901  "
      ]
     },
     "execution_count": 55,
     "metadata": {},
     "output_type": "execute_result"
    }
   ],
   "source": [
    "result"
   ]
  },
  {
   "cell_type": "code",
   "execution_count": null,
   "metadata": {},
   "outputs": [],
   "source": [
    "# # Writing result to an Excel file\n",
    "# from openpyxl import load_workbook\n",
    "# filename_result = 'Result/Forex Prediction Result.xlsx'\n",
    "# wb_result = load_workbook(filename_result)\n",
    "# ws_result = wb_result.worksheets[0]\n",
    "\n",
    "# # Title\n",
    "# ws_result['A1'] = 'Analysis Date'\n",
    "# ws_result['B1'] = 'Testing period'\n",
    "# ws_result['C1'] = 'LSTM Architecture' \n",
    "# ws_result['D1'] = 'MSE Result'\n",
    "\n",
    "# for i in range(1,10000):\n",
    "#     if ws_result['A'+str(i+1)] != '':\n",
    "#         ws_result['A'+str(i+1)] = today\n",
    "# wb_result.save(filename_result)"
   ]
  },
  {
   "cell_type": "code",
   "execution_count": null,
   "metadata": {},
   "outputs": [],
   "source": [
    "# from datetime import date\n",
    "\n",
    "# today = date.today()\n",
    "# print(\"Today's date:\", today)"
   ]
  }
 ],
 "metadata": {
  "kernelspec": {
   "display_name": "Python 3",
   "language": "python",
   "name": "python3"
  },
  "language_info": {
   "codemirror_mode": {
    "name": "ipython",
    "version": 3
   },
   "file_extension": ".py",
   "mimetype": "text/x-python",
   "name": "python",
   "nbconvert_exporter": "python",
   "pygments_lexer": "ipython3",
   "version": "3.7.3"
  }
 },
 "nbformat": 4,
 "nbformat_minor": 2
}
